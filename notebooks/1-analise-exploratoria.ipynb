{
 "cells": [
  {
   "cell_type": "markdown",
   "metadata": {},
   "source": [
    "# Teste Técnico para Ciência de Dados da Keyrus"
   ]
  },
  {
   "cell_type": "markdown",
   "metadata": {},
   "source": [
    "## 1ª parte: Análise Exploratória\n",
    "\n",
    "- [x] Tipos de variáveis\n",
    "- [ ] Medidas de posição\n",
    "- [ ] Medidas de dispersão\n",
    "- [x] Tratamento de Missing Values\n",
    "- [ ] Gráficos\n",
    "- [x] Análise de Outliers\n",
    "\n",
    "## 2ª parte: Estatística\n",
    "\n",
    "- [ ] Estatística descritiva\n",
    "- [ ] Identificação das distribuições das variáveis\n",
    "\n",
    "## 3ª parte: Modelagem\n",
    "\n",
    "- [ ] Modelos de previsão\n",
    "- [ ] Escolha de melhor modelo\n",
    "- [ ] Avaliação de resultados\n",
    "- [ ] Métricas"
   ]
  },
  {
   "cell_type": "markdown",
   "metadata": {},
   "source": [
    "## Imports"
   ]
  },
  {
   "cell_type": "code",
   "execution_count": 70,
   "metadata": {},
   "outputs": [],
   "source": [
    "# Data analysis and data wrangling\n",
    "import numpy as np\n",
    "import pandas as pd\n",
    "\n",
    "# Plotting\n",
    "import seaborn as sns\n",
    "import matplotlib.pyplot as plt\n",
    "import missingno as msno # missing values\n",
    "\n",
    "# Preprocessing\n",
    "from sklearn.preprocessing import LabelEncoder\n",
    "\n",
    "# Other\n",
    "from IPython.display import Image\n",
    "import configparser\n",
    "import warnings\n",
    "import pprint\n",
    "import os"
   ]
  },
  {
   "cell_type": "markdown",
   "metadata": {},
   "source": [
    "## Preparação do Diretório Principal"
   ]
  },
  {
   "cell_type": "code",
   "execution_count": 71,
   "metadata": {},
   "outputs": [],
   "source": [
    "def prepare_directory_work(end_directory: str='notebooks'):\n",
    "    # Current path\n",
    "    curr_dir = os.path.dirname (os.path.realpath (\"__file__\")) \n",
    "    \n",
    "    if curr_dir.endswith(end_directory):\n",
    "        os.chdir('..')\n",
    "        return curr_dir\n",
    "    \n",
    "    return f'Current working directory: {curr_dir}'"
   ]
  },
  {
   "cell_type": "code",
   "execution_count": 72,
   "metadata": {},
   "outputs": [
    {
     "data": {
      "text/plain": [
       "'Current working directory: /home/campos/projetos/challenges/challenge-keyrus'"
      ]
     },
     "execution_count": 72,
     "metadata": {},
     "output_type": "execute_result"
    }
   ],
   "source": [
    "prepare_directory_work(end_directory='notebooks')"
   ]
  },
  {
   "cell_type": "markdown",
   "metadata": {},
   "source": [
    "## Preparação do Ambiente"
   ]
  },
  {
   "cell_type": "code",
   "execution_count": 73,
   "metadata": {
    "scrolled": true
   },
   "outputs": [
    {
     "name": "stdout",
     "output_type": "stream",
     "text": [
      "Requirements this project:\n",
      "\n",
      "pandas==0.24.2\n",
      "seaborn==0.9.0\n",
      "matplotlib==3.1.0\n",
      "numpy==1.16.4\n",
      "missingno==0.4.1\n",
      "ipython==7.5.0\n",
      "scikit_learn==0.21.2\n",
      "atlas==0.27.0\n",
      "\n",
      "--------------------------------------------------\n",
      "Configuration Environment:\n",
      "\n",
      "OS:\n",
      "Linux\n",
      "Distributor ID:\tUbuntu\n",
      "Description:\tUbuntu 19.04\n",
      "Release:\t19.04\n",
      "Codename:\tdisco\n",
      "\n",
      "Python Version:\n",
      "Python 3.7.3\n",
      "\n",
      "Pip Version:\n",
      "pip 19.1.1 from /home/campos/projetos/venv_global/lib/python3.7/site-packages/pip (python 3.7)\n",
      "\n",
      "Jupyter Version:\n",
      "jupyter core     : 4.5.0\n",
      "jupyter-notebook : 5.7.8\n",
      "qtconsole        : 4.5.1\n",
      "ipython          : 7.5.0\n",
      "ipykernel        : 5.1.1\n",
      "jupyter client   : 5.2.4\n",
      "jupyter lab      : not installed\n",
      "nbconvert        : 5.5.0\n",
      "ipywidgets       : 7.4.2\n",
      "nbformat         : 4.4.0\n",
      "traitlets        : 4.3.2\n",
      "\n",
      "--------------------------------------------------\n",
      "\n",
      "Disk Usage:\n",
      "\n",
      "data:\n",
      "6,7M\tdata/\n",
      "\n",
      "virtual env:\n",
      "658M\tvenv_keyrus/\n",
      "\n",
      "all:\n",
      "676M\t.\n",
      "\n",
      "--------------------------------------------------\n",
      "Structure This Project:\n",
      "\n",
      ".\n",
      "├── data\n",
      "│   ├── callcenter_descricao.txt\n",
      "│   ├── cleansing\n",
      "│   │   └── callcenter_marketing_clenning.csv\n",
      "│   └── raw\n",
      "│       └── callcenter_marketing.csv\n",
      "├── __init__.py\n",
      "├── LICENSE\n",
      "├── notebooks\n",
      "│   ├── 1-analise-exploratoria.ipynb\n",
      "│   ├── 2-estatistica.ipynb\n",
      "│   └── 3-modelagem.ipynb\n",
      "├── README.md\n",
      "├── references\n",
      "│   ├── processo_seletivo_ciencia_de_dados_keyrus.pdf\n",
      "│   └── teste_tecnico.zip\n",
      "├── reports\n",
      "│   └── callcenter_marketing_clenning.csv\n",
      "├── requirements.txt\n",
      "├── src\n",
      "│   ├── environment\n",
      "│   │   ├── config_environment.txt\n",
      "│   │   ├── create_requirements.sh\n",
      "│   │   ├── create_virtual_env.sh\n",
      "│   │   ├── __init__.py\n",
      "│   │   ├── makefile\n",
      "│   │   ├── prepare_env.py\n",
      "│   │   ├── README.md\n",
      "│   │   ├── show_config_environment.sh\n",
      "│   │   ├── show_struture_project.sh\n",
      "│   │   ├── struture_project.txt\n",
      "│   │   ├── test_environment.py\n",
      "│   │   └── virtualenv_requirements.txt\n",
      "│   ├── __init__.py\n",
      "│   └── visualization\n",
      "│       └── plot_config.ini\n",
      "└── venv_keyrus\n",
      "\n",
      "10 directories, 27 files\n",
      "\n",
      "--------------------------------------------------\n"
     ]
    }
   ],
   "source": [
    "from src.environment.prepare_env import *\n",
    "\n",
    "\n",
    "main()"
   ]
  },
  {
   "cell_type": "markdown",
   "metadata": {},
   "source": [
    "## Cell Format"
   ]
  },
  {
   "cell_type": "code",
   "execution_count": 74,
   "metadata": {
    "scrolled": true
   },
   "outputs": [],
   "source": [
    "config = configparser.ConfigParser()\n",
    "config.read('src/visualization/plot_config.ini')\n",
    "\n",
    "figure_titlesize = config['figure']['figure_titlesize']\n",
    "figure_figsize_large = int(config['figure']['figure_figsize_large'])\n",
    "figure_figsize_width = int(config['figure']['figure_figsize_width'])\n",
    "figure_dpi = int(config['figure']['figure_dpi'])\n",
    "figure_facecolor = config['figure']['figure_facecolor']\n",
    "figure_autolayout = bool(config['figure']['figure_autolayout'])\n",
    "\n",
    "font_family = config['font']['font_family']\n",
    "font_size = int(config['font']['font_size'])\n",
    "\n",
    "legend_loc = config['legend']['legend_loc']\n",
    "legend_fontsize = int(config['legend']['legend_fontsize'])"
   ]
  },
  {
   "cell_type": "code",
   "execution_count": 75,
   "metadata": {},
   "outputs": [],
   "source": [
    "# Customizing file matplotlibrc\n",
    "\n",
    "# Figure\n",
    "plt.rcParams['figure.titlesize'] = figure_titlesize\n",
    "plt.rcParams['figure.figsize'] = [figure_figsize_large, figure_figsize_width] \n",
    "plt.rcParams['figure.dpi'] = figure_dpi\n",
    "plt.rcParams['figure.facecolor'] = figure_facecolor\n",
    "plt.rcParams['figure.autolayout'] = figure_autolayout\n",
    "\n",
    "# Font\n",
    "plt.rcParams['font.family'] = font_family\n",
    "plt.rcParams['font.size'] = font_size\n",
    "\n",
    "# Legend\n",
    "plt.rcParams['legend.loc'] = legend_loc\n",
    "plt.rcParams['legend.fontsize'] = legend_fontsize"
   ]
  },
  {
   "cell_type": "code",
   "execution_count": 76,
   "metadata": {},
   "outputs": [
    {
     "name": "stdout",
     "output_type": "stream",
     "text": [
      "The autoreload extension is already loaded. To reload it, use:\n",
      "  %reload_ext autoreload\n"
     ]
    }
   ],
   "source": [
    "# Guarantees visualization inside the jupyter\n",
    "%matplotlib inline\n",
    "\n",
    "# OPTIONAL: Load the \"autoreload\" extension so that code can change\n",
    "%load_ext autoreload\n",
    "\n",
    "# Format the data os all table (float_format 3)\n",
    "pd.set_option('display.float_format', '{:.6}'.format)\n",
    "\n",
    "# Print xxxx rows and columns\n",
    "pd.set_option('display.max_rows', None)\n",
    "pd.set_option('display.max_columns', None)\n",
    "\n",
    "# Supress unnecessary warnings so that presentation looks clean\n",
    "warnings.filterwarnings('ignore')\n",
    "\n",
    "# pretty print\n",
    "pp = pprint.PrettyPrinter(indent=4)"
   ]
  },
  {
   "cell_type": "markdown",
   "metadata": {},
   "source": [
    "## Carregamento dos Dados\n",
    "\n",
    "Irei trabalhar com dataframe."
   ]
  },
  {
   "cell_type": "code",
   "execution_count": 77,
   "metadata": {
    "scrolled": true
   },
   "outputs": [
    {
     "name": "stdout",
     "output_type": "stream",
     "text": [
      "Tokenization took: 45.41 ms\n",
      "Type conversion took: 42.05 ms\n",
      "Parser memory cleanup took: 0.01 ms\n",
      "Tokenization took: 6.89 ms\n",
      "Type conversion took: 8.34 ms\n",
      "Parser memory cleanup took: 0.00 ms\n",
      "CPU times: user 113 ms, sys: 11 ms, total: 124 ms\n",
      "Wall time: 122 ms\n"
     ]
    }
   ],
   "source": [
    "%%time\n",
    "\n",
    "df_callcenter = pd.read_csv('data/raw/callcenter_marketing.csv', \n",
    "                            encoding='utf8',\n",
    "                            delimiter=',',\n",
    "                            verbose=True)"
   ]
  },
  {
   "cell_type": "markdown",
   "metadata": {},
   "source": [
    "## Variáveis Globais"
   ]
  },
  {
   "cell_type": "code",
   "execution_count": 78,
   "metadata": {},
   "outputs": [],
   "source": [
    "# Lists that will be manipulated in the data processing\n",
    "list_columns = []\n",
    "list_categorical_col = []\n",
    "list_numerical_col = []"
   ]
  },
  {
   "cell_type": "code",
   "execution_count": 79,
   "metadata": {
    "scrolled": false
   },
   "outputs": [],
   "source": [
    "def get_col(df: 'dataframe', type_descr: 'numpy') -> list:\n",
    "    \"\"\"\n",
    "    Function get list columns \n",
    "    \n",
    "    Args:\n",
    "    type_descr\n",
    "        np.number, np.object -> return list with all columns\n",
    "        np.number            -> return list numerical columns \n",
    "        np.object            -> return list object columns\n",
    "    \"\"\"\n",
    "    try:\n",
    "        col = (df.describe(include=type_descr).columns)  # pandas.core.indexes.base.Index  \n",
    "    except ValueError:\n",
    "        print(f'Dataframe not contains {type_descr} columns !', end='\\n')    \n",
    "    else:\n",
    "        return col.tolist() "
   ]
  },
  {
   "cell_type": "code",
   "execution_count": 80,
   "metadata": {},
   "outputs": [],
   "source": [
    "list_numerical_col = get_col(df=df_callcenter,\n",
    "                             type_descr=np.number)\n",
    "list_categorical_col = get_col(df=df_callcenter,\n",
    "                               type_descr=np.object)\n",
    "list_columns = get_col(df=df_callcenter,\n",
    "                       type_descr=[np.object, np.number])"
   ]
  },
  {
   "cell_type": "markdown",
   "metadata": {},
   "source": [
    "---\n",
    "\n",
    "## Análise Exploratória"
   ]
  },
  {
   "cell_type": "code",
   "execution_count": 81,
   "metadata": {
    "scrolled": false
   },
   "outputs": [
    {
     "name": "stdout",
     "output_type": "stream",
     "text": [
      "O dataset fornece o resultado de uma campanha de marketing para cada usuário (sim - comprou / nao - não comprou)\r\n",
      "\r\n",
      "Temos como variáveis:\r\n",
      "\r\n",
      "Dados do cliente:\r\n",
      "   1 - idade\r\n",
      "   2 - profissao\r\n",
      "   3 - estado_civil\r\n",
      "   4 - educacao\r\n",
      "   5 - inadimplente\r\n",
      "   6 - emprestimo_moradia: possui empréstimo para moradia?\r\n",
      "   7 - emprestimo_pessoal: possui empréstimo pessoal?\r\n",
      "Dados relacionados com últimos contatos:\r\n",
      "   8 - meio_contato: tipo de contato\r\n",
      "   9 - mes: último mês de contato\r\n",
      "  10 - dia_da_semana: último dia da semana de contato\r\n",
      "  11 - duracao: última duração do contato, em segundos. Nota: este atributo causa overfitting no modelo.\r\n",
      "Outras variáveis:\r\n",
      "  12 - qtd_contatos_campanha: number of contacts performed during this campaign and for this client (numeric, includes last contact)\r\n",
      "  13 - dias_ultimo_contato: number of days that passed by after the client was last contacted from a previous campaign (numeric; 999 means client was not previously contacted)\r\n",
      "  14 - qtd_contatos_total: number of contacts performed before this campaign and for this client (numeric)\r\n",
      "  15 - campanha_anterior: outcome of the previous marketing campaign (categorical: \"failure\",\"nonexistent\",\"success\")\r\n",
      "Variáveis de contexto econômico e social:\r\n",
      "  16 - indice_precos_consumidor: mensal \r\n",
      "  17 - indice_confianca_consumidor: mensal\r\n",
      "  18 - euribor3m: EURIBOR (European Interbank Offered Rate) diário\r\n",
      "  19 - numero_empregados: quaternário"
     ]
    }
   ],
   "source": [
    "!cat data/callcenter_descricao.txt"
   ]
  },
  {
   "cell_type": "markdown",
   "metadata": {},
   "source": [
    "#### Notas\n",
    "- O callcenter é voltado à vendas"
   ]
  },
  {
   "cell_type": "markdown",
   "metadata": {},
   "source": [
    "### Análise das Primeiras Linhas"
   ]
  },
  {
   "cell_type": "code",
   "execution_count": 82,
   "metadata": {
    "scrolled": true
   },
   "outputs": [
    {
     "data": {
      "text/html": [
       "<div>\n",
       "<style scoped>\n",
       "    .dataframe tbody tr th:only-of-type {\n",
       "        vertical-align: middle;\n",
       "    }\n",
       "\n",
       "    .dataframe tbody tr th {\n",
       "        vertical-align: top;\n",
       "    }\n",
       "\n",
       "    .dataframe thead th {\n",
       "        text-align: right;\n",
       "    }\n",
       "</style>\n",
       "<table border=\"1\" class=\"dataframe\">\n",
       "  <thead>\n",
       "    <tr style=\"text-align: right;\">\n",
       "      <th></th>\n",
       "      <th>Unnamed: 0</th>\n",
       "      <th>idade</th>\n",
       "      <th>profissao</th>\n",
       "      <th>estado_civil</th>\n",
       "      <th>educacao</th>\n",
       "      <th>inadimplente</th>\n",
       "      <th>emprestimo_moradia</th>\n",
       "      <th>emprestimo_pessoal</th>\n",
       "      <th>meio_contato</th>\n",
       "      <th>mes</th>\n",
       "      <th>dia_da_semana</th>\n",
       "      <th>duracao</th>\n",
       "      <th>qtd_contatos_campanha</th>\n",
       "      <th>dias_ultimo_contato</th>\n",
       "      <th>qtd_contatos_total</th>\n",
       "      <th>campanha_anterior</th>\n",
       "      <th>indice_precos_consumidor</th>\n",
       "      <th>indice_confianca_consumidor</th>\n",
       "      <th>euribor3m</th>\n",
       "      <th>numero_empregados</th>\n",
       "      <th>resultado</th>\n",
       "    </tr>\n",
       "  </thead>\n",
       "  <tbody>\n",
       "    <tr>\n",
       "      <th>0</th>\n",
       "      <td>0</td>\n",
       "      <td>56</td>\n",
       "      <td>dona_casa</td>\n",
       "      <td>casado</td>\n",
       "      <td>fundamental_4a</td>\n",
       "      <td>nao</td>\n",
       "      <td>nao</td>\n",
       "      <td>nao</td>\n",
       "      <td>telefone</td>\n",
       "      <td>mai</td>\n",
       "      <td>seg</td>\n",
       "      <td>261</td>\n",
       "      <td>1</td>\n",
       "      <td>999</td>\n",
       "      <td>0</td>\n",
       "      <td>nao_existente</td>\n",
       "      <td>93.994</td>\n",
       "      <td>-36.4</td>\n",
       "      <td>4.857</td>\n",
       "      <td>5191.0</td>\n",
       "      <td>nao</td>\n",
       "    </tr>\n",
       "    <tr>\n",
       "      <th>1</th>\n",
       "      <td>1</td>\n",
       "      <td>57</td>\n",
       "      <td>servicos</td>\n",
       "      <td>casado</td>\n",
       "      <td>ensino_medio</td>\n",
       "      <td>NaN</td>\n",
       "      <td>nao</td>\n",
       "      <td>nao</td>\n",
       "      <td>telefone</td>\n",
       "      <td>mai</td>\n",
       "      <td>seg</td>\n",
       "      <td>149</td>\n",
       "      <td>1</td>\n",
       "      <td>999</td>\n",
       "      <td>0</td>\n",
       "      <td>nao_existente</td>\n",
       "      <td>93.994</td>\n",
       "      <td>-36.4</td>\n",
       "      <td>4.857</td>\n",
       "      <td>5191.0</td>\n",
       "      <td>nao</td>\n",
       "    </tr>\n",
       "    <tr>\n",
       "      <th>2</th>\n",
       "      <td>2</td>\n",
       "      <td>37</td>\n",
       "      <td>servicos</td>\n",
       "      <td>casado</td>\n",
       "      <td>ensino_medio</td>\n",
       "      <td>nao</td>\n",
       "      <td>sim</td>\n",
       "      <td>nao</td>\n",
       "      <td>telefone</td>\n",
       "      <td>mai</td>\n",
       "      <td>seg</td>\n",
       "      <td>226</td>\n",
       "      <td>1</td>\n",
       "      <td>999</td>\n",
       "      <td>0</td>\n",
       "      <td>nao_existente</td>\n",
       "      <td>93.994</td>\n",
       "      <td>-36.4</td>\n",
       "      <td>4.857</td>\n",
       "      <td>5191.0</td>\n",
       "      <td>nao</td>\n",
       "    </tr>\n",
       "    <tr>\n",
       "      <th>3</th>\n",
       "      <td>3</td>\n",
       "      <td>40</td>\n",
       "      <td>admin.</td>\n",
       "      <td>casado</td>\n",
       "      <td>fundamental_6a</td>\n",
       "      <td>nao</td>\n",
       "      <td>nao</td>\n",
       "      <td>nao</td>\n",
       "      <td>telefone</td>\n",
       "      <td>mai</td>\n",
       "      <td>seg</td>\n",
       "      <td>151</td>\n",
       "      <td>1</td>\n",
       "      <td>999</td>\n",
       "      <td>0</td>\n",
       "      <td>nao_existente</td>\n",
       "      <td>93.994</td>\n",
       "      <td>-36.4</td>\n",
       "      <td>4.857</td>\n",
       "      <td>5191.0</td>\n",
       "      <td>nao</td>\n",
       "    </tr>\n",
       "    <tr>\n",
       "      <th>4</th>\n",
       "      <td>4</td>\n",
       "      <td>56</td>\n",
       "      <td>servicos</td>\n",
       "      <td>casado</td>\n",
       "      <td>ensino_medio</td>\n",
       "      <td>nao</td>\n",
       "      <td>nao</td>\n",
       "      <td>sim</td>\n",
       "      <td>telefone</td>\n",
       "      <td>mai</td>\n",
       "      <td>seg</td>\n",
       "      <td>307</td>\n",
       "      <td>1</td>\n",
       "      <td>999</td>\n",
       "      <td>0</td>\n",
       "      <td>nao_existente</td>\n",
       "      <td>93.994</td>\n",
       "      <td>-36.4</td>\n",
       "      <td>4.857</td>\n",
       "      <td>5191.0</td>\n",
       "      <td>nao</td>\n",
       "    </tr>\n",
       "    <tr>\n",
       "      <th>5</th>\n",
       "      <td>5</td>\n",
       "      <td>45</td>\n",
       "      <td>servicos</td>\n",
       "      <td>casado</td>\n",
       "      <td>fundamental_9a</td>\n",
       "      <td>NaN</td>\n",
       "      <td>nao</td>\n",
       "      <td>nao</td>\n",
       "      <td>telefone</td>\n",
       "      <td>mai</td>\n",
       "      <td>seg</td>\n",
       "      <td>198</td>\n",
       "      <td>1</td>\n",
       "      <td>999</td>\n",
       "      <td>0</td>\n",
       "      <td>nao_existente</td>\n",
       "      <td>93.994</td>\n",
       "      <td>-36.4</td>\n",
       "      <td>4.857</td>\n",
       "      <td>5191.0</td>\n",
       "      <td>nao</td>\n",
       "    </tr>\n",
       "    <tr>\n",
       "      <th>6</th>\n",
       "      <td>6</td>\n",
       "      <td>59</td>\n",
       "      <td>admin.</td>\n",
       "      <td>casado</td>\n",
       "      <td>curso_tecnico</td>\n",
       "      <td>nao</td>\n",
       "      <td>nao</td>\n",
       "      <td>nao</td>\n",
       "      <td>telefone</td>\n",
       "      <td>mai</td>\n",
       "      <td>seg</td>\n",
       "      <td>139</td>\n",
       "      <td>1</td>\n",
       "      <td>999</td>\n",
       "      <td>0</td>\n",
       "      <td>nao_existente</td>\n",
       "      <td>93.994</td>\n",
       "      <td>-36.4</td>\n",
       "      <td>4.857</td>\n",
       "      <td>5191.0</td>\n",
       "      <td>nao</td>\n",
       "    </tr>\n",
       "    <tr>\n",
       "      <th>7</th>\n",
       "      <td>7</td>\n",
       "      <td>41</td>\n",
       "      <td>colarinho_azul</td>\n",
       "      <td>casado</td>\n",
       "      <td>NaN</td>\n",
       "      <td>NaN</td>\n",
       "      <td>nao</td>\n",
       "      <td>nao</td>\n",
       "      <td>telefone</td>\n",
       "      <td>mai</td>\n",
       "      <td>seg</td>\n",
       "      <td>217</td>\n",
       "      <td>1</td>\n",
       "      <td>999</td>\n",
       "      <td>0</td>\n",
       "      <td>nao_existente</td>\n",
       "      <td>93.994</td>\n",
       "      <td>-36.4</td>\n",
       "      <td>4.857</td>\n",
       "      <td>5191.0</td>\n",
       "      <td>nao</td>\n",
       "    </tr>\n",
       "    <tr>\n",
       "      <th>8</th>\n",
       "      <td>8</td>\n",
       "      <td>24</td>\n",
       "      <td>tecnico</td>\n",
       "      <td>solteiro</td>\n",
       "      <td>curso_tecnico</td>\n",
       "      <td>nao</td>\n",
       "      <td>sim</td>\n",
       "      <td>nao</td>\n",
       "      <td>telefone</td>\n",
       "      <td>mai</td>\n",
       "      <td>seg</td>\n",
       "      <td>380</td>\n",
       "      <td>1</td>\n",
       "      <td>999</td>\n",
       "      <td>0</td>\n",
       "      <td>nao_existente</td>\n",
       "      <td>93.994</td>\n",
       "      <td>-36.4</td>\n",
       "      <td>4.857</td>\n",
       "      <td>5191.0</td>\n",
       "      <td>nao</td>\n",
       "    </tr>\n",
       "    <tr>\n",
       "      <th>9</th>\n",
       "      <td>9</td>\n",
       "      <td>25</td>\n",
       "      <td>servicos</td>\n",
       "      <td>solteiro</td>\n",
       "      <td>ensino_medio</td>\n",
       "      <td>nao</td>\n",
       "      <td>sim</td>\n",
       "      <td>nao</td>\n",
       "      <td>telefone</td>\n",
       "      <td>mai</td>\n",
       "      <td>seg</td>\n",
       "      <td>50</td>\n",
       "      <td>1</td>\n",
       "      <td>999</td>\n",
       "      <td>0</td>\n",
       "      <td>nao_existente</td>\n",
       "      <td>93.994</td>\n",
       "      <td>-36.4</td>\n",
       "      <td>4.857</td>\n",
       "      <td>5191.0</td>\n",
       "      <td>nao</td>\n",
       "    </tr>\n",
       "  </tbody>\n",
       "</table>\n",
       "</div>"
      ],
      "text/plain": [
       "   Unnamed: 0  idade       profissao estado_civil        educacao  \\\n",
       "0           0     56       dona_casa       casado  fundamental_4a   \n",
       "1           1     57        servicos       casado    ensino_medio   \n",
       "2           2     37        servicos       casado    ensino_medio   \n",
       "3           3     40          admin.       casado  fundamental_6a   \n",
       "4           4     56        servicos       casado    ensino_medio   \n",
       "5           5     45        servicos       casado  fundamental_9a   \n",
       "6           6     59          admin.       casado   curso_tecnico   \n",
       "7           7     41  colarinho_azul       casado             NaN   \n",
       "8           8     24         tecnico     solteiro   curso_tecnico   \n",
       "9           9     25        servicos     solteiro    ensino_medio   \n",
       "\n",
       "  inadimplente emprestimo_moradia emprestimo_pessoal meio_contato  mes  \\\n",
       "0          nao                nao                nao     telefone  mai   \n",
       "1          NaN                nao                nao     telefone  mai   \n",
       "2          nao                sim                nao     telefone  mai   \n",
       "3          nao                nao                nao     telefone  mai   \n",
       "4          nao                nao                sim     telefone  mai   \n",
       "5          NaN                nao                nao     telefone  mai   \n",
       "6          nao                nao                nao     telefone  mai   \n",
       "7          NaN                nao                nao     telefone  mai   \n",
       "8          nao                sim                nao     telefone  mai   \n",
       "9          nao                sim                nao     telefone  mai   \n",
       "\n",
       "  dia_da_semana  duracao  qtd_contatos_campanha  dias_ultimo_contato  \\\n",
       "0           seg      261                      1                  999   \n",
       "1           seg      149                      1                  999   \n",
       "2           seg      226                      1                  999   \n",
       "3           seg      151                      1                  999   \n",
       "4           seg      307                      1                  999   \n",
       "5           seg      198                      1                  999   \n",
       "6           seg      139                      1                  999   \n",
       "7           seg      217                      1                  999   \n",
       "8           seg      380                      1                  999   \n",
       "9           seg       50                      1                  999   \n",
       "\n",
       "   qtd_contatos_total campanha_anterior  indice_precos_consumidor  \\\n",
       "0                   0     nao_existente                    93.994   \n",
       "1                   0     nao_existente                    93.994   \n",
       "2                   0     nao_existente                    93.994   \n",
       "3                   0     nao_existente                    93.994   \n",
       "4                   0     nao_existente                    93.994   \n",
       "5                   0     nao_existente                    93.994   \n",
       "6                   0     nao_existente                    93.994   \n",
       "7                   0     nao_existente                    93.994   \n",
       "8                   0     nao_existente                    93.994   \n",
       "9                   0     nao_existente                    93.994   \n",
       "\n",
       "   indice_confianca_consumidor  euribor3m  numero_empregados resultado  \n",
       "0                        -36.4      4.857             5191.0       nao  \n",
       "1                        -36.4      4.857             5191.0       nao  \n",
       "2                        -36.4      4.857             5191.0       nao  \n",
       "3                        -36.4      4.857             5191.0       nao  \n",
       "4                        -36.4      4.857             5191.0       nao  \n",
       "5                        -36.4      4.857             5191.0       nao  \n",
       "6                        -36.4      4.857             5191.0       nao  \n",
       "7                        -36.4      4.857             5191.0       nao  \n",
       "8                        -36.4      4.857             5191.0       nao  \n",
       "9                        -36.4      4.857             5191.0       nao  "
      ]
     },
     "metadata": {},
     "output_type": "display_data"
    }
   ],
   "source": [
    "display(df_callcenter.head(10))"
   ]
  },
  {
   "cell_type": "markdown",
   "metadata": {},
   "source": [
    "### Remover a Coluna de Índice\n",
    "- Quando se converte um arquivo de `csv` para `dataframe` é inserido um índice.\n",
    "- Então, o dataframe já tem um índice e trás algumas funcionalidades que auxiliar a manipulação dos dados.\n",
    "- Analisar uma tabela com um índice que não seja do dataframe pode ser prejudicial para uma análise, como por exemplo na detecção de valores duplicados."
   ]
  },
  {
   "cell_type": "code",
   "execution_count": 83,
   "metadata": {
    "scrolled": false
   },
   "outputs": [],
   "source": [
    "df_callcenter = df_callcenter.drop(columns='Unnamed: 0', axis=0)"
   ]
  },
  {
   "cell_type": "markdown",
   "metadata": {},
   "source": [
    "### Formato dos Dados "
   ]
  },
  {
   "cell_type": "code",
   "execution_count": 84,
   "metadata": {},
   "outputs": [
    {
     "name": "stdout",
     "output_type": "stream",
     "text": [
      "Dataframe:\n",
      "41188 rows\n",
      "20 columns\n"
     ]
    }
   ],
   "source": [
    "print(\"Dataframe:\\n{} rows\\n{} columns\".format(df_callcenter.shape[0],\n",
    "                                               df_callcenter.shape[1]))"
   ]
  },
  {
   "cell_type": "markdown",
   "metadata": {},
   "source": [
    "### Informações sobre as Colunas\n",
    "- Nomes\n",
    "- Linhas por colunas\n",
    "- Tipos de dados em cada coluna\n",
    "- Formato do dataframe"
   ]
  },
  {
   "cell_type": "code",
   "execution_count": 85,
   "metadata": {},
   "outputs": [
    {
     "name": "stdout",
     "output_type": "stream",
     "text": [
      "------------------------- List Columns -------------------------\n"
     ]
    },
    {
     "data": {
      "text/plain": [
       "['idade',\n",
       " 'profissao',\n",
       " 'estado_civil',\n",
       " 'educacao',\n",
       " 'inadimplente',\n",
       " 'emprestimo_moradia',\n",
       " 'emprestimo_pessoal',\n",
       " 'meio_contato',\n",
       " 'mes',\n",
       " 'dia_da_semana',\n",
       " 'duracao',\n",
       " 'qtd_contatos_campanha',\n",
       " 'dias_ultimo_contato',\n",
       " 'qtd_contatos_total',\n",
       " 'campanha_anterior',\n",
       " 'indice_precos_consumidor',\n",
       " 'indice_confianca_consumidor',\n",
       " 'euribor3m',\n",
       " 'numero_empregados',\n",
       " 'resultado']"
      ]
     },
     "metadata": {},
     "output_type": "display_data"
    }
   ],
   "source": [
    "list_columns = (df_callcenter.columns).tolist()\n",
    "\n",
    "print(\"-\"*25, \"List Columns\", \"-\"*25, end='\\n')\n",
    "display(list_columns)"
   ]
  },
  {
   "cell_type": "markdown",
   "metadata": {},
   "source": [
    "**OBS:** Não há espaços em branco nos nomes de colunas"
   ]
  },
  {
   "cell_type": "code",
   "execution_count": 86,
   "metadata": {},
   "outputs": [
    {
     "name": "stdout",
     "output_type": "stream",
     "text": [
      "<class 'pandas.core.frame.DataFrame'>\n",
      "RangeIndex: 41188 entries, 0 to 41187\n",
      "Data columns (total 20 columns):\n",
      "idade                          41188 non-null int64\n",
      "profissao                      40858 non-null object\n",
      "estado_civil                   41108 non-null object\n",
      "educacao                       39457 non-null object\n",
      "inadimplente                   32591 non-null object\n",
      "emprestimo_moradia             40198 non-null object\n",
      "emprestimo_pessoal             40198 non-null object\n",
      "meio_contato                   41188 non-null object\n",
      "mes                            41188 non-null object\n",
      "dia_da_semana                  41188 non-null object\n",
      "duracao                        41188 non-null int64\n",
      "qtd_contatos_campanha          41188 non-null int64\n",
      "dias_ultimo_contato            41188 non-null int64\n",
      "qtd_contatos_total             41188 non-null int64\n",
      "campanha_anterior              41188 non-null object\n",
      "indice_precos_consumidor       41188 non-null float64\n",
      "indice_confianca_consumidor    41188 non-null float64\n",
      "euribor3m                      41188 non-null float64\n",
      "numero_empregados              41188 non-null float64\n",
      "resultado                      41188 non-null object\n",
      "dtypes: float64(4), int64(5), object(11)\n",
      "memory usage: 6.3+ MB\n",
      "None\n"
     ]
    }
   ],
   "source": [
    "print(df_callcenter.info())"
   ]
  },
  {
   "cell_type": "markdown",
   "metadata": {},
   "source": [
    "Neste momento não há necessidade de formatar as colunas para outros tipos de dados."
   ]
  },
  {
   "cell_type": "code",
   "execution_count": 87,
   "metadata": {},
   "outputs": [
    {
     "name": "stdout",
     "output_type": "stream",
     "text": [
      "idade                            78\n",
      "profissao                        11\n",
      "estado_civil                      3\n",
      "educacao                          7\n",
      "inadimplente                      2\n",
      "emprestimo_moradia                2\n",
      "emprestimo_pessoal                2\n",
      "meio_contato                      2\n",
      "mes                              10\n",
      "dia_da_semana                     5\n",
      "duracao                        1544\n",
      "qtd_contatos_campanha            42\n",
      "dias_ultimo_contato              27\n",
      "qtd_contatos_total                8\n",
      "campanha_anterior                 3\n",
      "indice_precos_consumidor         26\n",
      "indice_confianca_consumidor      26\n",
      "euribor3m                       316\n",
      "numero_empregados                11\n",
      "resultado                         2\n",
      "dtype: int64\n"
     ]
    }
   ],
   "source": [
    "print(df_callcenter.nunique())"
   ]
  },
  {
   "cell_type": "code",
   "execution_count": 88,
   "metadata": {},
   "outputs": [],
   "source": [
    "def show_measures_location(df: 'dataframe', type_descr: 'list') -> None:\n",
    "    \"\"\"\n",
    "    Function get measures localization + total col + % type columns \n",
    "    Handler when type data not exists\n",
    "    \n",
    "    Args:\n",
    "    type_descr\n",
    "        np.number, np.object  -> return summary statistic with all columns\n",
    "        np.number             -> return summary statistic numerical columns \n",
    "        np.object             -> return summary statistic object columns\n",
    "    \"\"\"\n",
    "    try:\n",
    "        col = (df.describe(include=type_descr).columns)  # pandas.core.indexes.base.Index  \n",
    "    except ValueError:\n",
    "        print(f'Dataframe not contains {type_descr} columns !', end='\\n\\n')    \n",
    "    else:\n",
    "        list_col = col.tolist()\n",
    "        percentage = (len(list_col) / df.shape[1]) * 100\n",
    "        \n",
    "        print(\"-\"*25, \"MEASURES OF LOCALIZATION\", \"-\"*25, end='\\n\\n')\n",
    "        print(f\"TOTAL columns {type_descr}: {len(list_col)}\")\n",
    "        print(\"PERCENTAGE {} in dataframe: {:3.4} %\".format(type_descr, percentage))\n",
    "        \n",
    "        return df.describe(include=type_descr)"
   ]
  },
  {
   "cell_type": "code",
   "execution_count": 89,
   "metadata": {},
   "outputs": [
    {
     "name": "stdout",
     "output_type": "stream",
     "text": [
      "------------------------- MEASURES OF LOCALIZATION -------------------------\n",
      "\n",
      "TOTAL columns [<class 'numpy.number'>, <class 'object'>]: 20\n",
      "PERCENTAGE [<class 'numpy.number'>, <class 'object'>] in dataframe: 100.0 %\n"
     ]
    },
    {
     "data": {
      "text/html": [
       "<div>\n",
       "<style scoped>\n",
       "    .dataframe tbody tr th:only-of-type {\n",
       "        vertical-align: middle;\n",
       "    }\n",
       "\n",
       "    .dataframe tbody tr th {\n",
       "        vertical-align: top;\n",
       "    }\n",
       "\n",
       "    .dataframe thead th {\n",
       "        text-align: right;\n",
       "    }\n",
       "</style>\n",
       "<table border=\"1\" class=\"dataframe\">\n",
       "  <thead>\n",
       "    <tr style=\"text-align: right;\">\n",
       "      <th></th>\n",
       "      <th>idade</th>\n",
       "      <th>profissao</th>\n",
       "      <th>estado_civil</th>\n",
       "      <th>educacao</th>\n",
       "      <th>inadimplente</th>\n",
       "      <th>emprestimo_moradia</th>\n",
       "      <th>emprestimo_pessoal</th>\n",
       "      <th>meio_contato</th>\n",
       "      <th>mes</th>\n",
       "      <th>dia_da_semana</th>\n",
       "      <th>duracao</th>\n",
       "      <th>qtd_contatos_campanha</th>\n",
       "      <th>dias_ultimo_contato</th>\n",
       "      <th>qtd_contatos_total</th>\n",
       "      <th>campanha_anterior</th>\n",
       "      <th>indice_precos_consumidor</th>\n",
       "      <th>indice_confianca_consumidor</th>\n",
       "      <th>euribor3m</th>\n",
       "      <th>numero_empregados</th>\n",
       "      <th>resultado</th>\n",
       "    </tr>\n",
       "  </thead>\n",
       "  <tbody>\n",
       "    <tr>\n",
       "      <th>count</th>\n",
       "      <td>41188.0</td>\n",
       "      <td>40858</td>\n",
       "      <td>41108</td>\n",
       "      <td>39457</td>\n",
       "      <td>32591</td>\n",
       "      <td>40198</td>\n",
       "      <td>40198</td>\n",
       "      <td>41188</td>\n",
       "      <td>41188</td>\n",
       "      <td>41188</td>\n",
       "      <td>41188.0</td>\n",
       "      <td>41188.0</td>\n",
       "      <td>41188.0</td>\n",
       "      <td>41188.0</td>\n",
       "      <td>41188</td>\n",
       "      <td>41188.0</td>\n",
       "      <td>41188.0</td>\n",
       "      <td>41188.0</td>\n",
       "      <td>41188.0</td>\n",
       "      <td>41188</td>\n",
       "    </tr>\n",
       "    <tr>\n",
       "      <th>unique</th>\n",
       "      <td>nan</td>\n",
       "      <td>11</td>\n",
       "      <td>3</td>\n",
       "      <td>7</td>\n",
       "      <td>2</td>\n",
       "      <td>2</td>\n",
       "      <td>2</td>\n",
       "      <td>2</td>\n",
       "      <td>10</td>\n",
       "      <td>5</td>\n",
       "      <td>nan</td>\n",
       "      <td>nan</td>\n",
       "      <td>nan</td>\n",
       "      <td>nan</td>\n",
       "      <td>3</td>\n",
       "      <td>nan</td>\n",
       "      <td>nan</td>\n",
       "      <td>nan</td>\n",
       "      <td>nan</td>\n",
       "      <td>2</td>\n",
       "    </tr>\n",
       "    <tr>\n",
       "      <th>top</th>\n",
       "      <td>nan</td>\n",
       "      <td>admin.</td>\n",
       "      <td>casado</td>\n",
       "      <td>graduacao_completa</td>\n",
       "      <td>nao</td>\n",
       "      <td>sim</td>\n",
       "      <td>nao</td>\n",
       "      <td>celular</td>\n",
       "      <td>mai</td>\n",
       "      <td>qui</td>\n",
       "      <td>nan</td>\n",
       "      <td>nan</td>\n",
       "      <td>nan</td>\n",
       "      <td>nan</td>\n",
       "      <td>nao_existente</td>\n",
       "      <td>nan</td>\n",
       "      <td>nan</td>\n",
       "      <td>nan</td>\n",
       "      <td>nan</td>\n",
       "      <td>nao</td>\n",
       "    </tr>\n",
       "    <tr>\n",
       "      <th>freq</th>\n",
       "      <td>nan</td>\n",
       "      <td>10422</td>\n",
       "      <td>24928</td>\n",
       "      <td>12168</td>\n",
       "      <td>32588</td>\n",
       "      <td>21576</td>\n",
       "      <td>33950</td>\n",
       "      <td>26144</td>\n",
       "      <td>13769</td>\n",
       "      <td>8623</td>\n",
       "      <td>nan</td>\n",
       "      <td>nan</td>\n",
       "      <td>nan</td>\n",
       "      <td>nan</td>\n",
       "      <td>35563</td>\n",
       "      <td>nan</td>\n",
       "      <td>nan</td>\n",
       "      <td>nan</td>\n",
       "      <td>nan</td>\n",
       "      <td>36548</td>\n",
       "    </tr>\n",
       "    <tr>\n",
       "      <th>mean</th>\n",
       "      <td>40.0241</td>\n",
       "      <td>NaN</td>\n",
       "      <td>NaN</td>\n",
       "      <td>NaN</td>\n",
       "      <td>NaN</td>\n",
       "      <td>NaN</td>\n",
       "      <td>NaN</td>\n",
       "      <td>NaN</td>\n",
       "      <td>NaN</td>\n",
       "      <td>NaN</td>\n",
       "      <td>258.285</td>\n",
       "      <td>2.56759</td>\n",
       "      <td>962.475</td>\n",
       "      <td>0.172963</td>\n",
       "      <td>NaN</td>\n",
       "      <td>93.5757</td>\n",
       "      <td>-40.5026</td>\n",
       "      <td>3.62129</td>\n",
       "      <td>5167.04</td>\n",
       "      <td>NaN</td>\n",
       "    </tr>\n",
       "    <tr>\n",
       "      <th>std</th>\n",
       "      <td>10.4212</td>\n",
       "      <td>NaN</td>\n",
       "      <td>NaN</td>\n",
       "      <td>NaN</td>\n",
       "      <td>NaN</td>\n",
       "      <td>NaN</td>\n",
       "      <td>NaN</td>\n",
       "      <td>NaN</td>\n",
       "      <td>NaN</td>\n",
       "      <td>NaN</td>\n",
       "      <td>259.279</td>\n",
       "      <td>2.77001</td>\n",
       "      <td>186.911</td>\n",
       "      <td>0.494901</td>\n",
       "      <td>NaN</td>\n",
       "      <td>0.57884</td>\n",
       "      <td>4.6282</td>\n",
       "      <td>1.73445</td>\n",
       "      <td>72.2515</td>\n",
       "      <td>NaN</td>\n",
       "    </tr>\n",
       "    <tr>\n",
       "      <th>min</th>\n",
       "      <td>17.0</td>\n",
       "      <td>NaN</td>\n",
       "      <td>NaN</td>\n",
       "      <td>NaN</td>\n",
       "      <td>NaN</td>\n",
       "      <td>NaN</td>\n",
       "      <td>NaN</td>\n",
       "      <td>NaN</td>\n",
       "      <td>NaN</td>\n",
       "      <td>NaN</td>\n",
       "      <td>0.0</td>\n",
       "      <td>1.0</td>\n",
       "      <td>0.0</td>\n",
       "      <td>0.0</td>\n",
       "      <td>NaN</td>\n",
       "      <td>92.201</td>\n",
       "      <td>-50.8</td>\n",
       "      <td>0.634</td>\n",
       "      <td>4963.6</td>\n",
       "      <td>NaN</td>\n",
       "    </tr>\n",
       "    <tr>\n",
       "      <th>25%</th>\n",
       "      <td>32.0</td>\n",
       "      <td>NaN</td>\n",
       "      <td>NaN</td>\n",
       "      <td>NaN</td>\n",
       "      <td>NaN</td>\n",
       "      <td>NaN</td>\n",
       "      <td>NaN</td>\n",
       "      <td>NaN</td>\n",
       "      <td>NaN</td>\n",
       "      <td>NaN</td>\n",
       "      <td>102.0</td>\n",
       "      <td>1.0</td>\n",
       "      <td>999.0</td>\n",
       "      <td>0.0</td>\n",
       "      <td>NaN</td>\n",
       "      <td>93.075</td>\n",
       "      <td>-42.7</td>\n",
       "      <td>1.344</td>\n",
       "      <td>5099.1</td>\n",
       "      <td>NaN</td>\n",
       "    </tr>\n",
       "    <tr>\n",
       "      <th>50%</th>\n",
       "      <td>38.0</td>\n",
       "      <td>NaN</td>\n",
       "      <td>NaN</td>\n",
       "      <td>NaN</td>\n",
       "      <td>NaN</td>\n",
       "      <td>NaN</td>\n",
       "      <td>NaN</td>\n",
       "      <td>NaN</td>\n",
       "      <td>NaN</td>\n",
       "      <td>NaN</td>\n",
       "      <td>180.0</td>\n",
       "      <td>2.0</td>\n",
       "      <td>999.0</td>\n",
       "      <td>0.0</td>\n",
       "      <td>NaN</td>\n",
       "      <td>93.749</td>\n",
       "      <td>-41.8</td>\n",
       "      <td>4.857</td>\n",
       "      <td>5191.0</td>\n",
       "      <td>NaN</td>\n",
       "    </tr>\n",
       "    <tr>\n",
       "      <th>75%</th>\n",
       "      <td>47.0</td>\n",
       "      <td>NaN</td>\n",
       "      <td>NaN</td>\n",
       "      <td>NaN</td>\n",
       "      <td>NaN</td>\n",
       "      <td>NaN</td>\n",
       "      <td>NaN</td>\n",
       "      <td>NaN</td>\n",
       "      <td>NaN</td>\n",
       "      <td>NaN</td>\n",
       "      <td>319.0</td>\n",
       "      <td>3.0</td>\n",
       "      <td>999.0</td>\n",
       "      <td>0.0</td>\n",
       "      <td>NaN</td>\n",
       "      <td>93.994</td>\n",
       "      <td>-36.4</td>\n",
       "      <td>4.961</td>\n",
       "      <td>5228.1</td>\n",
       "      <td>NaN</td>\n",
       "    </tr>\n",
       "    <tr>\n",
       "      <th>max</th>\n",
       "      <td>98.0</td>\n",
       "      <td>NaN</td>\n",
       "      <td>NaN</td>\n",
       "      <td>NaN</td>\n",
       "      <td>NaN</td>\n",
       "      <td>NaN</td>\n",
       "      <td>NaN</td>\n",
       "      <td>NaN</td>\n",
       "      <td>NaN</td>\n",
       "      <td>NaN</td>\n",
       "      <td>4918.0</td>\n",
       "      <td>56.0</td>\n",
       "      <td>999.0</td>\n",
       "      <td>7.0</td>\n",
       "      <td>NaN</td>\n",
       "      <td>94.767</td>\n",
       "      <td>-26.9</td>\n",
       "      <td>5.045</td>\n",
       "      <td>5228.1</td>\n",
       "      <td>NaN</td>\n",
       "    </tr>\n",
       "  </tbody>\n",
       "</table>\n",
       "</div>"
      ],
      "text/plain": [
       "         idade profissao estado_civil            educacao inadimplente  \\\n",
       "count  41188.0     40858        41108               39457        32591   \n",
       "unique     nan        11            3                   7            2   \n",
       "top        nan    admin.       casado  graduacao_completa          nao   \n",
       "freq       nan     10422        24928               12168        32588   \n",
       "mean   40.0241       NaN          NaN                 NaN          NaN   \n",
       "std    10.4212       NaN          NaN                 NaN          NaN   \n",
       "min       17.0       NaN          NaN                 NaN          NaN   \n",
       "25%       32.0       NaN          NaN                 NaN          NaN   \n",
       "50%       38.0       NaN          NaN                 NaN          NaN   \n",
       "75%       47.0       NaN          NaN                 NaN          NaN   \n",
       "max       98.0       NaN          NaN                 NaN          NaN   \n",
       "\n",
       "       emprestimo_moradia emprestimo_pessoal meio_contato    mes  \\\n",
       "count               40198              40198        41188  41188   \n",
       "unique                  2                  2            2     10   \n",
       "top                   sim                nao      celular    mai   \n",
       "freq                21576              33950        26144  13769   \n",
       "mean                  NaN                NaN          NaN    NaN   \n",
       "std                   NaN                NaN          NaN    NaN   \n",
       "min                   NaN                NaN          NaN    NaN   \n",
       "25%                   NaN                NaN          NaN    NaN   \n",
       "50%                   NaN                NaN          NaN    NaN   \n",
       "75%                   NaN                NaN          NaN    NaN   \n",
       "max                   NaN                NaN          NaN    NaN   \n",
       "\n",
       "       dia_da_semana  duracao  qtd_contatos_campanha  dias_ultimo_contato  \\\n",
       "count          41188  41188.0                41188.0              41188.0   \n",
       "unique             5      nan                    nan                  nan   \n",
       "top              qui      nan                    nan                  nan   \n",
       "freq            8623      nan                    nan                  nan   \n",
       "mean             NaN  258.285                2.56759              962.475   \n",
       "std              NaN  259.279                2.77001              186.911   \n",
       "min              NaN      0.0                    1.0                  0.0   \n",
       "25%              NaN    102.0                    1.0                999.0   \n",
       "50%              NaN    180.0                    2.0                999.0   \n",
       "75%              NaN    319.0                    3.0                999.0   \n",
       "max              NaN   4918.0                   56.0                999.0   \n",
       "\n",
       "        qtd_contatos_total campanha_anterior  indice_precos_consumidor  \\\n",
       "count              41188.0             41188                   41188.0   \n",
       "unique                 nan                 3                       nan   \n",
       "top                    nan     nao_existente                       nan   \n",
       "freq                   nan             35563                       nan   \n",
       "mean              0.172963               NaN                   93.5757   \n",
       "std               0.494901               NaN                   0.57884   \n",
       "min                    0.0               NaN                    92.201   \n",
       "25%                    0.0               NaN                    93.075   \n",
       "50%                    0.0               NaN                    93.749   \n",
       "75%                    0.0               NaN                    93.994   \n",
       "max                    7.0               NaN                    94.767   \n",
       "\n",
       "        indice_confianca_consumidor  euribor3m  numero_empregados resultado  \n",
       "count                       41188.0    41188.0            41188.0     41188  \n",
       "unique                          nan        nan                nan         2  \n",
       "top                             nan        nan                nan       nao  \n",
       "freq                            nan        nan                nan     36548  \n",
       "mean                       -40.5026    3.62129            5167.04       NaN  \n",
       "std                          4.6282    1.73445            72.2515       NaN  \n",
       "min                           -50.8      0.634             4963.6       NaN  \n",
       "25%                           -42.7      1.344             5099.1       NaN  \n",
       "50%                           -41.8      4.857             5191.0       NaN  \n",
       "75%                           -36.4      4.961             5228.1       NaN  \n",
       "max                           -26.9      5.045             5228.1       NaN  "
      ]
     },
     "execution_count": 89,
     "metadata": {},
     "output_type": "execute_result"
    }
   ],
   "source": [
    "show_measures_location(df=df_callcenter,\n",
    "                       type_descr=[np.number, np.object])"
   ]
  },
  {
   "cell_type": "markdown",
   "metadata": {},
   "source": [
    "#### Colunas Numéricas"
   ]
  },
  {
   "cell_type": "code",
   "execution_count": 90,
   "metadata": {},
   "outputs": [
    {
     "name": "stdout",
     "output_type": "stream",
     "text": [
      "------------------------- MEASURES OF LOCALIZATION -------------------------\n",
      "\n",
      "TOTAL columns [<class 'numpy.number'>]: 9\n",
      "PERCENTAGE [<class 'numpy.number'>] in dataframe: 45.0 %\n"
     ]
    },
    {
     "data": {
      "text/html": [
       "<div>\n",
       "<style scoped>\n",
       "    .dataframe tbody tr th:only-of-type {\n",
       "        vertical-align: middle;\n",
       "    }\n",
       "\n",
       "    .dataframe tbody tr th {\n",
       "        vertical-align: top;\n",
       "    }\n",
       "\n",
       "    .dataframe thead th {\n",
       "        text-align: right;\n",
       "    }\n",
       "</style>\n",
       "<table border=\"1\" class=\"dataframe\">\n",
       "  <thead>\n",
       "    <tr style=\"text-align: right;\">\n",
       "      <th></th>\n",
       "      <th>idade</th>\n",
       "      <th>duracao</th>\n",
       "      <th>qtd_contatos_campanha</th>\n",
       "      <th>dias_ultimo_contato</th>\n",
       "      <th>qtd_contatos_total</th>\n",
       "      <th>indice_precos_consumidor</th>\n",
       "      <th>indice_confianca_consumidor</th>\n",
       "      <th>euribor3m</th>\n",
       "      <th>numero_empregados</th>\n",
       "    </tr>\n",
       "  </thead>\n",
       "  <tbody>\n",
       "    <tr>\n",
       "      <th>count</th>\n",
       "      <td>41188.0</td>\n",
       "      <td>41188.0</td>\n",
       "      <td>41188.0</td>\n",
       "      <td>41188.0</td>\n",
       "      <td>41188.0</td>\n",
       "      <td>41188.0</td>\n",
       "      <td>41188.0</td>\n",
       "      <td>41188.0</td>\n",
       "      <td>41188.0</td>\n",
       "    </tr>\n",
       "    <tr>\n",
       "      <th>mean</th>\n",
       "      <td>40.0241</td>\n",
       "      <td>258.285</td>\n",
       "      <td>2.56759</td>\n",
       "      <td>962.475</td>\n",
       "      <td>0.172963</td>\n",
       "      <td>93.5757</td>\n",
       "      <td>-40.5026</td>\n",
       "      <td>3.62129</td>\n",
       "      <td>5167.04</td>\n",
       "    </tr>\n",
       "    <tr>\n",
       "      <th>std</th>\n",
       "      <td>10.4212</td>\n",
       "      <td>259.279</td>\n",
       "      <td>2.77001</td>\n",
       "      <td>186.911</td>\n",
       "      <td>0.494901</td>\n",
       "      <td>0.57884</td>\n",
       "      <td>4.6282</td>\n",
       "      <td>1.73445</td>\n",
       "      <td>72.2515</td>\n",
       "    </tr>\n",
       "    <tr>\n",
       "      <th>min</th>\n",
       "      <td>17.0</td>\n",
       "      <td>0.0</td>\n",
       "      <td>1.0</td>\n",
       "      <td>0.0</td>\n",
       "      <td>0.0</td>\n",
       "      <td>92.201</td>\n",
       "      <td>-50.8</td>\n",
       "      <td>0.634</td>\n",
       "      <td>4963.6</td>\n",
       "    </tr>\n",
       "    <tr>\n",
       "      <th>25%</th>\n",
       "      <td>32.0</td>\n",
       "      <td>102.0</td>\n",
       "      <td>1.0</td>\n",
       "      <td>999.0</td>\n",
       "      <td>0.0</td>\n",
       "      <td>93.075</td>\n",
       "      <td>-42.7</td>\n",
       "      <td>1.344</td>\n",
       "      <td>5099.1</td>\n",
       "    </tr>\n",
       "    <tr>\n",
       "      <th>50%</th>\n",
       "      <td>38.0</td>\n",
       "      <td>180.0</td>\n",
       "      <td>2.0</td>\n",
       "      <td>999.0</td>\n",
       "      <td>0.0</td>\n",
       "      <td>93.749</td>\n",
       "      <td>-41.8</td>\n",
       "      <td>4.857</td>\n",
       "      <td>5191.0</td>\n",
       "    </tr>\n",
       "    <tr>\n",
       "      <th>75%</th>\n",
       "      <td>47.0</td>\n",
       "      <td>319.0</td>\n",
       "      <td>3.0</td>\n",
       "      <td>999.0</td>\n",
       "      <td>0.0</td>\n",
       "      <td>93.994</td>\n",
       "      <td>-36.4</td>\n",
       "      <td>4.961</td>\n",
       "      <td>5228.1</td>\n",
       "    </tr>\n",
       "    <tr>\n",
       "      <th>max</th>\n",
       "      <td>98.0</td>\n",
       "      <td>4918.0</td>\n",
       "      <td>56.0</td>\n",
       "      <td>999.0</td>\n",
       "      <td>7.0</td>\n",
       "      <td>94.767</td>\n",
       "      <td>-26.9</td>\n",
       "      <td>5.045</td>\n",
       "      <td>5228.1</td>\n",
       "    </tr>\n",
       "  </tbody>\n",
       "</table>\n",
       "</div>"
      ],
      "text/plain": [
       "        idade  duracao  qtd_contatos_campanha  dias_ultimo_contato  \\\n",
       "count 41188.0  41188.0                41188.0              41188.0   \n",
       "mean  40.0241  258.285                2.56759              962.475   \n",
       "std   10.4212  259.279                2.77001              186.911   \n",
       "min      17.0      0.0                    1.0                  0.0   \n",
       "25%      32.0    102.0                    1.0                999.0   \n",
       "50%      38.0    180.0                    2.0                999.0   \n",
       "75%      47.0    319.0                    3.0                999.0   \n",
       "max      98.0   4918.0                   56.0                999.0   \n",
       "\n",
       "       qtd_contatos_total  indice_precos_consumidor  \\\n",
       "count             41188.0                   41188.0   \n",
       "mean             0.172963                   93.5757   \n",
       "std              0.494901                   0.57884   \n",
       "min                   0.0                    92.201   \n",
       "25%                   0.0                    93.075   \n",
       "50%                   0.0                    93.749   \n",
       "75%                   0.0                    93.994   \n",
       "max                   7.0                    94.767   \n",
       "\n",
       "       indice_confianca_consumidor  euribor3m  numero_empregados  \n",
       "count                      41188.0    41188.0            41188.0  \n",
       "mean                      -40.5026    3.62129            5167.04  \n",
       "std                         4.6282    1.73445            72.2515  \n",
       "min                          -50.8      0.634             4963.6  \n",
       "25%                          -42.7      1.344             5099.1  \n",
       "50%                          -41.8      4.857             5191.0  \n",
       "75%                          -36.4      4.961             5228.1  \n",
       "max                          -26.9      5.045             5228.1  "
      ]
     },
     "execution_count": 90,
     "metadata": {},
     "output_type": "execute_result"
    }
   ],
   "source": [
    "show_measures_location(df=df_callcenter,\n",
    "                       type_descr=[np.number])"
   ]
  },
  {
   "cell_type": "markdown",
   "metadata": {},
   "source": [
    "#### Colunas Categóricas"
   ]
  },
  {
   "cell_type": "code",
   "execution_count": 91,
   "metadata": {},
   "outputs": [
    {
     "name": "stdout",
     "output_type": "stream",
     "text": [
      "------------------------- MEASURES OF LOCALIZATION -------------------------\n",
      "\n",
      "TOTAL columns [<class 'object'>]: 11\n",
      "PERCENTAGE [<class 'object'>] in dataframe: 55.0 %\n"
     ]
    },
    {
     "data": {
      "text/html": [
       "<div>\n",
       "<style scoped>\n",
       "    .dataframe tbody tr th:only-of-type {\n",
       "        vertical-align: middle;\n",
       "    }\n",
       "\n",
       "    .dataframe tbody tr th {\n",
       "        vertical-align: top;\n",
       "    }\n",
       "\n",
       "    .dataframe thead th {\n",
       "        text-align: right;\n",
       "    }\n",
       "</style>\n",
       "<table border=\"1\" class=\"dataframe\">\n",
       "  <thead>\n",
       "    <tr style=\"text-align: right;\">\n",
       "      <th></th>\n",
       "      <th>profissao</th>\n",
       "      <th>estado_civil</th>\n",
       "      <th>educacao</th>\n",
       "      <th>inadimplente</th>\n",
       "      <th>emprestimo_moradia</th>\n",
       "      <th>emprestimo_pessoal</th>\n",
       "      <th>meio_contato</th>\n",
       "      <th>mes</th>\n",
       "      <th>dia_da_semana</th>\n",
       "      <th>campanha_anterior</th>\n",
       "      <th>resultado</th>\n",
       "    </tr>\n",
       "  </thead>\n",
       "  <tbody>\n",
       "    <tr>\n",
       "      <th>count</th>\n",
       "      <td>40858</td>\n",
       "      <td>41108</td>\n",
       "      <td>39457</td>\n",
       "      <td>32591</td>\n",
       "      <td>40198</td>\n",
       "      <td>40198</td>\n",
       "      <td>41188</td>\n",
       "      <td>41188</td>\n",
       "      <td>41188</td>\n",
       "      <td>41188</td>\n",
       "      <td>41188</td>\n",
       "    </tr>\n",
       "    <tr>\n",
       "      <th>unique</th>\n",
       "      <td>11</td>\n",
       "      <td>3</td>\n",
       "      <td>7</td>\n",
       "      <td>2</td>\n",
       "      <td>2</td>\n",
       "      <td>2</td>\n",
       "      <td>2</td>\n",
       "      <td>10</td>\n",
       "      <td>5</td>\n",
       "      <td>3</td>\n",
       "      <td>2</td>\n",
       "    </tr>\n",
       "    <tr>\n",
       "      <th>top</th>\n",
       "      <td>admin.</td>\n",
       "      <td>casado</td>\n",
       "      <td>graduacao_completa</td>\n",
       "      <td>nao</td>\n",
       "      <td>sim</td>\n",
       "      <td>nao</td>\n",
       "      <td>celular</td>\n",
       "      <td>mai</td>\n",
       "      <td>qui</td>\n",
       "      <td>nao_existente</td>\n",
       "      <td>nao</td>\n",
       "    </tr>\n",
       "    <tr>\n",
       "      <th>freq</th>\n",
       "      <td>10422</td>\n",
       "      <td>24928</td>\n",
       "      <td>12168</td>\n",
       "      <td>32588</td>\n",
       "      <td>21576</td>\n",
       "      <td>33950</td>\n",
       "      <td>26144</td>\n",
       "      <td>13769</td>\n",
       "      <td>8623</td>\n",
       "      <td>35563</td>\n",
       "      <td>36548</td>\n",
       "    </tr>\n",
       "  </tbody>\n",
       "</table>\n",
       "</div>"
      ],
      "text/plain": [
       "       profissao estado_civil            educacao inadimplente  \\\n",
       "count      40858        41108               39457        32591   \n",
       "unique        11            3                   7            2   \n",
       "top       admin.       casado  graduacao_completa          nao   \n",
       "freq       10422        24928               12168        32588   \n",
       "\n",
       "       emprestimo_moradia emprestimo_pessoal meio_contato    mes  \\\n",
       "count               40198              40198        41188  41188   \n",
       "unique                  2                  2            2     10   \n",
       "top                   sim                nao      celular    mai   \n",
       "freq                21576              33950        26144  13769   \n",
       "\n",
       "       dia_da_semana campanha_anterior resultado  \n",
       "count          41188             41188     41188  \n",
       "unique             5                 3         2  \n",
       "top              qui     nao_existente       nao  \n",
       "freq            8623             35563     36548  "
      ]
     },
     "execution_count": 91,
     "metadata": {},
     "output_type": "execute_result"
    }
   ],
   "source": [
    "show_measures_location(df=df_callcenter,\n",
    "                       type_descr=[np.object])"
   ]
  },
  {
   "cell_type": "markdown",
   "metadata": {},
   "source": [
    "- Persistir as colunas em suas respectivas listas"
   ]
  },
  {
   "cell_type": "markdown",
   "metadata": {},
   "source": [
    "---\n",
    "\n",
    "## Dados Irrelevantes\n",
    "Nesta parte vou analisar cada coluna categórica para ver se os dados inseridos fazem sentido no meio em que se encontram."
   ]
  },
  {
   "cell_type": "code",
   "execution_count": 92,
   "metadata": {},
   "outputs": [],
   "source": [
    "def show_categorical_values(df: 'DataFrame', *columns: list) -> None:\n",
    "    for column in columns:\n",
    "        list_unique = df[column].unique()\n",
    "        print(f\"The categorical column {column} contains this values:\\n{list_unique}\\n\")"
   ]
  },
  {
   "cell_type": "code",
   "execution_count": 93,
   "metadata": {
    "scrolled": false
   },
   "outputs": [
    {
     "name": "stdout",
     "output_type": "stream",
     "text": [
      "The categorical column profissao contains this values:\n",
      "['dona_casa' 'servicos' 'admin.' 'colarinho_azul' 'tecnico' 'aposentado'\n",
      " 'gerente' 'desempregado' 'informal' nan 'empreendedor' 'estudante']\n",
      "\n",
      "The categorical column estado_civil contains this values:\n",
      "['casado' 'solteiro' 'divorciado' nan]\n",
      "\n",
      "The categorical column educacao contains this values:\n",
      "['fundamental_4a' 'ensino_medio' 'fundamental_6a' 'fundamental_9a'\n",
      " 'curso_tecnico' nan 'graduacao_completa' 'analfabeto']\n",
      "\n",
      "The categorical column inadimplente contains this values:\n",
      "['nao' nan 'sim']\n",
      "\n",
      "The categorical column emprestimo_moradia contains this values:\n",
      "['nao' 'sim' nan]\n",
      "\n",
      "The categorical column emprestimo_pessoal contains this values:\n",
      "['nao' 'sim' nan]\n",
      "\n",
      "The categorical column meio_contato contains this values:\n",
      "['telefone' 'celular']\n",
      "\n",
      "The categorical column mes contains this values:\n",
      "['mai' 'jun' 'jul' 'ago' 'out' 'nov' 'dez' 'mar' 'abr' 'set']\n",
      "\n",
      "The categorical column dia_da_semana contains this values:\n",
      "['seg' 'ter' 'qua' 'qui' 'sex']\n",
      "\n",
      "The categorical column campanha_anterior contains this values:\n",
      "['nao_existente' 'fracasso' 'sucesso']\n",
      "\n",
      "The categorical column resultado contains this values:\n",
      "['nao' 'sim']\n",
      "\n"
     ]
    }
   ],
   "source": [
    "show_categorical_values(df_callcenter, *list_categorical_col)"
   ]
  },
  {
   "cell_type": "markdown",
   "metadata": {},
   "source": [
    "#### Notas\n",
    "- Não há valores escritos de forma errada ou duplicada.\n",
    "- Todos os valores estão fazendo sentido semântico com suas colunas."
   ]
  },
  {
   "cell_type": "markdown",
   "metadata": {},
   "source": [
    "---\n",
    "\n",
    "### Data Preprocessing\n",
    "- Algoritmos de aprendizagem estatística, trabalham apenas com valores numéricos, então, se deixar valores de rótulo como strings, a librarie scikit-learn, por exemplo, faria a conversão internamente (mais especificamente, os rótulos de string serão convertidos em valores flutuantes desconhecidos)."
   ]
  },
  {
   "cell_type": "markdown",
   "metadata": {},
   "source": [
    "#### Mapear Valores Internos das Colunas "
   ]
  },
  {
   "cell_type": "code",
   "execution_count": 94,
   "metadata": {},
   "outputs": [],
   "source": [
    "# map\n",
    "\n",
    "def map_values(df: 'dataframe', column: str, dict_label: dict) -> None:\n",
    "    df[column] = df[column].map(dict_label)    \n",
    "    return print(f'Type column {column}: {df[column].dtypes}')"
   ]
  },
  {
   "cell_type": "markdown",
   "metadata": {},
   "source": [
    "Os únicos dados das colunas categóricas que fazem sentido ter uma ordem numérica são:\n",
    "- `mes`\n",
    "- `dia_da_semana`"
   ]
  },
  {
   "cell_type": "code",
   "execution_count": 95,
   "metadata": {
    "scrolled": true
   },
   "outputs": [],
   "source": [
    "dict_week = {'seg': 1,\n",
    "             'ter': 2,\n",
    "             'qua': 3,\n",
    "             'qui': 4,\n",
    "             'sex': 5}\n",
    "\n",
    "# dict not contains jan and feb\n",
    "dict_month = {'mar': 3,\n",
    "              'abr': 4,\n",
    "              'mai': 5,\n",
    "              'jun': 6,\n",
    "              'jul': 7,\n",
    "              'ago': 8,\n",
    "              'set': 9,\n",
    "              'out': 10,\n",
    "              'nov': 11,\n",
    "              'dez': 12}"
   ]
  },
  {
   "cell_type": "code",
   "execution_count": 96,
   "metadata": {},
   "outputs": [
    {
     "name": "stdout",
     "output_type": "stream",
     "text": [
      "Type column mes: int64\n",
      "Type column dia_da_semana: int64\n"
     ]
    }
   ],
   "source": [
    "map_values(df_callcenter, 'mes', dict_month)\n",
    "map_values(df_callcenter, 'dia_da_semana', dict_week)"
   ]
  },
  {
   "cell_type": "code",
   "execution_count": 97,
   "metadata": {},
   "outputs": [],
   "source": [
    "# I used the dictionary because they are more efficient in these cases\n",
    "# https://stackoverflow.com/questions/22084338/pandas-dataframe-performance\n",
    "\n",
    "def generate_cat_unique_by_col(df: 'dataframe', *columns: list) -> dict:\n",
    "    dict_unique = {}\n",
    "    \n",
    "    for column in columns:\n",
    "        list_unique = df[column].unique().tolist()\n",
    "        dict_column = {}\n",
    "    \n",
    "        for element in list_unique:\n",
    "            if isinstance(element, float) is True:  # type nan is float\n",
    "                continue\n",
    "            dict_column[element] = int(list_unique.index(element))\n",
    "        # add dict column in principal dict \n",
    "        dict_unique[column] = dict_column          \n",
    "    \n",
    "    print(\"-\"*25, \"Dictionary with Values Map by Column\", \"-\"*25, end='\\n\\n')\n",
    "    return dict_unique"
   ]
  },
  {
   "cell_type": "code",
   "execution_count": 98,
   "metadata": {
    "scrolled": false
   },
   "outputs": [
    {
     "name": "stdout",
     "output_type": "stream",
     "text": [
      "------------------------- Dictionary with Values Map by Column -------------------------\n",
      "\n",
      "{   'campanha_anterior': {'fracasso': 1, 'nao_existente': 0, 'sucesso': 2},\n",
      "    'dia_da_semana': {1: 0, 2: 1, 3: 2, 4: 3, 5: 4},\n",
      "    'educacao': {   'analfabeto': 7,\n",
      "                    'curso_tecnico': 4,\n",
      "                    'ensino_medio': 1,\n",
      "                    'fundamental_4a': 0,\n",
      "                    'fundamental_6a': 2,\n",
      "                    'fundamental_9a': 3,\n",
      "                    'graduacao_completa': 6},\n",
      "    'emprestimo_moradia': {'nao': 0, 'sim': 1},\n",
      "    'emprestimo_pessoal': {'nao': 0, 'sim': 1},\n",
      "    'estado_civil': {'casado': 0, 'divorciado': 2, 'solteiro': 1},\n",
      "    'inadimplente': {'nao': 0, 'sim': 2},\n",
      "    'meio_contato': {'celular': 1, 'telefone': 0},\n",
      "    'mes': {3: 7, 4: 8, 5: 0, 6: 1, 7: 2, 8: 3, 9: 9, 10: 4, 11: 5, 12: 6},\n",
      "    'profissao': {   'admin.': 2,\n",
      "                     'aposentado': 5,\n",
      "                     'colarinho_azul': 3,\n",
      "                     'desempregado': 7,\n",
      "                     'dona_casa': 0,\n",
      "                     'empreendedor': 10,\n",
      "                     'estudante': 11,\n",
      "                     'gerente': 6,\n",
      "                     'informal': 8,\n",
      "                     'servicos': 1,\n",
      "                     'tecnico': 4},\n",
      "    'resultado': {'nao': 0, 'sim': 1}}\n"
     ]
    }
   ],
   "source": [
    "dict_cat_unique = generate_cat_unique_by_col(df_callcenter, \n",
    "                                             *list_categorical_col)\n",
    "\n",
    "pp.pprint(dict_cat_unique)"
   ]
  },
  {
   "cell_type": "markdown",
   "metadata": {},
   "source": [
    "- É preciso que todos os dados que eram categóricos sejam valores numéricos."
   ]
  },
  {
   "cell_type": "code",
   "execution_count": 99,
   "metadata": {
    "scrolled": false
   },
   "outputs": [
    {
     "name": "stdout",
     "output_type": "stream",
     "text": [
      "Type column profissao: float64\n",
      "Type column estado_civil: float64\n",
      "Type column educacao: float64\n",
      "Type column inadimplente: float64\n",
      "Type column emprestimo_moradia: float64\n",
      "Type column emprestimo_pessoal: float64\n",
      "Type column meio_contato: int64\n",
      "Type column campanha_anterior: int64\n",
      "Type column resultado: int64\n"
     ]
    }
   ],
   "source": [
    "map_values(df_callcenter, 'profissao', dict_cat_unique['profissao'])\n",
    "map_values(df_callcenter, 'estado_civil', dict_cat_unique['estado_civil'])\n",
    "map_values(df_callcenter, 'educacao', dict_cat_unique['educacao'])\n",
    "\n",
    "map_values(df_callcenter, 'inadimplente', dict_cat_unique['inadimplente'])\n",
    "map_values(df_callcenter, 'emprestimo_moradia', dict_cat_unique['emprestimo_moradia'])\n",
    "map_values(df_callcenter, 'emprestimo_pessoal', dict_cat_unique['emprestimo_pessoal'])\n",
    "\n",
    "map_values(df_callcenter, 'meio_contato', dict_cat_unique['meio_contato'])\n",
    "map_values(df_callcenter, 'campanha_anterior', dict_cat_unique['campanha_anterior'])\n",
    "\n",
    "map_values(df_callcenter, 'resultado', dict_cat_unique['resultado'])"
   ]
  },
  {
   "cell_type": "markdown",
   "metadata": {},
   "source": [
    "#### NOTA\n",
    "- A partir de agora temos novos valores para as lista de colunas"
   ]
  },
  {
   "cell_type": "code",
   "execution_count": 100,
   "metadata": {
    "scrolled": false
   },
   "outputs": [
    {
     "data": {
      "text/plain": [
       "['idade',\n",
       " 'profissao',\n",
       " 'estado_civil',\n",
       " 'educacao',\n",
       " 'inadimplente',\n",
       " 'emprestimo_moradia',\n",
       " 'emprestimo_pessoal',\n",
       " 'meio_contato',\n",
       " 'mes',\n",
       " 'dia_da_semana',\n",
       " 'duracao',\n",
       " 'qtd_contatos_campanha',\n",
       " 'dias_ultimo_contato',\n",
       " 'qtd_contatos_total',\n",
       " 'campanha_anterior',\n",
       " 'indice_precos_consumidor',\n",
       " 'indice_confianca_consumidor',\n",
       " 'euribor3m',\n",
       " 'numero_empregados',\n",
       " 'resultado']"
      ]
     },
     "metadata": {},
     "output_type": "display_data"
    },
    {
     "name": "stdout",
     "output_type": "stream",
     "text": [
      "Dataframe not contains <class 'object'> columns !\n"
     ]
    },
    {
     "data": {
      "text/plain": [
       "None"
      ]
     },
     "metadata": {},
     "output_type": "display_data"
    }
   ],
   "source": [
    "# numerical\n",
    "list_numerical_col = get_col(df_callcenter, np.number)\n",
    "display(list_numerical_col)\n",
    "\n",
    "# categorical\n",
    "list_categorical_col = get_col(df_callcenter, np.object)\n",
    "display(list_categorical_col)"
   ]
  },
  {
   "cell_type": "markdown",
   "metadata": {},
   "source": [
    "---\n",
    "\n",
    "## Valores Duplicados\n",
    "É quando a linha inteira é duplicada"
   ]
  },
  {
   "cell_type": "code",
   "execution_count": 101,
   "metadata": {},
   "outputs": [],
   "source": [
    "# duplicated()\n",
    "\n",
    "def check_quat_duplicated_data(df: 'DataFrame') -> None:\n",
    "    \"\"\"\n",
    "    Check if contains duplicated data\n",
    "    Mark duplicates as ``True`` if enough row equal\n",
    "    Except for the first occurrence.    \n",
    "    \"\"\"\n",
    "    duplicated = df.duplicated().sum()\n",
    "    total_lines = df_callcenter.shape[0]\n",
    "    percentage = (duplicated/total_lines) * 100\n",
    "    \n",
    "    print(\"-\"*25, \"DUPLICATED DATA\", \"-\"*25,)\n",
    "    print(\"\\nSHAPE of data: {}\".format(df.shape[0]))\n",
    "    print(\"TOTAL duplicated data: {}\".format(duplicated))\n",
    "    print(\"PERCENTAGE duplicated data: {} %\".format(percentage)) "
   ]
  },
  {
   "cell_type": "code",
   "execution_count": 102,
   "metadata": {},
   "outputs": [
    {
     "name": "stdout",
     "output_type": "stream",
     "text": [
      "------------------------- DUPLICATED DATA -------------------------\n",
      "\n",
      "SHAPE of data: 41188\n",
      "TOTAL duplicated data: 12\n",
      "PERCENTAGE duplicated data: 0.02913469942701758 %\n"
     ]
    }
   ],
   "source": [
    "check_quat_duplicated_data(df_callcenter)"
   ]
  },
  {
   "cell_type": "markdown",
   "metadata": {},
   "source": [
    "#### Visualização dos Valores Duplicados"
   ]
  },
  {
   "cell_type": "code",
   "execution_count": 103,
   "metadata": {
    "scrolled": false
   },
   "outputs": [
    {
     "data": {
      "text/html": [
       "<div>\n",
       "<style scoped>\n",
       "    .dataframe tbody tr th:only-of-type {\n",
       "        vertical-align: middle;\n",
       "    }\n",
       "\n",
       "    .dataframe tbody tr th {\n",
       "        vertical-align: top;\n",
       "    }\n",
       "\n",
       "    .dataframe thead th {\n",
       "        text-align: right;\n",
       "    }\n",
       "</style>\n",
       "<table border=\"1\" class=\"dataframe\">\n",
       "  <thead>\n",
       "    <tr style=\"text-align: right;\">\n",
       "      <th></th>\n",
       "      <th>idade</th>\n",
       "      <th>profissao</th>\n",
       "      <th>estado_civil</th>\n",
       "      <th>educacao</th>\n",
       "      <th>inadimplente</th>\n",
       "      <th>emprestimo_moradia</th>\n",
       "      <th>emprestimo_pessoal</th>\n",
       "      <th>meio_contato</th>\n",
       "      <th>mes</th>\n",
       "      <th>dia_da_semana</th>\n",
       "      <th>duracao</th>\n",
       "      <th>qtd_contatos_campanha</th>\n",
       "      <th>dias_ultimo_contato</th>\n",
       "      <th>qtd_contatos_total</th>\n",
       "      <th>campanha_anterior</th>\n",
       "      <th>indice_precos_consumidor</th>\n",
       "      <th>indice_confianca_consumidor</th>\n",
       "      <th>euribor3m</th>\n",
       "      <th>numero_empregados</th>\n",
       "      <th>resultado</th>\n",
       "    </tr>\n",
       "  </thead>\n",
       "  <tbody>\n",
       "    <tr>\n",
       "      <th>1265</th>\n",
       "      <td>39</td>\n",
       "      <td>3.0</td>\n",
       "      <td>0.0</td>\n",
       "      <td>2.0</td>\n",
       "      <td>0.0</td>\n",
       "      <td>0.0</td>\n",
       "      <td>0.0</td>\n",
       "      <td>0</td>\n",
       "      <td>5</td>\n",
       "      <td>4</td>\n",
       "      <td>124</td>\n",
       "      <td>1</td>\n",
       "      <td>999</td>\n",
       "      <td>0</td>\n",
       "      <td>0</td>\n",
       "      <td>93.994</td>\n",
       "      <td>-36.4</td>\n",
       "      <td>4.855</td>\n",
       "      <td>5191.0</td>\n",
       "      <td>0</td>\n",
       "    </tr>\n",
       "    <tr>\n",
       "      <th>1266</th>\n",
       "      <td>39</td>\n",
       "      <td>3.0</td>\n",
       "      <td>0.0</td>\n",
       "      <td>2.0</td>\n",
       "      <td>0.0</td>\n",
       "      <td>0.0</td>\n",
       "      <td>0.0</td>\n",
       "      <td>0</td>\n",
       "      <td>5</td>\n",
       "      <td>4</td>\n",
       "      <td>124</td>\n",
       "      <td>1</td>\n",
       "      <td>999</td>\n",
       "      <td>0</td>\n",
       "      <td>0</td>\n",
       "      <td>93.994</td>\n",
       "      <td>-36.4</td>\n",
       "      <td>4.855</td>\n",
       "      <td>5191.0</td>\n",
       "      <td>0</td>\n",
       "    </tr>\n",
       "    <tr>\n",
       "      <th>12260</th>\n",
       "      <td>36</td>\n",
       "      <td>5.0</td>\n",
       "      <td>0.0</td>\n",
       "      <td>nan</td>\n",
       "      <td>0.0</td>\n",
       "      <td>0.0</td>\n",
       "      <td>0.0</td>\n",
       "      <td>0</td>\n",
       "      <td>7</td>\n",
       "      <td>4</td>\n",
       "      <td>88</td>\n",
       "      <td>1</td>\n",
       "      <td>999</td>\n",
       "      <td>0</td>\n",
       "      <td>0</td>\n",
       "      <td>93.918</td>\n",
       "      <td>-42.7</td>\n",
       "      <td>4.966</td>\n",
       "      <td>5228.1</td>\n",
       "      <td>0</td>\n",
       "    </tr>\n",
       "    <tr>\n",
       "      <th>12261</th>\n",
       "      <td>36</td>\n",
       "      <td>5.0</td>\n",
       "      <td>0.0</td>\n",
       "      <td>nan</td>\n",
       "      <td>0.0</td>\n",
       "      <td>0.0</td>\n",
       "      <td>0.0</td>\n",
       "      <td>0</td>\n",
       "      <td>7</td>\n",
       "      <td>4</td>\n",
       "      <td>88</td>\n",
       "      <td>1</td>\n",
       "      <td>999</td>\n",
       "      <td>0</td>\n",
       "      <td>0</td>\n",
       "      <td>93.918</td>\n",
       "      <td>-42.7</td>\n",
       "      <td>4.966</td>\n",
       "      <td>5228.1</td>\n",
       "      <td>0</td>\n",
       "    </tr>\n",
       "    <tr>\n",
       "      <th>14155</th>\n",
       "      <td>27</td>\n",
       "      <td>4.0</td>\n",
       "      <td>1.0</td>\n",
       "      <td>4.0</td>\n",
       "      <td>0.0</td>\n",
       "      <td>0.0</td>\n",
       "      <td>0.0</td>\n",
       "      <td>1</td>\n",
       "      <td>7</td>\n",
       "      <td>1</td>\n",
       "      <td>331</td>\n",
       "      <td>2</td>\n",
       "      <td>999</td>\n",
       "      <td>0</td>\n",
       "      <td>0</td>\n",
       "      <td>93.918</td>\n",
       "      <td>-42.7</td>\n",
       "      <td>4.962</td>\n",
       "      <td>5228.1</td>\n",
       "      <td>0</td>\n",
       "    </tr>\n",
       "    <tr>\n",
       "      <th>14234</th>\n",
       "      <td>27</td>\n",
       "      <td>4.0</td>\n",
       "      <td>1.0</td>\n",
       "      <td>4.0</td>\n",
       "      <td>0.0</td>\n",
       "      <td>0.0</td>\n",
       "      <td>0.0</td>\n",
       "      <td>1</td>\n",
       "      <td>7</td>\n",
       "      <td>1</td>\n",
       "      <td>331</td>\n",
       "      <td>2</td>\n",
       "      <td>999</td>\n",
       "      <td>0</td>\n",
       "      <td>0</td>\n",
       "      <td>93.918</td>\n",
       "      <td>-42.7</td>\n",
       "      <td>4.962</td>\n",
       "      <td>5228.1</td>\n",
       "      <td>0</td>\n",
       "    </tr>\n",
       "    <tr>\n",
       "      <th>16819</th>\n",
       "      <td>47</td>\n",
       "      <td>4.0</td>\n",
       "      <td>2.0</td>\n",
       "      <td>1.0</td>\n",
       "      <td>0.0</td>\n",
       "      <td>1.0</td>\n",
       "      <td>0.0</td>\n",
       "      <td>1</td>\n",
       "      <td>7</td>\n",
       "      <td>4</td>\n",
       "      <td>43</td>\n",
       "      <td>3</td>\n",
       "      <td>999</td>\n",
       "      <td>0</td>\n",
       "      <td>0</td>\n",
       "      <td>93.918</td>\n",
       "      <td>-42.7</td>\n",
       "      <td>4.962</td>\n",
       "      <td>5228.1</td>\n",
       "      <td>0</td>\n",
       "    </tr>\n",
       "    <tr>\n",
       "      <th>16956</th>\n",
       "      <td>47</td>\n",
       "      <td>4.0</td>\n",
       "      <td>2.0</td>\n",
       "      <td>1.0</td>\n",
       "      <td>0.0</td>\n",
       "      <td>1.0</td>\n",
       "      <td>0.0</td>\n",
       "      <td>1</td>\n",
       "      <td>7</td>\n",
       "      <td>4</td>\n",
       "      <td>43</td>\n",
       "      <td>3</td>\n",
       "      <td>999</td>\n",
       "      <td>0</td>\n",
       "      <td>0</td>\n",
       "      <td>93.918</td>\n",
       "      <td>-42.7</td>\n",
       "      <td>4.962</td>\n",
       "      <td>5228.1</td>\n",
       "      <td>0</td>\n",
       "    </tr>\n",
       "    <tr>\n",
       "      <th>18464</th>\n",
       "      <td>32</td>\n",
       "      <td>4.0</td>\n",
       "      <td>1.0</td>\n",
       "      <td>4.0</td>\n",
       "      <td>0.0</td>\n",
       "      <td>1.0</td>\n",
       "      <td>0.0</td>\n",
       "      <td>1</td>\n",
       "      <td>7</td>\n",
       "      <td>4</td>\n",
       "      <td>128</td>\n",
       "      <td>1</td>\n",
       "      <td>999</td>\n",
       "      <td>0</td>\n",
       "      <td>0</td>\n",
       "      <td>93.918</td>\n",
       "      <td>-42.7</td>\n",
       "      <td>4.968</td>\n",
       "      <td>5228.1</td>\n",
       "      <td>0</td>\n",
       "    </tr>\n",
       "    <tr>\n",
       "      <th>18465</th>\n",
       "      <td>32</td>\n",
       "      <td>4.0</td>\n",
       "      <td>1.0</td>\n",
       "      <td>4.0</td>\n",
       "      <td>0.0</td>\n",
       "      <td>1.0</td>\n",
       "      <td>0.0</td>\n",
       "      <td>1</td>\n",
       "      <td>7</td>\n",
       "      <td>4</td>\n",
       "      <td>128</td>\n",
       "      <td>1</td>\n",
       "      <td>999</td>\n",
       "      <td>0</td>\n",
       "      <td>0</td>\n",
       "      <td>93.918</td>\n",
       "      <td>-42.7</td>\n",
       "      <td>4.968</td>\n",
       "      <td>5228.1</td>\n",
       "      <td>0</td>\n",
       "    </tr>\n",
       "    <tr>\n",
       "      <th>20072</th>\n",
       "      <td>55</td>\n",
       "      <td>1.0</td>\n",
       "      <td>0.0</td>\n",
       "      <td>1.0</td>\n",
       "      <td>nan</td>\n",
       "      <td>0.0</td>\n",
       "      <td>0.0</td>\n",
       "      <td>1</td>\n",
       "      <td>8</td>\n",
       "      <td>1</td>\n",
       "      <td>33</td>\n",
       "      <td>1</td>\n",
       "      <td>999</td>\n",
       "      <td>0</td>\n",
       "      <td>0</td>\n",
       "      <td>93.444</td>\n",
       "      <td>-36.1</td>\n",
       "      <td>4.965</td>\n",
       "      <td>5228.1</td>\n",
       "      <td>0</td>\n",
       "    </tr>\n",
       "    <tr>\n",
       "      <th>20216</th>\n",
       "      <td>55</td>\n",
       "      <td>1.0</td>\n",
       "      <td>0.0</td>\n",
       "      <td>1.0</td>\n",
       "      <td>nan</td>\n",
       "      <td>0.0</td>\n",
       "      <td>0.0</td>\n",
       "      <td>1</td>\n",
       "      <td>8</td>\n",
       "      <td>1</td>\n",
       "      <td>33</td>\n",
       "      <td>1</td>\n",
       "      <td>999</td>\n",
       "      <td>0</td>\n",
       "      <td>0</td>\n",
       "      <td>93.444</td>\n",
       "      <td>-36.1</td>\n",
       "      <td>4.965</td>\n",
       "      <td>5228.1</td>\n",
       "      <td>0</td>\n",
       "    </tr>\n",
       "  </tbody>\n",
       "</table>\n",
       "</div>"
      ],
      "text/plain": [
       "       idade  profissao  estado_civil  educacao  inadimplente  \\\n",
       "1265      39        3.0           0.0       2.0           0.0   \n",
       "1266      39        3.0           0.0       2.0           0.0   \n",
       "12260     36        5.0           0.0       nan           0.0   \n",
       "12261     36        5.0           0.0       nan           0.0   \n",
       "14155     27        4.0           1.0       4.0           0.0   \n",
       "14234     27        4.0           1.0       4.0           0.0   \n",
       "16819     47        4.0           2.0       1.0           0.0   \n",
       "16956     47        4.0           2.0       1.0           0.0   \n",
       "18464     32        4.0           1.0       4.0           0.0   \n",
       "18465     32        4.0           1.0       4.0           0.0   \n",
       "20072     55        1.0           0.0       1.0           nan   \n",
       "20216     55        1.0           0.0       1.0           nan   \n",
       "\n",
       "       emprestimo_moradia  emprestimo_pessoal  meio_contato  mes  \\\n",
       "1265                  0.0                 0.0             0    5   \n",
       "1266                  0.0                 0.0             0    5   \n",
       "12260                 0.0                 0.0             0    7   \n",
       "12261                 0.0                 0.0             0    7   \n",
       "14155                 0.0                 0.0             1    7   \n",
       "14234                 0.0                 0.0             1    7   \n",
       "16819                 1.0                 0.0             1    7   \n",
       "16956                 1.0                 0.0             1    7   \n",
       "18464                 1.0                 0.0             1    7   \n",
       "18465                 1.0                 0.0             1    7   \n",
       "20072                 0.0                 0.0             1    8   \n",
       "20216                 0.0                 0.0             1    8   \n",
       "\n",
       "       dia_da_semana  duracao  qtd_contatos_campanha  dias_ultimo_contato  \\\n",
       "1265               4      124                      1                  999   \n",
       "1266               4      124                      1                  999   \n",
       "12260              4       88                      1                  999   \n",
       "12261              4       88                      1                  999   \n",
       "14155              1      331                      2                  999   \n",
       "14234              1      331                      2                  999   \n",
       "16819              4       43                      3                  999   \n",
       "16956              4       43                      3                  999   \n",
       "18464              4      128                      1                  999   \n",
       "18465              4      128                      1                  999   \n",
       "20072              1       33                      1                  999   \n",
       "20216              1       33                      1                  999   \n",
       "\n",
       "       qtd_contatos_total  campanha_anterior  indice_precos_consumidor  \\\n",
       "1265                    0                  0                    93.994   \n",
       "1266                    0                  0                    93.994   \n",
       "12260                   0                  0                    93.918   \n",
       "12261                   0                  0                    93.918   \n",
       "14155                   0                  0                    93.918   \n",
       "14234                   0                  0                    93.918   \n",
       "16819                   0                  0                    93.918   \n",
       "16956                   0                  0                    93.918   \n",
       "18464                   0                  0                    93.918   \n",
       "18465                   0                  0                    93.918   \n",
       "20072                   0                  0                    93.444   \n",
       "20216                   0                  0                    93.444   \n",
       "\n",
       "       indice_confianca_consumidor  euribor3m  numero_empregados  resultado  \n",
       "1265                         -36.4      4.855             5191.0          0  \n",
       "1266                         -36.4      4.855             5191.0          0  \n",
       "12260                        -42.7      4.966             5228.1          0  \n",
       "12261                        -42.7      4.966             5228.1          0  \n",
       "14155                        -42.7      4.962             5228.1          0  \n",
       "14234                        -42.7      4.962             5228.1          0  \n",
       "16819                        -42.7      4.962             5228.1          0  \n",
       "16956                        -42.7      4.962             5228.1          0  \n",
       "18464                        -42.7      4.968             5228.1          0  \n",
       "18465                        -42.7      4.968             5228.1          0  \n",
       "20072                        -36.1      4.965             5228.1          0  \n",
       "20216                        -36.1      4.965             5228.1          0  "
      ]
     },
     "metadata": {},
     "output_type": "display_data"
    }
   ],
   "source": [
    "# Create dataframe only duplicated values\n",
    "df_duplicated_value = df_callcenter[df_callcenter.duplicated(keep=False)]\n",
    "\n",
    "display(df_duplicated_value.head(12))"
   ]
  },
  {
   "cell_type": "markdown",
   "metadata": {},
   "source": [
    "#### Remover Valores Duplicados"
   ]
  },
  {
   "cell_type": "code",
   "execution_count": 104,
   "metadata": {},
   "outputs": [
    {
     "name": "stdout",
     "output_type": "stream",
     "text": [
      "Shape dataframe =  (41176, 20)\n"
     ]
    }
   ],
   "source": [
    "# drop_duplicates()\n",
    "\n",
    "df_callcenter = df_callcenter.drop_duplicates(keep='first')\n",
    "print(\"Shape dataframe = \", df_callcenter.shape)"
   ]
  },
  {
   "cell_type": "markdown",
   "metadata": {},
   "source": [
    "---\n",
    "\n",
    "## Missing values"
   ]
  },
  {
   "cell_type": "code",
   "execution_count": 105,
   "metadata": {},
   "outputs": [],
   "source": [
    "# isnull()\n",
    "\n",
    "def check_if_contains_missing_val(df: 'DataFrame'):\n",
    "    \"\"\"\n",
    "    Return TRUE, if collumn contains values missing\n",
    "    \"\"\"\n",
    "    list_columns_missing = []\n",
    "    \n",
    "    for index, value in enumerate(df.isnull().any()):\n",
    "        if value is True:\n",
    "            list_columns_missing.append(df.columns[index])\n",
    "    \n",
    "    if len(list_columns_missing) > 0:\n",
    "        print(\"Columns's name with missing values:\")\n",
    "        return list_columns_missing   \n",
    "    \n",
    "    return \"The dataframe NOT contains missing values.\""
   ]
  },
  {
   "cell_type": "code",
   "execution_count": 106,
   "metadata": {
    "scrolled": true
   },
   "outputs": [
    {
     "name": "stdout",
     "output_type": "stream",
     "text": [
      "Columns's name with missing values:\n"
     ]
    },
    {
     "data": {
      "text/plain": [
       "['profissao',\n",
       " 'estado_civil',\n",
       " 'educacao',\n",
       " 'inadimplente',\n",
       " 'emprestimo_moradia',\n",
       " 'emprestimo_pessoal']"
      ]
     },
     "metadata": {},
     "output_type": "display_data"
    }
   ],
   "source": [
    "list_columns_m_v = check_if_contains_missing_val(df_callcenter)\n",
    "\n",
    "display(list_columns_m_v)  # display show one column by line"
   ]
  },
  {
   "cell_type": "code",
   "execution_count": 107,
   "metadata": {},
   "outputs": [],
   "source": [
    "def check_quat_missing_data(df: 'DataFrame', columns_m_v: list) -> None:\n",
    "    \"\"\"\n",
    "    Check if contains missing data\n",
    "    Mark missing, if line contains NaN in any column\n",
    "    \"\"\"    \n",
    "    missing_values_count = df.isnull().sum()\n",
    "    total_missing = missing_values_count.sum()\n",
    "    total_lines = df.shape[0]\n",
    "    total_cells = np.product(df.shape)\n",
    "        \n",
    "    percentage_by_line = (total_missing/total_lines) * 100\n",
    "    percentage_by_cell = (total_missing/total_cells) * 100\n",
    "    \n",
    "    # by column\n",
    "    quant_missing_by_column = df[columns_m_v].isnull().sum()\n",
    "    percentage_missing_by_column = (quant_missing_by_column/total_lines) * 100\n",
    "    \n",
    "    print(\"-\"*25, \"MISSING VALUES\", \"-\"*25)\n",
    "    print(\"\\nSHAPE of data: {}\".format(df.shape[0]))\n",
    "    print(\"TOTAL missing values: {}\".format(total_missing))\n",
    "    print(\"TOTAL missing values by column:\\n{}\\n\".format(quant_missing_by_column))\n",
    "    \n",
    "    print(\"PERCENTAGE missing values by row: {:2.3} %\".format(percentage_by_line))\n",
    "    print(\"PERCENTAGE missing values by cell: {:2.3} %\".format(percentage_by_cell))\n",
    "    print(\"PERCENTAGE missing values by column:\\n{}\".format(percentage_missing_by_column))       "
   ]
  },
  {
   "cell_type": "code",
   "execution_count": 108,
   "metadata": {
    "scrolled": false
   },
   "outputs": [
    {
     "name": "stdout",
     "output_type": "stream",
     "text": [
      "------------------------- MISSING VALUES -------------------------\n",
      "\n",
      "SHAPE of data: 41176\n",
      "TOTAL missing values: 12716\n",
      "TOTAL missing values by column:\n",
      "profissao              330\n",
      "estado_civil            80\n",
      "educacao              1730\n",
      "inadimplente          8596\n",
      "emprestimo_moradia     990\n",
      "emprestimo_pessoal     990\n",
      "dtype: int64\n",
      "\n",
      "PERCENTAGE missing values by row: 30.9 %\n",
      "PERCENTAGE missing values by cell: 1.54 %\n",
      "PERCENTAGE missing values by column:\n",
      "profissao            0.801438\n",
      "estado_civil         0.194288\n",
      "educacao              4.20148\n",
      "inadimplente          20.8762\n",
      "emprestimo_moradia    2.40431\n",
      "emprestimo_pessoal    2.40431\n",
      "dtype: float64\n"
     ]
    }
   ],
   "source": [
    "check_quat_missing_data(df_callcenter, list_columns_m_v)"
   ]
  },
  {
   "cell_type": "markdown",
   "metadata": {},
   "source": [
    "#### Análise Gráfica de Missing Values"
   ]
  },
  {
   "cell_type": "code",
   "execution_count": 109,
   "metadata": {},
   "outputs": [
    {
     "data": {
      "text/plain": [
       "<matplotlib.axes._subplots.AxesSubplot at 0x7fbde3a45fd0>"
      ]
     },
     "execution_count": 109,
     "metadata": {},
     "output_type": "execute_result"
    },
    {
     "data": {
      "image/png": "[encoded data removed]",
      "text/plain": [
       "<Figure size 1440x720 with 3 Axes>"
      ]
     },
     "metadata": {
      "needs_background": "light"
     },
     "output_type": "display_data"
    }
   ],
   "source": [
    "# Show missing by columns\n",
    "msno.bar(df_callcenter,figsize=(20,10),\n",
    "         fontsize=font_size,\n",
    "         labels=True)"
   ]
  },
  {
   "cell_type": "code",
   "execution_count": 110,
   "metadata": {
    "scrolled": false
   },
   "outputs": [
    {
     "data": {
      "text/plain": [
       "<matplotlib.axes._subplots.AxesSubplot at 0x7fbde3a822b0>"
      ]
     },
     "execution_count": 110,
     "metadata": {},
     "output_type": "execute_result"
    },
    {
     "data": {
      "image/png": "[encoded data removed]",
      "text/plain": [
       "<Figure size 1800x720 with 2 Axes>"
      ]
     },
     "metadata": {
      "needs_background": "light"
     },
     "output_type": "display_data"
    }
   ],
   "source": [
    "unsorted_data = msno.nullity_sort(df_callcenter)\n",
    "\n",
    "msno.matrix(unsorted_data, \n",
    "            color=None,\n",
    "            fontsize=font_size)"
   ]
  },
  {
   "cell_type": "markdown",
   "metadata": {},
   "source": [
    "#### Notas\n",
    "- Há somente missing values em provindos de **dados categóricos** que foram convertidos.\n",
    "- Se deletar as linhas com dados faltantes pode ser um grande prejuízo, pois temos **30.8 %** linhas apresentando esse padrão porém somente **1.5 %** das células apresenta _missing values_."
   ]
  },
  {
   "cell_type": "markdown",
   "metadata": {},
   "source": [
    "#### Tratamento de Missing Values\n",
    "- Vou utilizar a técnica de preenchimento com o valor médio da coluna: `fillna`\n",
    "- Adiciona menos variância ao dataset do que fazer uma interpolação "
   ]
  },
  {
   "cell_type": "code",
   "execution_count": 111,
   "metadata": {
    "scrolled": true
   },
   "outputs": [
    {
     "name": "stdout",
     "output_type": "stream",
     "text": [
      "184 ms ± 5.99 ms per loop (mean ± std. dev. of 7 runs, 1 loop each)\n"
     ]
    }
   ],
   "source": [
    "%%timeit\n",
    "\n",
    "[df_callcenter.fillna(df_callcenter.mean(), inplace=True) for col in df_callcenter.columns]"
   ]
  },
  {
   "cell_type": "code",
   "execution_count": 112,
   "metadata": {
    "scrolled": false
   },
   "outputs": [
    {
     "data": {
      "text/html": [
       "<div>\n",
       "<style scoped>\n",
       "    .dataframe tbody tr th:only-of-type {\n",
       "        vertical-align: middle;\n",
       "    }\n",
       "\n",
       "    .dataframe tbody tr th {\n",
       "        vertical-align: top;\n",
       "    }\n",
       "\n",
       "    .dataframe thead th {\n",
       "        text-align: right;\n",
       "    }\n",
       "</style>\n",
       "<table border=\"1\" class=\"dataframe\">\n",
       "  <thead>\n",
       "    <tr style=\"text-align: right;\">\n",
       "      <th></th>\n",
       "      <th>idade</th>\n",
       "      <th>profissao</th>\n",
       "      <th>estado_civil</th>\n",
       "      <th>educacao</th>\n",
       "      <th>inadimplente</th>\n",
       "      <th>emprestimo_moradia</th>\n",
       "      <th>emprestimo_pessoal</th>\n",
       "      <th>meio_contato</th>\n",
       "      <th>mes</th>\n",
       "      <th>dia_da_semana</th>\n",
       "      <th>duracao</th>\n",
       "      <th>qtd_contatos_campanha</th>\n",
       "      <th>dias_ultimo_contato</th>\n",
       "      <th>qtd_contatos_total</th>\n",
       "      <th>campanha_anterior</th>\n",
       "      <th>indice_precos_consumidor</th>\n",
       "      <th>indice_confianca_consumidor</th>\n",
       "      <th>euribor3m</th>\n",
       "      <th>numero_empregados</th>\n",
       "      <th>resultado</th>\n",
       "    </tr>\n",
       "  </thead>\n",
       "  <tbody>\n",
       "    <tr>\n",
       "      <th>0</th>\n",
       "      <td>56</td>\n",
       "      <td>0.0</td>\n",
       "      <td>0.0</td>\n",
       "      <td>0.0</td>\n",
       "      <td>0.0</td>\n",
       "      <td>0.0</td>\n",
       "      <td>0.0</td>\n",
       "      <td>0</td>\n",
       "      <td>5</td>\n",
       "      <td>1</td>\n",
       "      <td>261</td>\n",
       "      <td>1</td>\n",
       "      <td>999</td>\n",
       "      <td>0</td>\n",
       "      <td>0</td>\n",
       "      <td>93.994</td>\n",
       "      <td>-36.4</td>\n",
       "      <td>4.857</td>\n",
       "      <td>5191.0</td>\n",
       "      <td>0</td>\n",
       "    </tr>\n",
       "    <tr>\n",
       "      <th>1</th>\n",
       "      <td>57</td>\n",
       "      <td>1.0</td>\n",
       "      <td>0.0</td>\n",
       "      <td>1.0</td>\n",
       "      <td>0.000184162</td>\n",
       "      <td>0.0</td>\n",
       "      <td>0.0</td>\n",
       "      <td>0</td>\n",
       "      <td>5</td>\n",
       "      <td>1</td>\n",
       "      <td>149</td>\n",
       "      <td>1</td>\n",
       "      <td>999</td>\n",
       "      <td>0</td>\n",
       "      <td>0</td>\n",
       "      <td>93.994</td>\n",
       "      <td>-36.4</td>\n",
       "      <td>4.857</td>\n",
       "      <td>5191.0</td>\n",
       "      <td>0</td>\n",
       "    </tr>\n",
       "    <tr>\n",
       "      <th>2</th>\n",
       "      <td>37</td>\n",
       "      <td>1.0</td>\n",
       "      <td>0.0</td>\n",
       "      <td>1.0</td>\n",
       "      <td>0.0</td>\n",
       "      <td>1.0</td>\n",
       "      <td>0.0</td>\n",
       "      <td>0</td>\n",
       "      <td>5</td>\n",
       "      <td>1</td>\n",
       "      <td>226</td>\n",
       "      <td>1</td>\n",
       "      <td>999</td>\n",
       "      <td>0</td>\n",
       "      <td>0</td>\n",
       "      <td>93.994</td>\n",
       "      <td>-36.4</td>\n",
       "      <td>4.857</td>\n",
       "      <td>5191.0</td>\n",
       "      <td>0</td>\n",
       "    </tr>\n",
       "    <tr>\n",
       "      <th>3</th>\n",
       "      <td>40</td>\n",
       "      <td>2.0</td>\n",
       "      <td>0.0</td>\n",
       "      <td>2.0</td>\n",
       "      <td>0.0</td>\n",
       "      <td>0.0</td>\n",
       "      <td>0.0</td>\n",
       "      <td>0</td>\n",
       "      <td>5</td>\n",
       "      <td>1</td>\n",
       "      <td>151</td>\n",
       "      <td>1</td>\n",
       "      <td>999</td>\n",
       "      <td>0</td>\n",
       "      <td>0</td>\n",
       "      <td>93.994</td>\n",
       "      <td>-36.4</td>\n",
       "      <td>4.857</td>\n",
       "      <td>5191.0</td>\n",
       "      <td>0</td>\n",
       "    </tr>\n",
       "    <tr>\n",
       "      <th>4</th>\n",
       "      <td>56</td>\n",
       "      <td>1.0</td>\n",
       "      <td>0.0</td>\n",
       "      <td>1.0</td>\n",
       "      <td>0.0</td>\n",
       "      <td>0.0</td>\n",
       "      <td>1.0</td>\n",
       "      <td>0</td>\n",
       "      <td>5</td>\n",
       "      <td>1</td>\n",
       "      <td>307</td>\n",
       "      <td>1</td>\n",
       "      <td>999</td>\n",
       "      <td>0</td>\n",
       "      <td>0</td>\n",
       "      <td>93.994</td>\n",
       "      <td>-36.4</td>\n",
       "      <td>4.857</td>\n",
       "      <td>5191.0</td>\n",
       "      <td>0</td>\n",
       "    </tr>\n",
       "    <tr>\n",
       "      <th>5</th>\n",
       "      <td>45</td>\n",
       "      <td>1.0</td>\n",
       "      <td>0.0</td>\n",
       "      <td>3.0</td>\n",
       "      <td>0.000184162</td>\n",
       "      <td>0.0</td>\n",
       "      <td>0.0</td>\n",
       "      <td>0</td>\n",
       "      <td>5</td>\n",
       "      <td>1</td>\n",
       "      <td>198</td>\n",
       "      <td>1</td>\n",
       "      <td>999</td>\n",
       "      <td>0</td>\n",
       "      <td>0</td>\n",
       "      <td>93.994</td>\n",
       "      <td>-36.4</td>\n",
       "      <td>4.857</td>\n",
       "      <td>5191.0</td>\n",
       "      <td>0</td>\n",
       "    </tr>\n",
       "    <tr>\n",
       "      <th>6</th>\n",
       "      <td>59</td>\n",
       "      <td>2.0</td>\n",
       "      <td>0.0</td>\n",
       "      <td>4.0</td>\n",
       "      <td>0.0</td>\n",
       "      <td>0.0</td>\n",
       "      <td>0.0</td>\n",
       "      <td>0</td>\n",
       "      <td>5</td>\n",
       "      <td>1</td>\n",
       "      <td>139</td>\n",
       "      <td>1</td>\n",
       "      <td>999</td>\n",
       "      <td>0</td>\n",
       "      <td>0</td>\n",
       "      <td>93.994</td>\n",
       "      <td>-36.4</td>\n",
       "      <td>4.857</td>\n",
       "      <td>5191.0</td>\n",
       "      <td>0</td>\n",
       "    </tr>\n",
       "    <tr>\n",
       "      <th>7</th>\n",
       "      <td>41</td>\n",
       "      <td>3.0</td>\n",
       "      <td>0.0</td>\n",
       "      <td>3.20182</td>\n",
       "      <td>0.000184162</td>\n",
       "      <td>0.0</td>\n",
       "      <td>0.0</td>\n",
       "      <td>0</td>\n",
       "      <td>5</td>\n",
       "      <td>1</td>\n",
       "      <td>217</td>\n",
       "      <td>1</td>\n",
       "      <td>999</td>\n",
       "      <td>0</td>\n",
       "      <td>0</td>\n",
       "      <td>93.994</td>\n",
       "      <td>-36.4</td>\n",
       "      <td>4.857</td>\n",
       "      <td>5191.0</td>\n",
       "      <td>0</td>\n",
       "    </tr>\n",
       "    <tr>\n",
       "      <th>8</th>\n",
       "      <td>24</td>\n",
       "      <td>4.0</td>\n",
       "      <td>1.0</td>\n",
       "      <td>4.0</td>\n",
       "      <td>0.0</td>\n",
       "      <td>1.0</td>\n",
       "      <td>0.0</td>\n",
       "      <td>0</td>\n",
       "      <td>5</td>\n",
       "      <td>1</td>\n",
       "      <td>380</td>\n",
       "      <td>1</td>\n",
       "      <td>999</td>\n",
       "      <td>0</td>\n",
       "      <td>0</td>\n",
       "      <td>93.994</td>\n",
       "      <td>-36.4</td>\n",
       "      <td>4.857</td>\n",
       "      <td>5191.0</td>\n",
       "      <td>0</td>\n",
       "    </tr>\n",
       "    <tr>\n",
       "      <th>9</th>\n",
       "      <td>25</td>\n",
       "      <td>1.0</td>\n",
       "      <td>1.0</td>\n",
       "      <td>1.0</td>\n",
       "      <td>0.0</td>\n",
       "      <td>1.0</td>\n",
       "      <td>0.0</td>\n",
       "      <td>0</td>\n",
       "      <td>5</td>\n",
       "      <td>1</td>\n",
       "      <td>50</td>\n",
       "      <td>1</td>\n",
       "      <td>999</td>\n",
       "      <td>0</td>\n",
       "      <td>0</td>\n",
       "      <td>93.994</td>\n",
       "      <td>-36.4</td>\n",
       "      <td>4.857</td>\n",
       "      <td>5191.0</td>\n",
       "      <td>0</td>\n",
       "    </tr>\n",
       "  </tbody>\n",
       "</table>\n",
       "</div>"
      ],
      "text/plain": [
       "   idade  profissao  estado_civil  educacao  inadimplente  emprestimo_moradia  \\\n",
       "0     56        0.0           0.0       0.0           0.0                 0.0   \n",
       "1     57        1.0           0.0       1.0   0.000184162                 0.0   \n",
       "2     37        1.0           0.0       1.0           0.0                 1.0   \n",
       "3     40        2.0           0.0       2.0           0.0                 0.0   \n",
       "4     56        1.0           0.0       1.0           0.0                 0.0   \n",
       "5     45        1.0           0.0       3.0   0.000184162                 0.0   \n",
       "6     59        2.0           0.0       4.0           0.0                 0.0   \n",
       "7     41        3.0           0.0   3.20182   0.000184162                 0.0   \n",
       "8     24        4.0           1.0       4.0           0.0                 1.0   \n",
       "9     25        1.0           1.0       1.0           0.0                 1.0   \n",
       "\n",
       "   emprestimo_pessoal  meio_contato  mes  dia_da_semana  duracao  \\\n",
       "0                 0.0             0    5              1      261   \n",
       "1                 0.0             0    5              1      149   \n",
       "2                 0.0             0    5              1      226   \n",
       "3                 0.0             0    5              1      151   \n",
       "4                 1.0             0    5              1      307   \n",
       "5                 0.0             0    5              1      198   \n",
       "6                 0.0             0    5              1      139   \n",
       "7                 0.0             0    5              1      217   \n",
       "8                 0.0             0    5              1      380   \n",
       "9                 0.0             0    5              1       50   \n",
       "\n",
       "   qtd_contatos_campanha  dias_ultimo_contato  qtd_contatos_total  \\\n",
       "0                      1                  999                   0   \n",
       "1                      1                  999                   0   \n",
       "2                      1                  999                   0   \n",
       "3                      1                  999                   0   \n",
       "4                      1                  999                   0   \n",
       "5                      1                  999                   0   \n",
       "6                      1                  999                   0   \n",
       "7                      1                  999                   0   \n",
       "8                      1                  999                   0   \n",
       "9                      1                  999                   0   \n",
       "\n",
       "   campanha_anterior  indice_precos_consumidor  indice_confianca_consumidor  \\\n",
       "0                  0                    93.994                        -36.4   \n",
       "1                  0                    93.994                        -36.4   \n",
       "2                  0                    93.994                        -36.4   \n",
       "3                  0                    93.994                        -36.4   \n",
       "4                  0                    93.994                        -36.4   \n",
       "5                  0                    93.994                        -36.4   \n",
       "6                  0                    93.994                        -36.4   \n",
       "7                  0                    93.994                        -36.4   \n",
       "8                  0                    93.994                        -36.4   \n",
       "9                  0                    93.994                        -36.4   \n",
       "\n",
       "   euribor3m  numero_empregados  resultado  \n",
       "0      4.857             5191.0          0  \n",
       "1      4.857             5191.0          0  \n",
       "2      4.857             5191.0          0  \n",
       "3      4.857             5191.0          0  \n",
       "4      4.857             5191.0          0  \n",
       "5      4.857             5191.0          0  \n",
       "6      4.857             5191.0          0  \n",
       "7      4.857             5191.0          0  \n",
       "8      4.857             5191.0          0  \n",
       "9      4.857             5191.0          0  "
      ]
     },
     "execution_count": 112,
     "metadata": {},
     "output_type": "execute_result"
    }
   ],
   "source": [
    "# Check result\n",
    "df_callcenter.head(10)"
   ]
  },
  {
   "cell_type": "markdown",
   "metadata": {},
   "source": [
    "---\n",
    "\n",
    "## Conversão de Tipos\n",
    "- A partir daqui o dataframe pode ser do tipo: `integer` pois os missing values foram tratados.\n",
    "- Há exceções que continuaram sendo float, contudo limitado a 2 dígitos depois da vírgula:\n",
    "  - `indice_precos_consumidor`\n",
    "  - `indice_confianca_consumidor`\n",
    "  - `euribor3m`"
   ]
  },
  {
   "cell_type": "code",
   "execution_count": 113,
   "metadata": {},
   "outputs": [],
   "source": [
    "def handler_typing(df: 'dataframe', type_col: str, list_cont_feature: list, *columns: list):\n",
    "    for column in columns:\n",
    "        if column in list_cont_feature:\n",
    "            print(column)\n",
    "            df[column] = df[column].map('{:,.2f}'.format) \\\n",
    "                        .astype(float) # object -> float\n",
    "            continue\n",
    "            \n",
    "        df[column] = df[column].astype(dtype=type_col, errors='raise')\n",
    "    \n",
    "    return df.info(), display(df.head())"
   ]
  },
  {
   "cell_type": "code",
   "execution_count": 114,
   "metadata": {
    "scrolled": false
   },
   "outputs": [
    {
     "name": "stdout",
     "output_type": "stream",
     "text": [
      "indice_precos_consumidor\n",
      "indice_confianca_consumidor\n",
      "euribor3m\n",
      "<class 'pandas.core.frame.DataFrame'>\n",
      "Int64Index: 41176 entries, 0 to 41187\n",
      "Data columns (total 20 columns):\n",
      "idade                          41176 non-null int16\n",
      "profissao                      41176 non-null int16\n",
      "estado_civil                   41176 non-null int16\n",
      "educacao                       41176 non-null int16\n",
      "inadimplente                   41176 non-null int16\n",
      "emprestimo_moradia             41176 non-null int16\n",
      "emprestimo_pessoal             41176 non-null int16\n",
      "meio_contato                   41176 non-null int16\n",
      "mes                            41176 non-null int16\n",
      "dia_da_semana                  41176 non-null int16\n",
      "duracao                        41176 non-null int16\n",
      "qtd_contatos_campanha          41176 non-null int16\n",
      "dias_ultimo_contato            41176 non-null int16\n",
      "qtd_contatos_total             41176 non-null int16\n",
      "campanha_anterior              41176 non-null int16\n",
      "indice_precos_consumidor       41176 non-null float64\n",
      "indice_confianca_consumidor    41176 non-null float64\n",
      "euribor3m                      41176 non-null float64\n",
      "numero_empregados              41176 non-null int16\n",
      "resultado                      41176 non-null int16\n",
      "dtypes: float64(3), int16(17)\n",
      "memory usage: 2.6 MB\n"
     ]
    },
    {
     "data": {
      "text/html": [
       "<div>\n",
       "<style scoped>\n",
       "    .dataframe tbody tr th:only-of-type {\n",
       "        vertical-align: middle;\n",
       "    }\n",
       "\n",
       "    .dataframe tbody tr th {\n",
       "        vertical-align: top;\n",
       "    }\n",
       "\n",
       "    .dataframe thead th {\n",
       "        text-align: right;\n",
       "    }\n",
       "</style>\n",
       "<table border=\"1\" class=\"dataframe\">\n",
       "  <thead>\n",
       "    <tr style=\"text-align: right;\">\n",
       "      <th></th>\n",
       "      <th>idade</th>\n",
       "      <th>profissao</th>\n",
       "      <th>estado_civil</th>\n",
       "      <th>educacao</th>\n",
       "      <th>inadimplente</th>\n",
       "      <th>emprestimo_moradia</th>\n",
       "      <th>emprestimo_pessoal</th>\n",
       "      <th>meio_contato</th>\n",
       "      <th>mes</th>\n",
       "      <th>dia_da_semana</th>\n",
       "      <th>duracao</th>\n",
       "      <th>qtd_contatos_campanha</th>\n",
       "      <th>dias_ultimo_contato</th>\n",
       "      <th>qtd_contatos_total</th>\n",
       "      <th>campanha_anterior</th>\n",
       "      <th>indice_precos_consumidor</th>\n",
       "      <th>indice_confianca_consumidor</th>\n",
       "      <th>euribor3m</th>\n",
       "      <th>numero_empregados</th>\n",
       "      <th>resultado</th>\n",
       "    </tr>\n",
       "  </thead>\n",
       "  <tbody>\n",
       "    <tr>\n",
       "      <th>0</th>\n",
       "      <td>56</td>\n",
       "      <td>0</td>\n",
       "      <td>0</td>\n",
       "      <td>0</td>\n",
       "      <td>0</td>\n",
       "      <td>0</td>\n",
       "      <td>0</td>\n",
       "      <td>0</td>\n",
       "      <td>5</td>\n",
       "      <td>1</td>\n",
       "      <td>261</td>\n",
       "      <td>1</td>\n",
       "      <td>999</td>\n",
       "      <td>0</td>\n",
       "      <td>0</td>\n",
       "      <td>93.99</td>\n",
       "      <td>-36.4</td>\n",
       "      <td>4.86</td>\n",
       "      <td>5191</td>\n",
       "      <td>0</td>\n",
       "    </tr>\n",
       "    <tr>\n",
       "      <th>1</th>\n",
       "      <td>57</td>\n",
       "      <td>1</td>\n",
       "      <td>0</td>\n",
       "      <td>1</td>\n",
       "      <td>0</td>\n",
       "      <td>0</td>\n",
       "      <td>0</td>\n",
       "      <td>0</td>\n",
       "      <td>5</td>\n",
       "      <td>1</td>\n",
       "      <td>149</td>\n",
       "      <td>1</td>\n",
       "      <td>999</td>\n",
       "      <td>0</td>\n",
       "      <td>0</td>\n",
       "      <td>93.99</td>\n",
       "      <td>-36.4</td>\n",
       "      <td>4.86</td>\n",
       "      <td>5191</td>\n",
       "      <td>0</td>\n",
       "    </tr>\n",
       "    <tr>\n",
       "      <th>2</th>\n",
       "      <td>37</td>\n",
       "      <td>1</td>\n",
       "      <td>0</td>\n",
       "      <td>1</td>\n",
       "      <td>0</td>\n",
       "      <td>1</td>\n",
       "      <td>0</td>\n",
       "      <td>0</td>\n",
       "      <td>5</td>\n",
       "      <td>1</td>\n",
       "      <td>226</td>\n",
       "      <td>1</td>\n",
       "      <td>999</td>\n",
       "      <td>0</td>\n",
       "      <td>0</td>\n",
       "      <td>93.99</td>\n",
       "      <td>-36.4</td>\n",
       "      <td>4.86</td>\n",
       "      <td>5191</td>\n",
       "      <td>0</td>\n",
       "    </tr>\n",
       "    <tr>\n",
       "      <th>3</th>\n",
       "      <td>40</td>\n",
       "      <td>2</td>\n",
       "      <td>0</td>\n",
       "      <td>2</td>\n",
       "      <td>0</td>\n",
       "      <td>0</td>\n",
       "      <td>0</td>\n",
       "      <td>0</td>\n",
       "      <td>5</td>\n",
       "      <td>1</td>\n",
       "      <td>151</td>\n",
       "      <td>1</td>\n",
       "      <td>999</td>\n",
       "      <td>0</td>\n",
       "      <td>0</td>\n",
       "      <td>93.99</td>\n",
       "      <td>-36.4</td>\n",
       "      <td>4.86</td>\n",
       "      <td>5191</td>\n",
       "      <td>0</td>\n",
       "    </tr>\n",
       "    <tr>\n",
       "      <th>4</th>\n",
       "      <td>56</td>\n",
       "      <td>1</td>\n",
       "      <td>0</td>\n",
       "      <td>1</td>\n",
       "      <td>0</td>\n",
       "      <td>0</td>\n",
       "      <td>1</td>\n",
       "      <td>0</td>\n",
       "      <td>5</td>\n",
       "      <td>1</td>\n",
       "      <td>307</td>\n",
       "      <td>1</td>\n",
       "      <td>999</td>\n",
       "      <td>0</td>\n",
       "      <td>0</td>\n",
       "      <td>93.99</td>\n",
       "      <td>-36.4</td>\n",
       "      <td>4.86</td>\n",
       "      <td>5191</td>\n",
       "      <td>0</td>\n",
       "    </tr>\n",
       "  </tbody>\n",
       "</table>\n",
       "</div>"
      ],
      "text/plain": [
       "   idade  profissao  estado_civil  educacao  inadimplente  emprestimo_moradia  \\\n",
       "0     56          0             0         0             0                   0   \n",
       "1     57          1             0         1             0                   0   \n",
       "2     37          1             0         1             0                   1   \n",
       "3     40          2             0         2             0                   0   \n",
       "4     56          1             0         1             0                   0   \n",
       "\n",
       "   emprestimo_pessoal  meio_contato  mes  dia_da_semana  duracao  \\\n",
       "0                   0             0    5              1      261   \n",
       "1                   0             0    5              1      149   \n",
       "2                   0             0    5              1      226   \n",
       "3                   0             0    5              1      151   \n",
       "4                   1             0    5              1      307   \n",
       "\n",
       "   qtd_contatos_campanha  dias_ultimo_contato  qtd_contatos_total  \\\n",
       "0                      1                  999                   0   \n",
       "1                      1                  999                   0   \n",
       "2                      1                  999                   0   \n",
       "3                      1                  999                   0   \n",
       "4                      1                  999                   0   \n",
       "\n",
       "   campanha_anterior  indice_precos_consumidor  indice_confianca_consumidor  \\\n",
       "0                  0                     93.99                        -36.4   \n",
       "1                  0                     93.99                        -36.4   \n",
       "2                  0                     93.99                        -36.4   \n",
       "3                  0                     93.99                        -36.4   \n",
       "4                  0                     93.99                        -36.4   \n",
       "\n",
       "   euribor3m  numero_empregados  resultado  \n",
       "0       4.86               5191          0  \n",
       "1       4.86               5191          0  \n",
       "2       4.86               5191          0  \n",
       "3       4.86               5191          0  \n",
       "4       4.86               5191          0  "
      ]
     },
     "metadata": {},
     "output_type": "display_data"
    },
    {
     "data": {
      "text/plain": [
       "(None, None)"
      ]
     },
     "execution_count": 114,
     "metadata": {},
     "output_type": "execute_result"
    }
   ],
   "source": [
    "list_cont_feature = ['indice_precos_consumidor',\n",
    "                     'indice_confianca_consumidor',\n",
    "                     'euribor3m']\n",
    "\n",
    "handler_typing(df_callcenter, 'int16', list_cont_feature, *list_columns)"
   ]
  },
  {
   "cell_type": "markdown",
   "metadata": {},
   "source": [
    "#### Nota\n",
    "- O dataframe diminuiu de **memory usage: 6.3 MB** para menos que **3.0 MB**"
   ]
  },
  {
   "cell_type": "markdown",
   "metadata": {},
   "source": [
    "---\n",
    "\n",
    "## Outliers\n",
    "- A função `pandas.describe()` trás algumas informações sobre que compõem o boxplot."
   ]
  },
  {
   "cell_type": "code",
   "execution_count": 115,
   "metadata": {},
   "outputs": [
    {
     "data": {
      "text/html": [
       "<div>\n",
       "<style scoped>\n",
       "    .dataframe tbody tr th:only-of-type {\n",
       "        vertical-align: middle;\n",
       "    }\n",
       "\n",
       "    .dataframe tbody tr th {\n",
       "        vertical-align: top;\n",
       "    }\n",
       "\n",
       "    .dataframe thead th {\n",
       "        text-align: right;\n",
       "    }\n",
       "</style>\n",
       "<table border=\"1\" class=\"dataframe\">\n",
       "  <thead>\n",
       "    <tr style=\"text-align: right;\">\n",
       "      <th></th>\n",
       "      <th>idade</th>\n",
       "      <th>profissao</th>\n",
       "      <th>estado_civil</th>\n",
       "      <th>educacao</th>\n",
       "      <th>inadimplente</th>\n",
       "      <th>emprestimo_moradia</th>\n",
       "      <th>emprestimo_pessoal</th>\n",
       "      <th>meio_contato</th>\n",
       "      <th>mes</th>\n",
       "      <th>dia_da_semana</th>\n",
       "      <th>duracao</th>\n",
       "      <th>qtd_contatos_campanha</th>\n",
       "      <th>dias_ultimo_contato</th>\n",
       "      <th>qtd_contatos_total</th>\n",
       "      <th>campanha_anterior</th>\n",
       "      <th>indice_precos_consumidor</th>\n",
       "      <th>indice_confianca_consumidor</th>\n",
       "      <th>euribor3m</th>\n",
       "      <th>numero_empregados</th>\n",
       "      <th>resultado</th>\n",
       "    </tr>\n",
       "  </thead>\n",
       "  <tbody>\n",
       "    <tr>\n",
       "      <th>count</th>\n",
       "      <td>41176.0</td>\n",
       "      <td>41176.0</td>\n",
       "      <td>41176.0</td>\n",
       "      <td>41176.0</td>\n",
       "      <td>41176.0</td>\n",
       "      <td>41176.0</td>\n",
       "      <td>41176.0</td>\n",
       "      <td>41176.0</td>\n",
       "      <td>41176.0</td>\n",
       "      <td>41176.0</td>\n",
       "      <td>41176.0</td>\n",
       "      <td>41176.0</td>\n",
       "      <td>41176.0</td>\n",
       "      <td>41176.0</td>\n",
       "      <td>41176.0</td>\n",
       "      <td>41176.0</td>\n",
       "      <td>41176.0</td>\n",
       "      <td>41176.0</td>\n",
       "      <td>41176.0</td>\n",
       "      <td>41176.0</td>\n",
       "    </tr>\n",
       "    <tr>\n",
       "      <th>mean</th>\n",
       "      <td>40.0238</td>\n",
       "      <td>3.62578</td>\n",
       "      <td>0.504809</td>\n",
       "      <td>3.19334</td>\n",
       "      <td>0.000145716</td>\n",
       "      <td>0.523873</td>\n",
       "      <td>0.151739</td>\n",
       "      <td>0.634714</td>\n",
       "      <td>6.60773</td>\n",
       "      <td>2.9796</td>\n",
       "      <td>258.316</td>\n",
       "      <td>2.56788</td>\n",
       "      <td>962.465</td>\n",
       "      <td>0.173013</td>\n",
       "      <td>0.169953</td>\n",
       "      <td>93.5752</td>\n",
       "      <td>-40.5029</td>\n",
       "      <td>3.62142</td>\n",
       "      <td>5166.85</td>\n",
       "      <td>0.112663</td>\n",
       "    </tr>\n",
       "    <tr>\n",
       "      <th>std</th>\n",
       "      <td>10.4207</td>\n",
       "      <td>2.40785</td>\n",
       "      <td>0.688443</td>\n",
       "      <td>2.15596</td>\n",
       "      <td>0.017071</td>\n",
       "      <td>0.499436</td>\n",
       "      <td>0.358772</td>\n",
       "      <td>0.481516</td>\n",
       "      <td>2.04101</td>\n",
       "      <td>1.41154</td>\n",
       "      <td>259.305</td>\n",
       "      <td>2.77032</td>\n",
       "      <td>186.937</td>\n",
       "      <td>0.494964</td>\n",
       "      <td>0.455811</td>\n",
       "      <td>0.579901</td>\n",
       "      <td>4.62786</td>\n",
       "      <td>1.73453</td>\n",
       "      <td>72.3282</td>\n",
       "      <td>0.316184</td>\n",
       "    </tr>\n",
       "    <tr>\n",
       "      <th>min</th>\n",
       "      <td>17.0</td>\n",
       "      <td>0.0</td>\n",
       "      <td>0.0</td>\n",
       "      <td>0.0</td>\n",
       "      <td>0.0</td>\n",
       "      <td>0.0</td>\n",
       "      <td>0.0</td>\n",
       "      <td>0.0</td>\n",
       "      <td>3.0</td>\n",
       "      <td>1.0</td>\n",
       "      <td>0.0</td>\n",
       "      <td>1.0</td>\n",
       "      <td>0.0</td>\n",
       "      <td>0.0</td>\n",
       "      <td>0.0</td>\n",
       "      <td>92.2</td>\n",
       "      <td>-50.8</td>\n",
       "      <td>0.63</td>\n",
       "      <td>4963.0</td>\n",
       "      <td>0.0</td>\n",
       "    </tr>\n",
       "    <tr>\n",
       "      <th>25%</th>\n",
       "      <td>32.0</td>\n",
       "      <td>2.0</td>\n",
       "      <td>0.0</td>\n",
       "      <td>1.0</td>\n",
       "      <td>0.0</td>\n",
       "      <td>0.0</td>\n",
       "      <td>0.0</td>\n",
       "      <td>0.0</td>\n",
       "      <td>5.0</td>\n",
       "      <td>2.0</td>\n",
       "      <td>102.0</td>\n",
       "      <td>1.0</td>\n",
       "      <td>999.0</td>\n",
       "      <td>0.0</td>\n",
       "      <td>0.0</td>\n",
       "      <td>93.08</td>\n",
       "      <td>-42.7</td>\n",
       "      <td>1.34</td>\n",
       "      <td>5099.0</td>\n",
       "      <td>0.0</td>\n",
       "    </tr>\n",
       "    <tr>\n",
       "      <th>50%</th>\n",
       "      <td>38.0</td>\n",
       "      <td>3.0</td>\n",
       "      <td>0.0</td>\n",
       "      <td>3.0</td>\n",
       "      <td>0.0</td>\n",
       "      <td>1.0</td>\n",
       "      <td>0.0</td>\n",
       "      <td>1.0</td>\n",
       "      <td>6.0</td>\n",
       "      <td>3.0</td>\n",
       "      <td>180.0</td>\n",
       "      <td>2.0</td>\n",
       "      <td>999.0</td>\n",
       "      <td>0.0</td>\n",
       "      <td>0.0</td>\n",
       "      <td>93.75</td>\n",
       "      <td>-41.8</td>\n",
       "      <td>4.86</td>\n",
       "      <td>5191.0</td>\n",
       "      <td>0.0</td>\n",
       "    </tr>\n",
       "    <tr>\n",
       "      <th>75%</th>\n",
       "      <td>47.0</td>\n",
       "      <td>4.0</td>\n",
       "      <td>1.0</td>\n",
       "      <td>6.0</td>\n",
       "      <td>0.0</td>\n",
       "      <td>1.0</td>\n",
       "      <td>0.0</td>\n",
       "      <td>1.0</td>\n",
       "      <td>8.0</td>\n",
       "      <td>4.0</td>\n",
       "      <td>319.0</td>\n",
       "      <td>3.0</td>\n",
       "      <td>999.0</td>\n",
       "      <td>0.0</td>\n",
       "      <td>0.0</td>\n",
       "      <td>93.99</td>\n",
       "      <td>-36.4</td>\n",
       "      <td>4.96</td>\n",
       "      <td>5228.0</td>\n",
       "      <td>0.0</td>\n",
       "    </tr>\n",
       "    <tr>\n",
       "      <th>max</th>\n",
       "      <td>98.0</td>\n",
       "      <td>11.0</td>\n",
       "      <td>2.0</td>\n",
       "      <td>7.0</td>\n",
       "      <td>2.0</td>\n",
       "      <td>1.0</td>\n",
       "      <td>1.0</td>\n",
       "      <td>1.0</td>\n",
       "      <td>12.0</td>\n",
       "      <td>5.0</td>\n",
       "      <td>4918.0</td>\n",
       "      <td>56.0</td>\n",
       "      <td>999.0</td>\n",
       "      <td>7.0</td>\n",
       "      <td>2.0</td>\n",
       "      <td>94.77</td>\n",
       "      <td>-26.9</td>\n",
       "      <td>5.04</td>\n",
       "      <td>5228.0</td>\n",
       "      <td>1.0</td>\n",
       "    </tr>\n",
       "  </tbody>\n",
       "</table>\n",
       "</div>"
      ],
      "text/plain": [
       "        idade  profissao  estado_civil  educacao  inadimplente  \\\n",
       "count 41176.0    41176.0       41176.0   41176.0       41176.0   \n",
       "mean  40.0238    3.62578      0.504809   3.19334   0.000145716   \n",
       "std   10.4207    2.40785      0.688443   2.15596      0.017071   \n",
       "min      17.0        0.0           0.0       0.0           0.0   \n",
       "25%      32.0        2.0           0.0       1.0           0.0   \n",
       "50%      38.0        3.0           0.0       3.0           0.0   \n",
       "75%      47.0        4.0           1.0       6.0           0.0   \n",
       "max      98.0       11.0           2.0       7.0           2.0   \n",
       "\n",
       "       emprestimo_moradia  emprestimo_pessoal  meio_contato     mes  \\\n",
       "count             41176.0             41176.0       41176.0 41176.0   \n",
       "mean             0.523873            0.151739      0.634714 6.60773   \n",
       "std              0.499436            0.358772      0.481516 2.04101   \n",
       "min                   0.0                 0.0           0.0     3.0   \n",
       "25%                   0.0                 0.0           0.0     5.0   \n",
       "50%                   1.0                 0.0           1.0     6.0   \n",
       "75%                   1.0                 0.0           1.0     8.0   \n",
       "max                   1.0                 1.0           1.0    12.0   \n",
       "\n",
       "       dia_da_semana  duracao  qtd_contatos_campanha  dias_ultimo_contato  \\\n",
       "count        41176.0  41176.0                41176.0              41176.0   \n",
       "mean          2.9796  258.316                2.56788              962.465   \n",
       "std          1.41154  259.305                2.77032              186.937   \n",
       "min              1.0      0.0                    1.0                  0.0   \n",
       "25%              2.0    102.0                    1.0                999.0   \n",
       "50%              3.0    180.0                    2.0                999.0   \n",
       "75%              4.0    319.0                    3.0                999.0   \n",
       "max              5.0   4918.0                   56.0                999.0   \n",
       "\n",
       "       qtd_contatos_total  campanha_anterior  indice_precos_consumidor  \\\n",
       "count             41176.0            41176.0                   41176.0   \n",
       "mean             0.173013           0.169953                   93.5752   \n",
       "std              0.494964           0.455811                  0.579901   \n",
       "min                   0.0                0.0                      92.2   \n",
       "25%                   0.0                0.0                     93.08   \n",
       "50%                   0.0                0.0                     93.75   \n",
       "75%                   0.0                0.0                     93.99   \n",
       "max                   7.0                2.0                     94.77   \n",
       "\n",
       "       indice_confianca_consumidor  euribor3m  numero_empregados  resultado  \n",
       "count                      41176.0    41176.0            41176.0    41176.0  \n",
       "mean                      -40.5029    3.62142            5166.85   0.112663  \n",
       "std                        4.62786    1.73453            72.3282   0.316184  \n",
       "min                          -50.8       0.63             4963.0        0.0  \n",
       "25%                          -42.7       1.34             5099.0        0.0  \n",
       "50%                          -41.8       4.86             5191.0        0.0  \n",
       "75%                          -36.4       4.96             5228.0        0.0  \n",
       "max                          -26.9       5.04             5228.0        1.0  "
      ]
     },
     "execution_count": 115,
     "metadata": {},
     "output_type": "execute_result"
    }
   ],
   "source": [
    "df_callcenter.describe()"
   ]
  },
  {
   "cell_type": "code",
   "execution_count": 116,
   "metadata": {
    "scrolled": true
   },
   "outputs": [],
   "source": [
    "# quantile()\n",
    "\n",
    "dict_quantile = {}\n",
    "\n",
    "\n",
    "def calculate_quantile_by_col(df: 'dataframe', *columns: list) -> None:\n",
    "    \"\"\"\n",
    "    Calculate boxplot\n",
    "    \"\"\"\n",
    "    for column in columns:\n",
    "        dict_col = {}\n",
    "       \n",
    "        q1 = df[column].quantile(0.25)\n",
    "        q3 = df[column].quantile(0.75)\n",
    "        iqr = q3 - q1  # Interquartile range\n",
    "\n",
    "        dict_col[column] = {'q1': q1,\n",
    "                            'q3': q3,\n",
    "                            'iqr': iqr}\n",
    "        # add dict column in principal dict\n",
    "        dict_quantile.update(dict_col)\n",
    "\n",
    "\n",
    "def calculate_fence(dict_col: 'dataframe', *columns: list) -> None:\n",
    "    for column in columns:\n",
    "        dict_actual_col = dict_col[column]  # mount internal dict of dict_quantile\n",
    "        dict_fence = {}  # auxiliar dict\n",
    "        \n",
    "        fence_low  = dict_actual_col['q1'] - 1.5 * dict_actual_col['iqr']\n",
    "        fence_high = dict_actual_col['q3'] + 1.5 * dict_actual_col['iqr']\n",
    "        \n",
    "        dict_fence = {'fence_low': fence_low,\n",
    "                     'fence_high': fence_high}\n",
    "        \n",
    "        # add dict column in principal dict\n",
    "        dict_col[column].update(dict_fence)\n",
    "\n",
    "\n",
    "def count_outlier(df: 'dataframe', dict_quantile: dict, *columns: list):\n",
    "    for column in columns:\n",
    "        # mount internal dict of dict_quantile\n",
    "        dict_actual_col = dict_quantile[column]\n",
    "\n",
    "        outlier_less_q1 = (df[column] < dict_actual_col['fence_low']).sum()  # numpy.int64\n",
    "        outlier_more_q3 = (df[column] > dict_actual_col['fence_high']).sum()  # numpy.int64\n",
    "        total = outlier_less_q1 + outlier_more_q3\n",
    "        \n",
    "        dict_outlier = {'outlier_less_q1': outlier_less_q1,\n",
    "                        'outlier_more_q3': outlier_more_q3,\n",
    "                        'outlier_total': total}\n",
    "        \n",
    "        # add dict column in principal dict\n",
    "        dict_quantile[column].update(dict_outlier)\n",
    "        \n",
    "    print(\"-\"*25, \"Dict Quantilie\", \"-\"*25, end='\\n\\n')\n",
    "    return pp.pprint(dict_quantile)\n",
    "\n",
    "\n",
    "def check_quat_outlier(df: 'dataframe', dict_quantile: dict, *columns: list):\n",
    "    outlier_total = 0\n",
    "    total_lines = df.shape[0]\n",
    "    total_cells = np.product(df.shape)\n",
    "    \n",
    "    print(\"-\"*15, \"OUTLIERS\", \"-\"*15)\n",
    "    print(\"\\nSHAPE of data: {}\".format(df.shape[0]))\n",
    "    print(\"\\nPERCENTAGE outlier by column:\") \n",
    "    \n",
    "    # by column\n",
    "    for column in columns:\n",
    "        dict_actual_col = dict_quantile[column]  # mount internal dict of dict_quantile\n",
    "        outlier_total += dict_actual_col['outlier_total']\n",
    "\n",
    "        quant_outlier_by_col = dict_actual_col['outlier_total']\n",
    "        percentage_outlier_by_col = (quant_outlier_by_col/total_lines) * 100\n",
    "        \n",
    "        print(\"{}: {:4.4} %\".format(column, percentage_outlier_by_col)) \n",
    "\n",
    "        \n",
    "    percentage_by_line = (outlier_total/total_lines) * 100\n",
    "    percentage_by_cell = (outlier_total/total_cells) * 100\n",
    "        \n",
    "    print(\"PERCENTAGE outlier by line: {:2.3} %\".format(percentage_by_line))\n",
    "    print(\"PERCENTAGE outlier by cell: {:2.3} %\".format(percentage_by_cell))\n",
    "    print(\"\\nTOTAL outlier: {}\".format(outlier_total))"
   ]
  },
  {
   "cell_type": "code",
   "execution_count": 117,
   "metadata": {
    "scrolled": false
   },
   "outputs": [
    {
     "name": "stdout",
     "output_type": "stream",
     "text": [
      "------------------------- Dict Quantilie -------------------------\n",
      "\n",
      "{   'campanha_anterior': {   'fence_high': 0.0,\n",
      "                             'fence_low': 0.0,\n",
      "                             'iqr': 0.0,\n",
      "                             'outlier_less_q1': 0,\n",
      "                             'outlier_more_q3': 5625,\n",
      "                             'outlier_total': 5625,\n",
      "                             'q1': 0.0,\n",
      "                             'q3': 0.0},\n",
      "    'dia_da_semana': {   'fence_high': 7.0,\n",
      "                         'fence_low': -1.0,\n",
      "                         'iqr': 2.0,\n",
      "                         'outlier_less_q1': 0,\n",
      "                         'outlier_more_q3': 0,\n",
      "                         'outlier_total': 0,\n",
      "                         'q1': 2.0,\n",
      "                         'q3': 4.0},\n",
      "    'dias_ultimo_contato': {   'fence_high': 999.0,\n",
      "                               'fence_low': 999.0,\n",
      "                               'iqr': 0.0,\n",
      "                               'outlier_less_q1': 1515,\n",
      "                               'outlier_more_q3': 0,\n",
      "                               'outlier_total': 1515,\n",
      "                               'q1': 999.0,\n",
      "                               'q3': 999.0},\n",
      "    'duracao': {   'fence_high': 644.5,\n",
      "                   'fence_low': -223.5,\n",
      "                   'iqr': 217.0,\n",
      "                   'outlier_less_q1': 0,\n",
      "                   'outlier_more_q3': 2963,\n",
      "                   'outlier_total': 2963,\n",
      "                   'q1': 102.0,\n",
      "                   'q3': 319.0},\n",
      "    'educacao': {   'fence_high': 13.5,\n",
      "                    'fence_low': -6.5,\n",
      "                    'iqr': 5.0,\n",
      "                    'outlier_less_q1': 0,\n",
      "                    'outlier_more_q3': 0,\n",
      "                    'outlier_total': 0,\n",
      "                    'q1': 1.0,\n",
      "                    'q3': 6.0},\n",
      "    'emprestimo_moradia': {   'fence_high': 2.5,\n",
      "                              'fence_low': -1.5,\n",
      "                              'iqr': 1.0,\n",
      "                              'outlier_less_q1': 0,\n",
      "                              'outlier_more_q3': 0,\n",
      "                              'outlier_total': 0,\n",
      "                              'q1': 0.0,\n",
      "                              'q3': 1.0},\n",
      "    'emprestimo_pessoal': {   'fence_high': 0.0,\n",
      "                              'fence_low': 0.0,\n",
      "                              'iqr': 0.0,\n",
      "                              'outlier_less_q1': 0,\n",
      "                              'outlier_more_q3': 6248,\n",
      "                              'outlier_total': 6248,\n",
      "                              'q1': 0.0,\n",
      "                              'q3': 0.0},\n",
      "    'estado_civil': {   'fence_high': 2.5,\n",
      "                        'fence_low': -1.5,\n",
      "                        'iqr': 1.0,\n",
      "                        'outlier_less_q1': 0,\n",
      "                        'outlier_more_q3': 0,\n",
      "                        'outlier_total': 0,\n",
      "                        'q1': 0.0,\n",
      "                        'q3': 1.0},\n",
      "    'euribor3m': {   'fence_high': 10.39,\n",
      "                     'fence_low': -4.09,\n",
      "                     'iqr': 3.62,\n",
      "                     'outlier_less_q1': 0,\n",
      "                     'outlier_more_q3': 0,\n",
      "                     'outlier_total': 0,\n",
      "                     'q1': 1.34,\n",
      "                     'q3': 4.96},\n",
      "    'idade': {   'fence_high': 69.5,\n",
      "                 'fence_low': 9.5,\n",
      "                 'iqr': 15.0,\n",
      "                 'outlier_less_q1': 0,\n",
      "                 'outlier_more_q3': 468,\n",
      "                 'outlier_total': 468,\n",
      "                 'q1': 32.0,\n",
      "                 'q3': 47.0},\n",
      "    'inadimplente': {   'fence_high': 0.0,\n",
      "                        'fence_low': 0.0,\n",
      "                        'iqr': 0.0,\n",
      "                        'outlier_less_q1': 0,\n",
      "                        'outlier_more_q3': 3,\n",
      "                        'outlier_total': 3,\n",
      "                        'q1': 0.0,\n",
      "                        'q3': 0.0},\n",
      "    'indice_confianca_consumidor': {   'fence_high': -26.949999999999992,\n",
      "                                       'fence_low': -52.150000000000006,\n",
      "                                       'iqr': 6.300000000000004,\n",
      "                                       'outlier_less_q1': 0,\n",
      "                                       'outlier_more_q3': 446,\n",
      "                                       'outlier_total': 446,\n",
      "                                       'q1': -42.7,\n",
      "                                       'q3': -36.4},\n",
      "    'indice_precos_consumidor': {   'fence_high': 95.35499999999999,\n",
      "                                    'fence_low': 91.715,\n",
      "                                    'iqr': 0.9099999999999966,\n",
      "                                    'outlier_less_q1': 0,\n",
      "                                    'outlier_more_q3': 0,\n",
      "                                    'outlier_total': 0,\n",
      "                                    'q1': 93.08,\n",
      "                                    'q3': 93.99},\n",
      "    'meio_contato': {   'fence_high': 2.5,\n",
      "                        'fence_low': -1.5,\n",
      "                        'iqr': 1.0,\n",
      "                        'outlier_less_q1': 0,\n",
      "                        'outlier_more_q3': 0,\n",
      "                        'outlier_total': 0,\n",
      "                        'q1': 0.0,\n",
      "                        'q3': 1.0},\n",
      "    'mes': {   'fence_high': 12.5,\n",
      "               'fence_low': 0.5,\n",
      "               'iqr': 3.0,\n",
      "               'outlier_less_q1': 0,\n",
      "               'outlier_more_q3': 0,\n",
      "               'outlier_total': 0,\n",
      "               'q1': 5.0,\n",
      "               'q3': 8.0},\n",
      "    'numero_empregados': {   'fence_high': 5421.5,\n",
      "                             'fence_low': 4905.5,\n",
      "                             'iqr': 129.0,\n",
      "                             'outlier_less_q1': 0,\n",
      "                             'outlier_more_q3': 0,\n",
      "                             'outlier_total': 0,\n",
      "                             'q1': 5099.0,\n",
      "                             'q3': 5228.0},\n",
      "    'profissao': {   'fence_high': 7.0,\n",
      "                     'fence_low': -1.0,\n",
      "                     'iqr': 2.0,\n",
      "                     'outlier_less_q1': 0,\n",
      "                     'outlier_more_q3': 3752,\n",
      "                     'outlier_total': 3752,\n",
      "                     'q1': 2.0,\n",
      "                     'q3': 4.0},\n",
      "    'qtd_contatos_campanha': {   'fence_high': 6.0,\n",
      "                                 'fence_low': -2.0,\n",
      "                                 'iqr': 2.0,\n",
      "                                 'outlier_less_q1': 0,\n",
      "                                 'outlier_more_q3': 2406,\n",
      "                                 'outlier_total': 2406,\n",
      "                                 'q1': 1.0,\n",
      "                                 'q3': 3.0},\n",
      "    'qtd_contatos_total': {   'fence_high': 0.0,\n",
      "                              'fence_low': 0.0,\n",
      "                              'iqr': 0.0,\n",
      "                              'outlier_less_q1': 0,\n",
      "                              'outlier_more_q3': 5625,\n",
      "                              'outlier_total': 5625,\n",
      "                              'q1': 0.0,\n",
      "                              'q3': 0.0},\n",
      "    'resultado': {   'fence_high': 0.0,\n",
      "                     'fence_low': 0.0,\n",
      "                     'iqr': 0.0,\n",
      "                     'outlier_less_q1': 0,\n",
      "                     'outlier_more_q3': 4639,\n",
      "                     'outlier_total': 4639,\n",
      "                     'q1': 0.0,\n",
      "                     'q3': 0.0}}\n"
     ]
    }
   ],
   "source": [
    "# run\n",
    "calculate_quantile_by_col(df_callcenter, *list_columns)\n",
    "\n",
    "calculate_fence(dict_quantile, *list_columns)\n",
    "\n",
    "count_outlier(df_callcenter, dict_quantile, *list_columns)"
   ]
  },
  {
   "cell_type": "code",
   "execution_count": 118,
   "metadata": {
    "scrolled": false
   },
   "outputs": [
    {
     "name": "stdout",
     "output_type": "stream",
     "text": [
      "--------------- OUTLIERS ---------------\n",
      "\n",
      "SHAPE of data: 41176\n",
      "\n",
      "PERCENTAGE outlier by column:\n",
      "idade: 1.137 %\n",
      "profissao: 9.112 %\n",
      "estado_civil:  0.0 %\n",
      "educacao:  0.0 %\n",
      "inadimplente: 0.007286 %\n",
      "emprestimo_moradia:  0.0 %\n",
      "emprestimo_pessoal: 15.17 %\n",
      "meio_contato:  0.0 %\n",
      "mes:  0.0 %\n",
      "dia_da_semana:  0.0 %\n",
      "duracao: 7.196 %\n",
      "qtd_contatos_campanha: 5.843 %\n",
      "dias_ultimo_contato: 3.679 %\n",
      "qtd_contatos_total: 13.66 %\n",
      "campanha_anterior: 13.66 %\n",
      "indice_precos_consumidor:  0.0 %\n",
      "indice_confianca_consumidor: 1.083 %\n",
      "euribor3m:  0.0 %\n",
      "numero_empregados:  0.0 %\n",
      "resultado: 11.27 %\n",
      "PERCENTAGE outlier by line: 81.8 %\n",
      "PERCENTAGE outlier by cell: 4.09 %\n",
      "\n",
      "TOTAL outlier: 33690\n"
     ]
    }
   ],
   "source": [
    "check_quat_outlier(df_callcenter, dict_quantile, *list_columns)"
   ]
  },
  {
   "cell_type": "markdown",
   "metadata": {},
   "source": [
    "#### Análise Gráfica de Outliers"
   ]
  },
  {
   "cell_type": "code",
   "execution_count": 119,
   "metadata": {},
   "outputs": [],
   "source": [
    "def plot_box_plot(df: 'dataframe', data_set_name: str, xlim=None):\n",
    "    \"\"\"\n",
    "    Creates a seaborn boxplot including all dependent\n",
    "    \n",
    "    Args:\n",
    "    data_set_name: Name of title for the boxplot\n",
    "    xlim: Set upper and lower x-limits\n",
    "    \n",
    "    Returns:\n",
    "    Box plot with specified data_frame, title, and x-limits \n",
    "    \"\"\"\n",
    "    fig, ax = plt.subplots(figsize=(18, 10))\n",
    "\n",
    "    if xlim is not None:\n",
    "        plt.xlim(*xlim)\n",
    "    \n",
    "    plt.title(f\"Horizontal Boxplot {data_set_name}\")\n",
    "        \n",
    "    plt.ylabel('Dependent Variables')\n",
    "    plt.xlabel('Measurement x')\n",
    "    ax = sns.boxplot(data = df,\n",
    "                    orient = 'h', \n",
    "                    palette = 'Set2',\n",
    "                    notch = False, # box instead of notch shape \n",
    "                    sym = 'rs')  # red squares for outliers\n",
    "\n",
    "    plt.show()"
   ]
  },
  {
   "cell_type": "code",
   "execution_count": 120,
   "metadata": {},
   "outputs": [
    {
     "data": {
      "image/png": "[encoded data removed]",
      "text/plain": [
       "<Figure size 1296x720 with 1 Axes>"
      ]
     },
     "metadata": {
      "needs_background": "light"
     },
     "output_type": "display_data"
    }
   ],
   "source": [
    "plot_box_plot(df_callcenter, \n",
    "              'Callcenter Marketing', \n",
    "              (-55, 70))"
   ]
  },
  {
   "cell_type": "markdown",
   "metadata": {},
   "source": [
    "Os box plots ficaram muito dispersos, melhor analizar separadamente."
   ]
  },
  {
   "cell_type": "code",
   "execution_count": 121,
   "metadata": {
    "scrolled": false
   },
   "outputs": [],
   "source": [
    "def show_boxplot(df, *columns):\n",
    "    for column in columns:\n",
    "        plt.figure (figsize = (17, 1)) \n",
    "        sns.boxplot(x=df[column],\n",
    "                    width=0.5,\n",
    "                    linewidth=1.0,\n",
    "                    showfliers=True)"
   ]
  },
  {
   "cell_type": "code",
   "execution_count": 122,
   "metadata": {
    "scrolled": false
   },
   "outputs": [
    {
     "data": {
      "image/png": "[encoded data removed]",
      "text/plain": [
       "<Figure size 1224x72 with 1 Axes>"
      ]
     },
     "metadata": {
      "needs_background": "light"
     },
     "output_type": "display_data"
    },
    {
     "data": {
      "image/png": "[encoded data removed]",
      "text/plain": [
       "<Figure size 1224x72 with 1 Axes>"
      ]
     },
     "metadata": {
      "needs_background": "light"
     },
     "output_type": "display_data"
    },
    {
     "data": {
      "image/png": "[encoded data removed]",
      "text/plain": [
       "<Figure size 1224x72 with 1 Axes>"
      ]
     },
     "metadata": {
      "needs_background": "light"
     },
     "output_type": "display_data"
    },
    {
     "data": {
      "image/png": "[encoded data removed]",
      "text/plain": [
       "<Figure size 1224x72 with 1 Axes>"
      ]
     },
     "metadata": {
      "needs_background": "light"
     },
     "output_type": "display_data"
    },
    {
     "data": {
      "image/png": "[encoded data removed]",
      "text/plain": [
       "<Figure size 1224x72 with 1 Axes>"
      ]
     },
     "metadata": {
      "needs_background": "light"
     },
     "output_type": "display_data"
    },
    {
     "data": {
      "image/png": "[encoded data removed]",
      "text/plain": [
       "<Figure size 1224x72 with 1 Axes>"
      ]
     },
     "metadata": {
      "needs_background": "light"
     },
     "output_type": "display_data"
    },
    {
     "data": {
      "image/png": "[encoded data removed]",
      "text/plain": [
       "<Figure size 1224x72 with 1 Axes>"
      ]
     },
     "metadata": {
      "needs_background": "light"
     },
     "output_type": "display_data"
    },
    {
     "data": {
      "image/png": "[encoded data removed]",
      "text/plain": [
       "<Figure size 1224x72 with 1 Axes>"
      ]
     },
     "metadata": {
      "needs_background": "light"
     },
     "output_type": "display_data"
    },
    {
     "data": {
      "image/png": "[encoded data removed]",
      "text/plain": [
       "<Figure size 1224x72 with 1 Axes>"
      ]
     },
     "metadata": {
      "needs_background": "light"
     },
     "output_type": "display_data"
    },
    {
     "data": {
      "image/png": "[encoded data removed]",
      "text/plain": [
       "<Figure size 1224x72 with 1 Axes>"
      ]
     },
     "metadata": {
      "needs_background": "light"
     },
     "output_type": "display_data"
    },
    {
     "data": {
      "image/png": "[encoded data removed]",
      "text/plain": [
       "<Figure size 1224x72 with 1 Axes>"
      ]
     },
     "metadata": {
      "needs_background": "light"
     },
     "output_type": "display_data"
    },
    {
     "data": {
      "image/png": "[encoded data removed]",
      "text/plain": [
       "<Figure size 1224x72 with 1 Axes>"
      ]
     },
     "metadata": {
      "needs_background": "light"
     },
     "output_type": "display_data"
    },
    {
     "data": {
      "image/png": "[encoded data removed]",
      "text/plain": [
       "<Figure size 1224x72 with 1 Axes>"
      ]
     },
     "metadata": {
      "needs_background": "light"
     },
     "output_type": "display_data"
    },
    {
     "data": {
      "image/png": "[encoded data removed]",
      "text/plain": [
       "<Figure size 1224x72 with 1 Axes>"
      ]
     },
     "metadata": {
      "needs_background": "light"
     },
     "output_type": "display_data"
    },
    {
     "data": {
      "image/png": "[encoded data removed]",
      "text/plain": [
       "<Figure size 1224x72 with 1 Axes>"
      ]
     },
     "metadata": {
      "needs_background": "light"
     },
     "output_type": "display_data"
    },
    {
     "data": {
      "image/png": "[encoded data removed]",
      "text/plain": [
       "<Figure size 1224x72 with 1 Axes>"
      ]
     },
     "metadata": {
      "needs_background": "light"
     },
     "output_type": "display_data"
    },
    {
     "data": {
      "image/png": "[encoded data removed]",
      "text/plain": [
       "<Figure size 1224x72 with 1 Axes>"
      ]
     },
     "metadata": {
      "needs_background": "light"
     },
     "output_type": "display_data"
    },
    {
     "data": {
      "image/png": "[encoded data removed]",
      "text/plain": [
       "<Figure size 1224x72 with 1 Axes>"
      ]
     },
     "metadata": {
      "needs_background": "light"
     },
     "output_type": "display_data"
    },
    {
     "data": {
      "image/png": "[encoded data removed]",
      "text/plain": [
       "<Figure size 1224x72 with 1 Axes>"
      ]
     },
     "metadata": {
      "needs_background": "light"
     },
     "output_type": "display_data"
    },
    {
     "data": {
      "image/png": "[encoded data removed]",
      "text/plain": [
       "<Figure size 1224x72 with 1 Axes>"
      ]
     },
     "metadata": {
      "needs_background": "light"
     },
     "output_type": "display_data"
    }
   ],
   "source": [
    "show_boxplot(df_callcenter, *list_columns)"
   ]
  },
  {
   "cell_type": "markdown",
   "metadata": {},
   "source": [
    "#### Notas\n",
    "\n",
    "- A variável `idade` apresenta outliers, contudo não se faz necessário tratar.\n",
    "\n",
    "\n",
    "- `profissao`, `estado civil`, `educacao`, `meio_contato`, `mes`, `dia_semana` e `campanha_anterior` são variáveis provindas de valores categóricos.\n",
    "\n",
    "\n",
    "- `inadimplente`, `emprestimo_pessoal`, `emprestimo_moradia` e `resultado` são variáveis categóricas que eram sim e nao. Além dessas, a variável `campanha_anterior` é um caso que apresenta somente 3 possíveis valores. Para estas variáveis, não cabe tratar outliers.\n",
    "\n",
    "\n",
    "- `duracao` apresenta **2963 outliers**.\n",
    "  - Analisando o boxplot, cabe aplicar a técnica de **rescale**.\n",
    "  - Analisar qual o tempo mínimo e máximo para `resultado == sim`.\n",
    "  - Testar a hipótese: se `duracao == 0`, então `resultado == nao`.<br/>\n",
    "    OBS: caso resultado POSITIVO, poderá ser algum resultado de campanha anterior\n",
    "\n",
    "\n",
    "- `qtd_contatos_campanha` apresenta **2406 outliers**. \n",
    "  - Analisando o boxplot, cabe aplicar a técnica de **rescale**.\n",
    "\n",
    "\n",
    "- `qtd_contatos_total` apresenta **5625 outliers**.\n",
    "  - Neste caso, qualquer contato > 0 já foi considerado outlier. Então, cabe testar a hipótese: se `qtd_contatos_total == 0`, então `resultado NEGATIVO`.<br/>\n",
    "  OBS: qtd_contatos_total é número de contatos realizados antes desta campanha e para este cliente\n",
    "\n",
    "\n",
    "- `dias_ultimo_contato` apresenta outlier porque ficou registrado no dataset 999 dias em casos que não se tem uma previsão de último contato. Então isso se torna um outlier que precisa ser tratado.\n",
    "  - Neste caso, irei subtituir o valor 999 por 0 pois isso deixará uma distribuição mais perto da normal\n",
    "\n",
    "\n",
    "- `indice_confianca_consumidor` apresenta **446 outliers**.\n",
    "  - São poucos outliers, por isso não irei aplicar alguma técnica de tratamento de outliers.\n",
    "\n",
    "\n",
    " - `indice_precos_consumidor`, `euribor3m`, `numero_empregados` não apresentam outliers."
   ]
  },
  {
   "cell_type": "markdown",
   "metadata": {},
   "source": [
    "#### Anásile de Tempo Mínimo e Máximo para `resultado == sim`"
   ]
  },
  {
   "cell_type": "code",
   "execution_count": 123,
   "metadata": {},
   "outputs": [
    {
     "name": "stdout",
     "output_type": "stream",
     "text": [
      "Minimum duration in sec: \n",
      "resultado     1\n",
      "duracao      37\n",
      "Name: 24016, dtype: int16\n",
      "\n",
      "Maximum duration in sec: \n",
      "resultado       1\n",
      "duracao      4199\n",
      "Name: 22192, dtype: int16\n"
     ]
    }
   ],
   "source": [
    "df_min = df_callcenter[['resultado','duracao']].sort_values(['duracao'])\n",
    "\n",
    "print('Minimum duration in sec: \\n{}\\n'.format(df_min.query('resultado == 1').iloc[0]))\n",
    "print('Maximum duration in sec: \\n{}'.format(df_min.query('resultado == 1').iloc[-1]))"
   ]
  },
  {
   "cell_type": "markdown",
   "metadata": {},
   "source": [
    "- A partir de 37 segundos surge o primeiro resultao posivito\n",
    "- Até 4199 segundos pode ocorrer um resultado positivo\n",
    "\n",
    "Acredito que remover valores entre estes limites de duracao pode afetar o treinamento, por isso irei manter."
   ]
  },
  {
   "cell_type": "markdown",
   "metadata": {},
   "source": [
    "#### Tratamento de Outliers"
   ]
  },
  {
   "cell_type": "markdown",
   "metadata": {},
   "source": [
    "- **Hipótese**:\n",
    "Se `duracao == 0`, então `resultado NEGATIVO`"
   ]
  },
  {
   "cell_type": "code",
   "execution_count": 124,
   "metadata": {},
   "outputs": [
    {
     "data": {
      "text/plain": [
       "0"
      ]
     },
     "execution_count": 124,
     "metadata": {},
     "output_type": "execute_result"
    }
   ],
   "source": [
    "# 'resultado': {'nao': 0, 'sim': 1}\n",
    "\n",
    "df_min = df_callcenter[['duracao','resultado']]\n",
    "len(df_min.query('duracao == 0 & resultado == 1'))"
   ]
  },
  {
   "cell_type": "markdown",
   "metadata": {},
   "source": [
    "Não há casos em que a ligação durou 0 minutos e o resultado foi positivo. Então, a partir disso, esta confirmado os outliers. Vou eliminar as tuplas que apresentam a condição da hipótese levantada."
   ]
  },
  {
   "cell_type": "code",
   "execution_count": 125,
   "metadata": {
    "scrolled": true
   },
   "outputs": [
    {
     "name": "stdout",
     "output_type": "stream",
     "text": [
      "Rows before operation = 41176\n",
      "Rows after operation = 41172\n"
     ]
    }
   ],
   "source": [
    "print(f'Rows before operation = {df_callcenter.shape[0]}')\n",
    "\n",
    "cond_duracao = (df_callcenter.duracao > 0) \n",
    "df_callcenter = df_callcenter[cond_duracao]\n",
    "\n",
    "print(f'Rows after operation = {df_callcenter.shape[0]}')"
   ]
  },
  {
   "cell_type": "markdown",
   "metadata": {},
   "source": [
    "- **Hipótese**: Se `qtd_contatos_total == 0`, então `resultado NEGATIVO`."
   ]
  },
  {
   "cell_type": "code",
   "execution_count": 126,
   "metadata": {
    "scrolled": true
   },
   "outputs": [
    {
     "data": {
      "text/plain": [
       "3140"
      ]
     },
     "execution_count": 126,
     "metadata": {},
     "output_type": "execute_result"
    }
   ],
   "source": [
    "df_min = df_callcenter[['resultado','qtd_contatos_total']]\n",
    "\n",
    "len(df_min.query('resultado == 1 & qtd_contatos_total == 0'))"
   ]
  },
  {
   "cell_type": "markdown",
   "metadata": {},
   "source": [
    "A princípio esta hipótese não foi válida, ou seja, mesmo que `qtd_contatos_total == 0`, há resultado POSITIVOS. Isso significa que deve haver pelo menos 1 contato da `qtd_contatos_total`"
   ]
  },
  {
   "cell_type": "markdown",
   "metadata": {},
   "source": [
    "- **rescale**: `duracao`, `qtd_contatos_campanha`"
   ]
  },
  {
   "cell_type": "code",
   "execution_count": 127,
   "metadata": {},
   "outputs": [],
   "source": [
    "def plot_distribuition(df: 'dataframe', column: str):\n",
    "    plt.figure()\n",
    "    df[column].plot.hist(alpha=0.5, color='blue')\n",
    "    plt.title(f\"Distribuição da Coluna {column}\")\n",
    "    plt.show()\n",
    "\n",
    "    sns.boxplot(x=df[column],\n",
    "                width=0.5,\n",
    "                showfliers=True)"
   ]
  },
  {
   "cell_type": "code",
   "execution_count": 128,
   "metadata": {},
   "outputs": [],
   "source": [
    "def apply_log(df: 'dataframe' = None,\n",
    "              fix: int = 0,\n",
    "              type_col: 'number' = 'int16',\n",
    "              column: str = None):\n",
    "    \n",
    "    skew_before = df[column].skew()\n",
    "    df[column] = [np.log(x + fix).astype(type_col) for x in df[column]]\n",
    "    skew_after = df[column].skew()\n",
    "    \n",
    "    return f'Skew before = {skew_before} -> Skew after = {skew_after}'"
   ]
  },
  {
   "cell_type": "code",
   "execution_count": 129,
   "metadata": {},
   "outputs": [
    {
     "data": {
      "image/png": "[encoded data removed]",
      "text/plain": [
       "<Figure size 432x288 with 1 Axes>"
      ]
     },
     "metadata": {
      "needs_background": "light"
     },
     "output_type": "display_data"
    },
    {
     "data": {
      "image/png": "[encoded data removed]",
      "text/plain": [
       "<Figure size 432x288 with 1 Axes>"
      ]
     },
     "metadata": {
      "needs_background": "light"
     },
     "output_type": "display_data"
    }
   ],
   "source": [
    "plot_distribuition(df_callcenter, 'duracao')"
   ]
  },
  {
   "cell_type": "code",
   "execution_count": 130,
   "metadata": {},
   "outputs": [
    {
     "data": {
      "text/plain": [
       "'Skew before = 3.2629266391894887 -> Skew after = -0.36097330757266477'"
      ]
     },
     "execution_count": 130,
     "metadata": {},
     "output_type": "execute_result"
    }
   ],
   "source": [
    "apply_log(df = df_callcenter,\n",
    "          fix= 1,\n",
    "          type_col = int,\n",
    "          column = 'duracao')"
   ]
  },
  {
   "cell_type": "code",
   "execution_count": 131,
   "metadata": {},
   "outputs": [
    {
     "data": {
      "image/png": "[encoded data removed]",
      "text/plain": [
       "<Figure size 432x288 with 1 Axes>"
      ]
     },
     "metadata": {
      "needs_background": "light"
     },
     "output_type": "display_data"
    },
    {
     "data": {
      "image/png": "[encoded data removed]",
      "text/plain": [
       "<Figure size 432x288 with 1 Axes>"
      ]
     },
     "metadata": {
      "needs_background": "light"
     },
     "output_type": "display_data"
    }
   ],
   "source": [
    "plot_distribuition(df_callcenter, 'duracao')"
   ]
  },
  {
   "cell_type": "code",
   "execution_count": 132,
   "metadata": {},
   "outputs": [
    {
     "data": {
      "image/png": "[encoded data removed]",
      "text/plain": [
       "<Figure size 432x288 with 1 Axes>"
      ]
     },
     "metadata": {
      "needs_background": "light"
     },
     "output_type": "display_data"
    },
    {
     "data": {
      "image/png": "[encoded data removed]",
      "text/plain": [
       "<Figure size 432x288 with 1 Axes>"
      ]
     },
     "metadata": {
      "needs_background": "light"
     },
     "output_type": "display_data"
    }
   ],
   "source": [
    "plot_distribuition(df_callcenter, 'qtd_contatos_campanha')"
   ]
  },
  {
   "cell_type": "code",
   "execution_count": 133,
   "metadata": {},
   "outputs": [
    {
     "data": {
      "text/plain": [
       "'Skew before = 4.762876793279734 -> Skew after = 1.4681637368669567'"
      ]
     },
     "execution_count": 133,
     "metadata": {},
     "output_type": "execute_result"
    }
   ],
   "source": [
    "apply_log(df = df_callcenter,\n",
    "          type_col = int,\n",
    "          column = 'qtd_contatos_campanha')"
   ]
  },
  {
   "cell_type": "code",
   "execution_count": 134,
   "metadata": {},
   "outputs": [
    {
     "data": {
      "image/png": "[encoded data removed]",
      "text/plain": [
       "<Figure size 432x288 with 1 Axes>"
      ]
     },
     "metadata": {
      "needs_background": "light"
     },
     "output_type": "display_data"
    },
    {
     "data": {
      "image/png": "[encoded data removed]",
      "text/plain": [
       "<Figure size 432x288 with 1 Axes>"
      ]
     },
     "metadata": {
      "needs_background": "light"
     },
     "output_type": "display_data"
    }
   ],
   "source": [
    "plot_distribuition(df_callcenter, 'qtd_contatos_campanha')"
   ]
  },
  {
   "cell_type": "markdown",
   "metadata": {},
   "source": [
    "- `dias_ultimo_contato` substituição de valores"
   ]
  },
  {
   "cell_type": "code",
   "execution_count": 135,
   "metadata": {
    "scrolled": true
   },
   "outputs": [
    {
     "name": "stdout",
     "output_type": "stream",
     "text": [
      "Rows with (dias_ultimo_contato == 999), after operation = 0\n"
     ]
    }
   ],
   "source": [
    "df_callcenter['dias_ultimo_contato'] = df_callcenter['dias_ultimo_contato'].replace(999, 1)\n",
    "\n",
    "count_row_999 = len(df_callcenter.query('dias_ultimo_contato == 999'))\n",
    "print(f'Rows with (dias_ultimo_contato == 999), after operation = {count_row_999}')"
   ]
  },
  {
   "cell_type": "markdown",
   "metadata": {},
   "source": [
    "---\n",
    "\n",
    "## Armazenamento dos Dados Limpos"
   ]
  },
  {
   "cell_type": "code",
   "execution_count": 136,
   "metadata": {},
   "outputs": [],
   "source": [
    "def save_data_clenning(df: 'dataframe' = None,\n",
    "                       path: str = 'data/cleansing') -> None:\n",
    "    df.to_csv(path_or_buf = path,\n",
    "              sep = ',',\n",
    "              index = False,\n",
    "              encoding = 'utf8')\n",
    "    \n",
    "    return \"Data storage!\""
   ]
  },
  {
   "cell_type": "code",
   "execution_count": 137,
   "metadata": {
    "scrolled": true
   },
   "outputs": [
    {
     "data": {
      "text/plain": [
       "'Data storage!'"
      ]
     },
     "execution_count": 137,
     "metadata": {},
     "output_type": "execute_result"
    }
   ],
   "source": [
    "save_data_clenning(df = df_callcenter,\n",
    "                   path = 'data/cleansing/callcenter_marketing_clenning.csv')"
   ]
  }
 ],
 "metadata": {
  "kernelspec": {
   "display_name": "Python 3",
   "language": "python",
   "name": "python3"
  },
  "language_info": {
   "codemirror_mode": {
    "name": "ipython",
    "version": 3
   },
   "file_extension": ".py",
   "mimetype": "text/x-python",
   "name": "python",
   "nbconvert_exporter": "python",
   "pygments_lexer": "ipython3",
   "version": "3.7.3"
  },
  "pycharm": {
   "stem_cell": {
    "cell_type": "raw",
    "metadata": {
     "collapsed": false
    },
    "source": []
   }
  }
 },
 "nbformat": 4,
 "nbformat_minor": 2
}
