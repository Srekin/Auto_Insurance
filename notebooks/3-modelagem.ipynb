{
 "cells": [
  {
   "cell_type": "markdown",
   "metadata": {},
   "source": [
    "# Teste Técnico para Ciência de Dados da Keyrus"
   ]
  },
  {
   "cell_type": "markdown",
   "metadata": {},
   "source": [
    "## 1ª parte: Análise Exploratória\n",
    "\n",
    "- [x] Tipos de variáveis\n",
    "- [x] Medidas de posição\n",
    "- [x] Medidas de dispersão\n",
    "- [x] Tratamento de Missing Values\n",
    "- [x] Gráficos\n",
    "- [x] Análise de Outliers\n",
    "\n",
    "## 2ª parte: Estatística\n",
    "\n",
    "- [x] Estatística descritiva\n",
    "- [x] Identificação das distribuições das variáveis\n",
    "\n",
    "## 3ª parte: Modelagem\n",
    "\n",
    "- [x] Modelos de previsão\n",
    "- [x] Escolha de melhor modelo\n",
    "- [x] Avaliação de resultados\n",
    "- [x] Métricas"
   ]
  },
  {
   "cell_type": "markdown",
   "metadata": {},
   "source": [
    "## Imports"
   ]
  },
  {
   "cell_type": "code",
   "execution_count": 1,
   "metadata": {},
   "outputs": [],
   "source": [
    "# Data analysis and data wrangling\n",
    "import numpy as np\n",
    "import pandas as pd\n",
    "\n",
    "# Plotting\n",
    "import seaborn as sns\n",
    "import matplotlib.pyplot as plt\n",
    "import missingno as msno # missing values\n",
    "\n",
    "# Preprocessing\n",
    "from sklearn.preprocessing import LabelEncoder\n",
    "\n",
    "# Machine Learning\n",
    "from sklearn.ensemble import RandomForestClassifier\n",
    "from sklearn.ensemble import RandomForestRegressor\n",
    "from sklearn.linear_model import LinearRegression\n",
    "\n",
    "# Metrics\n",
    "from sklearn.model_selection import KFold\n",
    "from sklearn.model_selection import StratifiedKFold\n",
    "from sklearn.model_selection import cross_val_score\n",
    "\n",
    "# Other\n",
    "from IPython.display import Image\n",
    "import configparser\n",
    "import warnings\n",
    "import os\n",
    "import time\n",
    "import pprint"
   ]
  },
  {
   "cell_type": "markdown",
   "metadata": {},
   "source": [
    "## Preparação do Diretório Principal"
   ]
  },
  {
   "cell_type": "code",
   "execution_count": 2,
   "metadata": {},
   "outputs": [],
   "source": [
    "def prepare_directory_work(end_directory: str='notebooks'):\n",
    "    # Current path\n",
    "    curr_dir = os.path.dirname (os.path.realpath (\"__file__\")) \n",
    "    \n",
    "    if curr_dir.endswith(end_directory):\n",
    "        os.chdir('..')\n",
    "        return curr_dir\n",
    "    \n",
    "    return f'Current working directory: {curr_dir}'"
   ]
  },
  {
   "cell_type": "code",
   "execution_count": 3,
   "metadata": {},
   "outputs": [
    {
     "data": {
      "text/plain": [
       "'/home/campos/projetos/challenges/challenge-keyrus/notebooks'"
      ]
     },
     "execution_count": 3,
     "metadata": {},
     "output_type": "execute_result"
    }
   ],
   "source": [
    "prepare_directory_work(end_directory='notebooks')"
   ]
  },
  {
   "cell_type": "markdown",
   "metadata": {},
   "source": [
    "## Cell Format"
   ]
  },
  {
   "cell_type": "code",
   "execution_count": 4,
   "metadata": {},
   "outputs": [],
   "source": [
    "config = configparser.ConfigParser()\n",
    "config.read('src/visualization/plot_config.ini')\n",
    "\n",
    "figure_titlesize = config['figure']['figure_titlesize']\n",
    "figure_figsize_large = int(config['figure']['figure_figsize_large'])\n",
    "figure_figsize_width = int(config['figure']['figure_figsize_width'])\n",
    "figure_dpi = int(config['figure']['figure_dpi'])\n",
    "figure_facecolor = config['figure']['figure_facecolor']\n",
    "figure_autolayout = bool(config['figure']['figure_autolayout'])\n",
    "\n",
    "font_family = config['font']['font_family']\n",
    "font_size = int(config['font']['font_size'])\n",
    "\n",
    "legend_loc = config['legend']['legend_loc']\n",
    "legend_fontsize = int(config['legend']['legend_fontsize'])"
   ]
  },
  {
   "cell_type": "code",
   "execution_count": 5,
   "metadata": {},
   "outputs": [],
   "source": [
    "# Customizing file matplotlibrc\n",
    "\n",
    "# Figure\n",
    "plt.rcParams['figure.titlesize'] = figure_titlesize\n",
    "plt.rcParams['figure.figsize'] = [figure_figsize_large, figure_figsize_width] \n",
    "plt.rcParams['figure.dpi'] = figure_dpi\n",
    "plt.rcParams['figure.facecolor'] = figure_facecolor\n",
    "plt.rcParams['figure.autolayout'] = figure_autolayout\n",
    "\n",
    "# Font\n",
    "plt.rcParams['font.family'] = font_family\n",
    "plt.rcParams['font.size'] = font_size\n",
    "\n",
    "# Legend\n",
    "plt.rcParams['legend.loc'] = legend_loc\n",
    "plt.rcParams['legend.fontsize'] = legend_fontsize"
   ]
  },
  {
   "cell_type": "code",
   "execution_count": 6,
   "metadata": {
    "scrolled": true
   },
   "outputs": [],
   "source": [
    "# Guarantees visualization inside the jupyter\n",
    "%matplotlib inline\n",
    "\n",
    "# Load the \"autoreload\" extension so that code can change\n",
    "%load_ext autoreload\n",
    "\n",
    "# Format the data os all table (float_format 3)\n",
    "pd.set_option('display.float_format', '{:.6}'.format)\n",
    "\n",
    "# Print xxxx rows and columns\n",
    "pd.set_option('display.max_rows', None)\n",
    "pd.set_option('display.max_columns', None)\n",
    "\n",
    "# Supress unnecessary warnings so that presentation looks clean\n",
    "warnings.filterwarnings('ignore')"
   ]
  },
  {
   "cell_type": "markdown",
   "metadata": {},
   "source": [
    "## Carregamento dos Dados"
   ]
  },
  {
   "cell_type": "code",
   "execution_count": 7,
   "metadata": {},
   "outputs": [
    {
     "name": "stdout",
     "output_type": "stream",
     "text": [
      "Tokenization took: 29.40 ms\n",
      "Type conversion took: 21.56 ms\n",
      "Parser memory cleanup took: 0.01 ms\n",
      "CPU times: user 55 ms, sys: 7.73 ms, total: 62.7 ms\n",
      "Wall time: 61.2 ms\n"
     ]
    }
   ],
   "source": [
    "%%time\n",
    "\n",
    "df_callcenter = pd.read_csv('data/cleansing/callcenter_marketing_clenning.csv', \n",
    "                            encoding='utf8',\n",
    "                            delimiter=',',\n",
    "                            verbose=True)"
   ]
  },
  {
   "cell_type": "code",
   "execution_count": 8,
   "metadata": {},
   "outputs": [
    {
     "name": "stdout",
     "output_type": "stream",
     "text": [
      "<class 'pandas.core.frame.DataFrame'>\n",
      "RangeIndex: 41172 entries, 0 to 41171\n",
      "Data columns (total 15 columns):\n",
      "idade                          41172 non-null int64\n",
      "profissao                      41172 non-null int64\n",
      "educacao                       41172 non-null int64\n",
      "meio_contato                   41172 non-null int64\n",
      "mes                            41172 non-null int64\n",
      "dia_da_semana                  41172 non-null int64\n",
      "duracao                        41172 non-null int64\n",
      "dias_ultimo_contato            41172 non-null int64\n",
      "qtd_contatos_total             41172 non-null int64\n",
      "campanha_anterior              41172 non-null int64\n",
      "indice_precos_consumidor       41172 non-null float64\n",
      "indice_confianca_consumidor    41172 non-null float64\n",
      "euribor3m                      41172 non-null float64\n",
      "numero_empregados              41172 non-null int64\n",
      "resultado                      41172 non-null int64\n",
      "dtypes: float64(3), int64(12)\n",
      "memory usage: 4.7 MB\n"
     ]
    }
   ],
   "source": [
    "df_callcenter.info()"
   ]
  },
  {
   "cell_type": "markdown",
   "metadata": {},
   "source": [
    "OBS: carragamento em quase metade do tempo em realação a versão original do arquivo csv."
   ]
  },
  {
   "cell_type": "markdown",
   "metadata": {},
   "source": [
    "---\n",
    "\n",
    "## Variáveis Globais"
   ]
  },
  {
   "cell_type": "code",
   "execution_count": 9,
   "metadata": {},
   "outputs": [],
   "source": [
    "# Lists that will be manipulated in the data processing\n",
    "list_columns = []\n",
    "list_categorical_col = []\n",
    "list_numerical_col = []\n",
    "list_without_target_col = []"
   ]
  },
  {
   "cell_type": "code",
   "execution_count": 10,
   "metadata": {},
   "outputs": [],
   "source": [
    "def get_col(df: 'dataframe' = None,\n",
    "            type_descr: 'numpy' = np.number) -> list:\n",
    "    \"\"\"\n",
    "    Function get list columns \n",
    "    \n",
    "    Args:\n",
    "    type_descr\n",
    "        np.number, np.object -> return list with all columns\n",
    "        np.number            -> return list numerical columns \n",
    "        np.object            -> return list object columns\n",
    "    \"\"\"\n",
    "    try:\n",
    "        col = (df.describe(include=type_descr).columns)  # pandas.core.indexes.base.Index  \n",
    "    except ValueError:\n",
    "        print(f'Dataframe not contains {type_descr} columns !', end='\\n')    \n",
    "    else:\n",
    "        return col.tolist() "
   ]
  },
  {
   "cell_type": "code",
   "execution_count": 11,
   "metadata": {},
   "outputs": [],
   "source": [
    "def get_col_without_target(df: 'dataframe',\n",
    "                           list_columns: list,\n",
    "                           target_col: str) -> list:\n",
    "\n",
    "    col_target = list_columns.copy()\n",
    "    \n",
    "    col_target.remove(target_col)\n",
    "    print(type(col_target))\n",
    "    \n",
    "    \n",
    "    return col_target"
   ]
  },
  {
   "cell_type": "code",
   "execution_count": 12,
   "metadata": {
    "scrolled": true
   },
   "outputs": [
    {
     "name": "stdout",
     "output_type": "stream",
     "text": [
      "Dataframe not contains <class 'object'> columns !\n",
      "<class 'list'>\n"
     ]
    }
   ],
   "source": [
    "list_numerical_col = get_col(df=df_callcenter,\n",
    "                             type_descr=np.number)\n",
    "list_categorical_col = get_col(df=df_callcenter,\n",
    "                               type_descr=np.object)\n",
    "list_columns = get_col(df=df_callcenter,\n",
    "                       type_descr=[np.object, np.number])\n",
    "list_without_target_col = get_col_without_target(df=df_callcenter,\n",
    "                                                 list_columns=list_columns,\n",
    "                                                 target_col='resultado')"
   ]
  },
  {
   "cell_type": "markdown",
   "metadata": {},
   "source": [
    "## Training and Testing Dataset\n",
    "- métrica: cross score"
   ]
  },
  {
   "cell_type": "code",
   "execution_count": 13,
   "metadata": {},
   "outputs": [],
   "source": [
    "def cross_val_model(X,y, model, n_splits=3):\n",
    "    'Do split dataset and calculate cross_score'\n",
    "    print(\"Begin training\", end='\\n\\n')\n",
    "    start = time.time()\n",
    "    \n",
    "    X = np.array(X)\n",
    "    y = np.array(y)\n",
    "    folds = list(StratifiedKFold(n_splits=n_splits, shuffle=True, random_state=2017).split(X, y))\n",
    "\n",
    "    for j, (train_idx, test_idx) in enumerate(folds):\n",
    "        X_train = X[train_idx]\n",
    "        y_train = y[train_idx]\n",
    "        X_holdout = X[test_idx]\n",
    "        y_holdout = y[test_idx]\n",
    "\n",
    "        print (\"Fit %s fold %d\" % (str(model).split('(')[0], j+1))\n",
    "        model.fit(X_train, y_train)\n",
    "        cross_score = cross_val_score(model, X_holdout, y_holdout, cv=3, scoring='roc_auc')\n",
    "        print(\"\\tcross_score: %.5f\" % cross_score.mean())\n",
    "    \n",
    "    end = time.time()\n",
    "    print(\"\\nTraining done! Time Elapsed:\", end - start, \" seconds.\")"
   ]
  },
  {
   "cell_type": "code",
   "execution_count": 14,
   "metadata": {},
   "outputs": [],
   "source": [
    "# training model\n",
    "\n",
    "X = df_callcenter[list_without_target_col]\n",
    "y = df_callcenter['resultado'] # target"
   ]
  },
  {
   "cell_type": "markdown",
   "metadata": {},
   "source": [
    "---\n",
    "\n",
    "## Modelos de Previsão\n",
    "- Modelo Baseline\n",
    "- Benckmarks"
   ]
  },
  {
   "cell_type": "markdown",
   "metadata": {},
   "source": [
    "### Modelo Baseline\n",
    "- Vou começar com um baseline, sendo o mais simples possível."
   ]
  },
  {
   "cell_type": "markdown",
   "metadata": {},
   "source": [
    "#### Linear Regression"
   ]
  },
  {
   "cell_type": "code",
   "execution_count": 15,
   "metadata": {},
   "outputs": [
    {
     "data": {
      "text/plain": [
       "LinearRegression(copy_X=True, fit_intercept=True, n_jobs=None, normalize=False)"
      ]
     },
     "execution_count": 15,
     "metadata": {},
     "output_type": "execute_result"
    }
   ],
   "source": [
    "# Visualize params\n",
    "\n",
    "LinearRegression()"
   ]
  },
  {
   "cell_type": "code",
   "execution_count": 16,
   "metadata": {},
   "outputs": [],
   "source": [
    "# create model\n",
    "lr_model = LinearRegression(n_jobs=-1, normalize=False)\n",
    "\n",
    "# training model\n",
    "X = df_callcenter[list_without_target_col]\n",
    "y = df_callcenter['resultado']"
   ]
  },
  {
   "cell_type": "code",
   "execution_count": 17,
   "metadata": {},
   "outputs": [
    {
     "name": "stdout",
     "output_type": "stream",
     "text": [
      "Begin training\n",
      "\n",
      "Fit LinearRegression fold 1\n",
      "\tcross_score: 0.80385\n",
      "Fit LinearRegression fold 2\n",
      "\tcross_score: 0.82735\n",
      "Fit LinearRegression fold 3\n",
      "\tcross_score: 0.81495\n",
      "\n",
      "Training done! Time Elapsed: 0.15801525115966797  seconds.\n"
     ]
    }
   ],
   "source": [
    "# split dataset and calculate cross_score\n",
    "cross_val_model(X, y, lr_model)"
   ]
  },
  {
   "cell_type": "markdown",
   "metadata": {},
   "source": [
    "### Benckmarks"
   ]
  },
  {
   "cell_type": "markdown",
   "metadata": {},
   "source": [
    "#### RandomForest"
   ]
  },
  {
   "cell_type": "code",
   "execution_count": 18,
   "metadata": {},
   "outputs": [
    {
     "data": {
      "text/plain": [
       "RandomForestClassifier(bootstrap=True, class_weight=None, criterion='gini',\n",
       "                       max_depth=None, max_features='auto', max_leaf_nodes=None,\n",
       "                       min_impurity_decrease=0.0, min_impurity_split=None,\n",
       "                       min_samples_leaf=1, min_samples_split=2,\n",
       "                       min_weight_fraction_leaf=0.0, n_estimators='warn',\n",
       "                       n_jobs=None, oob_score=False, random_state=None,\n",
       "                       verbose=0, warm_start=False)"
      ]
     },
     "execution_count": 18,
     "metadata": {},
     "output_type": "execute_result"
    }
   ],
   "source": [
    "# Visualize params\n",
    "\n",
    "RandomForestClassifier()"
   ]
  },
  {
   "cell_type": "code",
   "execution_count": 19,
   "metadata": {},
   "outputs": [],
   "source": [
    "# RandomForest params dict\n",
    "rf_params_one = {}\n",
    "\n",
    "rf_params_one['n_estimators'] = 10\n",
    "rf_params_one['max_depth'] = 10\n",
    "rf_params_one['min_samples_split'] = 10\n",
    "rf_params_one['min_samples_leaf'] = 10 # end tree necessary 30 leaf\n",
    "rf_params_one['n_jobs'] = -1 # run all process"
   ]
  },
  {
   "cell_type": "code",
   "execution_count": 20,
   "metadata": {},
   "outputs": [],
   "source": [
    "# create model\n",
    "rf_model_one = RandomForestClassifier(**rf_params_one)\n",
    "\n",
    "# training model\n",
    "X = df_callcenter[list_without_target_col]\n",
    "y = df_callcenter['resultado']"
   ]
  },
  {
   "cell_type": "code",
   "execution_count": 24,
   "metadata": {
    "scrolled": true
   },
   "outputs": [
    {
     "name": "stdout",
     "output_type": "stream",
     "text": [
      "Begin training\n",
      "\n",
      "Fit RandomForestClassifier fold 1\n",
      "\tcross_score: 0.22498\n",
      "Fit RandomForestClassifier fold 2\n",
      "\tcross_score: 0.29388\n",
      "Fit RandomForestClassifier fold 3\n",
      "\tcross_score: 0.19864\n",
      "\n",
      "Training done! Time Elapsed: 1.6323716640472412  seconds.\n"
     ]
    }
   ],
   "source": [
    "# split dataset and calculate cross_score\n",
    "cross_val_model(X, y, rf_model_one)"
   ]
  },
  {
   "cell_type": "code",
   "execution_count": 25,
   "metadata": {},
   "outputs": [],
   "source": [
    "# RandomForest params dict\n",
    "rf_params_two = {}\n",
    "\n",
    "rf_params_two['n_estimators'] = 1\n",
    "rf_params_two['max_depth'] = len(list_numerical_col)*2\n",
    "rf_params_two['min_samples_split'] = len(list_numerical_col)\n",
    "rf_params_two['min_samples_leaf'] = len(list_numerical_col)\n",
    "rf_params_two['n_jobs'] = -1 # run all process"
   ]
  },
  {
   "cell_type": "code",
   "execution_count": 26,
   "metadata": {},
   "outputs": [],
   "source": [
    "# create model\n",
    "rf_model = RandomForestClassifier(**rf_params_two)\n",
    "\n",
    "# training model\n",
    "X = df_callcenter[list_without_target_col]\n",
    "y = df_callcenter['resultado']"
   ]
  },
  {
   "cell_type": "code",
   "execution_count": 27,
   "metadata": {},
   "outputs": [
    {
     "name": "stdout",
     "output_type": "stream",
     "text": [
      "Begin training\n",
      "\n",
      "Fit RandomForestClassifier fold 1\n",
      "\tcross_score: 0.33051\n",
      "Fit RandomForestClassifier fold 2\n",
      "\tcross_score: 0.39882\n",
      "Fit RandomForestClassifier fold 3\n",
      "\tcross_score: 0.30938\n",
      "\n",
      "Training done! Time Elapsed: 0.4703516960144043  seconds.\n"
     ]
    }
   ],
   "source": [
    "# split dataset and calculate cross_score\n",
    "cross_val_model(X, y, rf_model)"
   ]
  },
  {
   "cell_type": "markdown",
   "metadata": {},
   "source": [
    "#### Random Forest Regressor"
   ]
  },
  {
   "cell_type": "code",
   "execution_count": 28,
   "metadata": {},
   "outputs": [
    {
     "data": {
      "text/plain": [
       "RandomForestRegressor(bootstrap=True, criterion='mse', max_depth=None,\n",
       "                      max_features='auto', max_leaf_nodes=None,\n",
       "                      min_impurity_decrease=0.0, min_impurity_split=None,\n",
       "                      min_samples_leaf=1, min_samples_split=2,\n",
       "                      min_weight_fraction_leaf=0.0, n_estimators='warn',\n",
       "                      n_jobs=None, oob_score=False, random_state=None,\n",
       "                      verbose=0, warm_start=False)"
      ]
     },
     "execution_count": 28,
     "metadata": {},
     "output_type": "execute_result"
    }
   ],
   "source": [
    "# Visualize params\n",
    "\n",
    "RandomForestRegressor()"
   ]
  },
  {
   "cell_type": "code",
   "execution_count": 29,
   "metadata": {},
   "outputs": [],
   "source": [
    "# 1st model Random Forest\n",
    "rf_regressor_one = RandomForestRegressor(n_jobs = -1,\n",
    "                                         verbose = 0)"
   ]
  },
  {
   "cell_type": "code",
   "execution_count": 30,
   "metadata": {
    "scrolled": true
   },
   "outputs": [
    {
     "name": "stdout",
     "output_type": "stream",
     "text": [
      "Begin training\n",
      "\n",
      "Fit RandomForestRegressor fold 1\n",
      "\tcross_score: 0.70386\n",
      "Fit RandomForestRegressor fold 2\n",
      "\tcross_score: 0.75172\n",
      "Fit RandomForestRegressor fold 3\n",
      "\tcross_score: 0.78349\n",
      "\n",
      "Training done! Time Elapsed: 2.127944231033325  seconds.\n"
     ]
    }
   ],
   "source": [
    "# split dataset and calculate cross_score\n",
    "cross_val_model(X, y, rf_regressor_one)"
   ]
  },
  {
   "cell_type": "code",
   "execution_count": 31,
   "metadata": {},
   "outputs": [],
   "source": [
    "# 2st model Random Forest\n",
    "rf_regressor_two = RandomForestRegressor(n_estimators = 1000,\n",
    "                                         max_leaf_nodes = len(list_numerical_col)*8,\n",
    "                                         min_samples_leaf = len(list_numerical_col),\n",
    "                                         max_depth = len(list_numerical_col)*4,\n",
    "                                         n_jobs = -1,\n",
    "                                         verbose = 0)"
   ]
  },
  {
   "cell_type": "code",
   "execution_count": 32,
   "metadata": {
    "scrolled": true
   },
   "outputs": [
    {
     "name": "stdout",
     "output_type": "stream",
     "text": [
      "Begin training\n",
      "\n",
      "Fit RandomForestRegressor fold 1\n",
      "\tcross_score: 0.78663\n",
      "Fit RandomForestRegressor fold 2\n",
      "\tcross_score: 0.82629\n",
      "Fit RandomForestRegressor fold 3\n",
      "\tcross_score: 0.84985\n",
      "\n",
      "Training done! Time Elapsed: 37.89920616149902  seconds.\n"
     ]
    }
   ],
   "source": [
    "# split dataset and calculate cross_score\n",
    "cross_val_model(X, y, rf_regressor_two)"
   ]
  },
  {
   "cell_type": "markdown",
   "metadata": {},
   "source": [
    "---\n",
    "\n",
    "## Escolha do Melhor Modelo\n",
    "\n",
    "Baseado no cross_score o modelo escolhido será **random forest regressor** com os parâmetros do 2º modelo, que obteve um score > 0.84."
   ]
  },
  {
   "cell_type": "markdown",
   "metadata": {},
   "source": [
    "---\n",
    "\n",
    "#### Copyright\n",
    "<a rel=\"license\" href=\"http://creativecommons.org/licenses/by-sa/4.0/\">\n",
    "    <img alt=\"Creative Commons License\" align=\"right\" style=\"border-width:0\" src=\"https://i.creativecommons.org/l/by-sa/4.0/88x31.png\" />\n",
    "</a><br />This work by \n",
    "    <span xmlns:cc=\"http://creativecommons.org/ns#\" property=\"cc:attributionName\">Bruno A. R. M. Campos</span> is licensed under a <a rel=\"license\" href=\"http://creativecommons.org/licenses/by-sa/4.0/\">Creative Commons Attribution-ShareAlike 4.0 International License</a>."
   ]
  }
 ],
 "metadata": {
  "celltoolbar": "Raw Cell Format",
  "kernelspec": {
   "display_name": "Python 3",
   "language": "python",
   "name": "python3"
  },
  "language_info": {
   "codemirror_mode": {
    "name": "ipython",
    "version": 3
   },
   "file_extension": ".py",
   "mimetype": "text/x-python",
   "name": "python",
   "nbconvert_exporter": "python",
   "pygments_lexer": "ipython3",
   "version": "3.7.3"
  }
 },
 "nbformat": 4,
 "nbformat_minor": 2
}
