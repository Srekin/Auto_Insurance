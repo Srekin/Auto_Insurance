{
 "cells": [
  {
   "cell_type": "markdown",
   "metadata": {},
   "source": [
    "# Teste Técnico para Ciência de Dados da Keyrus"
   ]
  },
  {
   "cell_type": "markdown",
   "metadata": {},
   "source": [
    "## 1ª parte: Análise Exploratória\n",
    "\n",
    "- [x] Tipos de variáveis\n",
    "- [x] Medidas de posição\n",
    "- [x] Medidas de dispersão\n",
    "- [x] Tratamento de Missing Values\n",
    "- [x] Gráficos\n",
    "- [x] Análise de Outliers\n",
    "\n",
    "## 2ª parte: Estatística\n",
    "\n",
    "- [x] Estatística descritiva\n",
    "- [x] Identificação das distribuições das variáveis\n",
    "\n",
    "## 3ª parte: Modelagem\n",
    "\n",
    "- [x] Modelos de previsão\n",
    "- [x] Escolha de melhor modelo\n",
    "- [x] Avaliação de resultados\n",
    "- [ ] Métricas"
   ]
  },
  {
   "cell_type": "markdown",
   "metadata": {},
   "source": [
    "## Imports"
   ]
  },
  {
   "cell_type": "code",
   "execution_count": 2,
   "metadata": {},
   "outputs": [],
   "source": [
    "# Data analysis and data wrangling\n",
    "import numpy as np\n",
    "import pandas as pd\n",
    "\n",
    "# Plotting\n",
    "import seaborn as sns\n",
    "import matplotlib.pyplot as plt\n",
    "import missingno as msno # missing values\n",
    "\n",
    "# Preprocessing\n",
    "from sklearn.preprocessing import LabelEncoder\n",
    "\n",
    "# Machine Learning\n",
    "from sklearn.ensemble import RandomForestClassifier\n",
    "from sklearn.ensemble import RandomForestRegressor\n",
    "from sklearn.linear_model import LinearRegression\n",
    "\n",
    "# Metrics\n",
    "from sklearn.model_selection import KFold\n",
    "from sklearn.model_selection import StratifiedKFold\n",
    "from sklearn.model_selection import cross_val_score\n",
    "\n",
    "# Other\n",
    "from IPython.display import Image\n",
    "import warnings\n",
    "import os\n",
    "import time\n",
    "import pprint"
   ]
  },
  {
   "cell_type": "markdown",
   "metadata": {},
   "source": [
    "## Preparação do Diretório Principal"
   ]
  },
  {
   "cell_type": "code",
   "execution_count": 3,
   "metadata": {},
   "outputs": [
    {
     "name": "stdout",
     "output_type": "stream",
     "text": [
      "Current working directory:\n",
      "/home/campos/projetos/challenges/challenge-keyrus\n",
      "\n"
     ]
    }
   ],
   "source": [
    "def exit_current_directory():\n",
    "    # PATH current\n",
    "    path = os.getcwd()\n",
    "    os.chdir('..')\n",
    "    print('Current working directory:\\n{}\\n'.format(os.getcwd()))\n",
    "    \n",
    "exit_current_directory()"
   ]
  },
  {
   "cell_type": "markdown",
   "metadata": {},
   "source": [
    "## Cell Format"
   ]
  },
  {
   "cell_type": "code",
   "execution_count": 4,
   "metadata": {},
   "outputs": [],
   "source": [
    "# Guarantees visualization inside the jupyter\n",
    "%matplotlib inline\n",
    "\n",
    "# formata os dados de todas as tabelas (ponto flutuante com 2 casas)\n",
    "pd.options.display.float_format = '{:.2f}'.format\n",
    "\n",
    "\n",
    "pp = pprint.PrettyPrinter(indent=4)\n",
    "\n",
    "# parametros de config\n",
    "rc={'savefig.dpi': 75, \n",
    "    'figure.autolayout': False, \n",
    "    'figure.figsize': [17, 5], \n",
    "    'axes.labelsize': 18,\n",
    "    'axes.titlesize': 18, \n",
    "    'font.size': 10, \n",
    "    'lines.linewidth': 2.0, \n",
    "    'lines.markersize': 8, \n",
    "    'legend.fontsize': 14,\n",
    "    'xtick.labelsize': 12, \n",
    "    'ytick.labelsize': 12}\n",
    "\n",
    "# Print max 3000 rows and all columns\n",
    "pd.set_option('display.max_rows', 3000)\n",
    "pd.set_option('display.max_columns', None)\n",
    "\n",
    "# Definition color and map de colors\n",
    "default_color = '#56B4E9'\n",
    "colormap = plt.cm.cool\n",
    "\n",
    "# Single colour palettes for good and bad outcomes\n",
    "good_palette = ['#44cc44']\n",
    "bad_palette = ['#cc4444']\n",
    "# Colour palette for gender - traditional light pink (female), light blue (male)\n",
    "gender_palette = ['#B0C4DE','#FFB6C1']\n",
    "# Colour palette for ticket class - gold (first), silver (second), bronze (third)\n",
    "class_palette = ['#FFD700','#C0C0C0','#CD7F32']\n",
    "\n",
    "# Supress unnecessary warnings so that presentation looks clean\n",
    "warnings.filterwarnings('ignore')\n",
    "\n",
    "# graph style\n",
    "sns.set(style='dark',rc=rc)\n",
    "\n",
    "# OPTIONAL: Load the \"autoreload\" extension so that code can change\n",
    "%load_ext autoreload\n",
    "\n",
    "# OPTIONAL: always reload modules so that as you change code in src, it gets loaded\n",
    "%autoreload 2"
   ]
  },
  {
   "cell_type": "markdown",
   "metadata": {},
   "source": [
    "## Carregamento dos Dados"
   ]
  },
  {
   "cell_type": "code",
   "execution_count": 5,
   "metadata": {},
   "outputs": [
    {
     "name": "stdout",
     "output_type": "stream",
     "text": [
      "Tokenization took: 17.41 ms\n",
      "Type conversion took: 31.64 ms\n",
      "Parser memory cleanup took: 0.01 ms\n",
      "Tokenization took: 2.69 ms\n",
      "Type conversion took: 5.53 ms\n",
      "Parser memory cleanup took: 0.00 ms\n",
      "CPU times: user 61.1 ms, sys: 7.33 ms, total: 68.5 ms\n",
      "Wall time: 67 ms\n"
     ]
    }
   ],
   "source": [
    "%%time\n",
    "\n",
    "df_callcenter = pd.read_csv('reports/callcenter_marketing_clenning.csv', \n",
    "                            encoding='utf8',\n",
    "                            delimiter=',',\n",
    "                            verbose=True)"
   ]
  },
  {
   "cell_type": "markdown",
   "metadata": {},
   "source": [
    "OBS: carragamento em quase metade do tempo em realação a versão original do arquivo csv."
   ]
  },
  {
   "cell_type": "markdown",
   "metadata": {},
   "source": [
    "---\n",
    "\n",
    "## Variáveis Globais"
   ]
  },
  {
   "cell_type": "code",
   "execution_count": 6,
   "metadata": {},
   "outputs": [],
   "source": [
    "# Lists that will be manipulated in the data processing\n",
    "list_columns = []\n",
    "list_categorical_col = []\n",
    "list_numerical_col = []\n",
    "list_without_target_col = []"
   ]
  },
  {
   "cell_type": "code",
   "execution_count": 7,
   "metadata": {},
   "outputs": [],
   "source": [
    "def get_col(df: 'dataframe' = None,\n",
    "            type_descr: 'numpy' = np.number) -> list:\n",
    "    \"\"\"\n",
    "    Function get list columns \n",
    "    \n",
    "    Args:\n",
    "    type_descr\n",
    "        np.number, np.object -> return list with all columns\n",
    "        np.number            -> return list numerical columns \n",
    "        np.object            -> return list object columns\n",
    "    \"\"\"\n",
    "    try:\n",
    "        col = (df.describe(include=type_descr).columns)  # pandas.core.indexes.base.Index  \n",
    "    except ValueError:\n",
    "        print(f'Dataframe not contains {type_descr} columns !', end='\\n')    \n",
    "    else:\n",
    "        return col.tolist() "
   ]
  },
  {
   "cell_type": "code",
   "execution_count": 8,
   "metadata": {},
   "outputs": [],
   "source": [
    "def get_col_without_target(df: 'dataframe',\n",
    "                           list_columns: list,\n",
    "                           target_col: str) -> list:\n",
    "\n",
    "    col_target = list_columns.copy()\n",
    "    \n",
    "    col_target.remove(target_col)\n",
    "    print(type(col_target))\n",
    "    \n",
    "    \n",
    "    return col_target"
   ]
  },
  {
   "cell_type": "code",
   "execution_count": 9,
   "metadata": {
    "scrolled": true
   },
   "outputs": [
    {
     "name": "stdout",
     "output_type": "stream",
     "text": [
      "Dataframe not contains <class 'object'> columns !\n",
      "<class 'list'>\n"
     ]
    }
   ],
   "source": [
    "list_numerical_col = get_col(df=df_callcenter,\n",
    "                             type_descr=np.number)\n",
    "list_categorical_col = get_col(df=df_callcenter,\n",
    "                               type_descr=np.object)\n",
    "list_columns = get_col(df=df_callcenter,\n",
    "                       type_descr=[np.object, np.number])\n",
    "list_without_target_col = get_col_without_target(df=df_callcenter,\n",
    "                                                 list_columns=list_columns,\n",
    "                                                 target_col='resultado')"
   ]
  },
  {
   "cell_type": "markdown",
   "metadata": {},
   "source": [
    "---\n",
    "\n",
    "## Feature Importance\n",
    "Vou utilizar uma decision tree para fazer uma feature selection.<br/>\n",
    "A partir disso, vou ranquear as features mais importantes.\n",
    "\n",
    "**OBS:** não necessariamente utilizarei um modelo de random forest. Neste momento só estou usando para descobrir quais são as variáveis de maior peso no modelo."
   ]
  },
  {
   "cell_type": "code",
   "execution_count": 10,
   "metadata": {},
   "outputs": [],
   "source": [
    "def get_feature_importance_df(feature_importances,\n",
    "                              column_names, \n",
    "                              top_n=25):\n",
    "    \"\"\"\n",
    "    Get feature importance data frame.\n",
    " \n",
    "    Parameters\n",
    "    ----------\n",
    "    feature_importances : numpy ndarray\n",
    "        Feature importances computed by an ensemble \n",
    "            model like random forest or boosting\n",
    "    column_names : array-like\n",
    "        Names of the columns in the same order as feature \n",
    "            importances\n",
    "    top_n : integer\n",
    "        Number of top features\n",
    " \n",
    "    Returns\n",
    "    -------\n",
    "    df : a Pandas data frame\n",
    "    \"\"\"\n",
    "     \n",
    "    imp_dict = dict(zip(column_names, feature_importances))\n",
    "    \n",
    "    # get name features sroted\n",
    "    top_features = sorted(imp_dict, key=imp_dict.get, reverse=True)[0:top_n]\n",
    "    \n",
    "    # get values\n",
    "    top_importances = [imp_dict[feature] for feature in top_features]\n",
    "    \n",
    "    # create dataframe with feature_importance\n",
    "    df = pd.DataFrame(data={'feature': top_features, 'importance': top_importances})\n",
    "    return df"
   ]
  },
  {
   "cell_type": "code",
   "execution_count": 11,
   "metadata": {},
   "outputs": [],
   "source": [
    "# create model\n",
    "\n",
    "rf = RandomForestClassifier(n_estimators=150, # numbers tree\n",
    "                            max_depth=8,\n",
    "                            min_samples_leaf=4,\n",
    "                            max_features=0.2, # each tree utility 20% in the features\n",
    "                            n_jobs=-1,\n",
    "                            random_state=42)"
   ]
  },
  {
   "cell_type": "code",
   "execution_count": 12,
   "metadata": {
    "scrolled": true
   },
   "outputs": [
    {
     "name": "stdout",
     "output_type": "stream",
     "text": [
      "---Traing Done---\n"
     ]
    }
   ],
   "source": [
    "# trainning model\n",
    "\n",
    "rf.fit(df_callcenter[list_without_target_col], df_callcenter['resultado'])\n",
    "features = df_callcenter[list_without_target_col].columns.values\n",
    "\n",
    "print(\"---Traing Done---\")"
   ]
  },
  {
   "cell_type": "code",
   "execution_count": 13,
   "metadata": {},
   "outputs": [
    {
     "data": {
      "text/html": [
       "<div>\n",
       "<style scoped>\n",
       "    .dataframe tbody tr th:only-of-type {\n",
       "        vertical-align: middle;\n",
       "    }\n",
       "\n",
       "    .dataframe tbody tr th {\n",
       "        vertical-align: top;\n",
       "    }\n",
       "\n",
       "    .dataframe thead th {\n",
       "        text-align: right;\n",
       "    }\n",
       "</style>\n",
       "<table border=\"1\" class=\"dataframe\">\n",
       "  <thead>\n",
       "    <tr style=\"text-align: right;\">\n",
       "      <th></th>\n",
       "      <th>feature</th>\n",
       "      <th>importance</th>\n",
       "    </tr>\n",
       "  </thead>\n",
       "  <tbody>\n",
       "    <tr>\n",
       "      <th>0</th>\n",
       "      <td>duracao</td>\n",
       "      <td>0.32</td>\n",
       "    </tr>\n",
       "    <tr>\n",
       "      <th>1</th>\n",
       "      <td>euribor3m</td>\n",
       "      <td>0.16</td>\n",
       "    </tr>\n",
       "    <tr>\n",
       "      <th>2</th>\n",
       "      <td>numero_empregados</td>\n",
       "      <td>0.14</td>\n",
       "    </tr>\n",
       "    <tr>\n",
       "      <th>3</th>\n",
       "      <td>dias_ultimo_contato</td>\n",
       "      <td>0.08</td>\n",
       "    </tr>\n",
       "    <tr>\n",
       "      <th>4</th>\n",
       "      <td>campanha_anterior</td>\n",
       "      <td>0.06</td>\n",
       "    </tr>\n",
       "    <tr>\n",
       "      <th>5</th>\n",
       "      <td>indice_confianca_consumidor</td>\n",
       "      <td>0.06</td>\n",
       "    </tr>\n",
       "    <tr>\n",
       "      <th>6</th>\n",
       "      <td>indice_precos_consumidor</td>\n",
       "      <td>0.05</td>\n",
       "    </tr>\n",
       "    <tr>\n",
       "      <th>7</th>\n",
       "      <td>idade</td>\n",
       "      <td>0.03</td>\n",
       "    </tr>\n",
       "    <tr>\n",
       "      <th>8</th>\n",
       "      <td>mes</td>\n",
       "      <td>0.03</td>\n",
       "    </tr>\n",
       "    <tr>\n",
       "      <th>9</th>\n",
       "      <td>meio_contato</td>\n",
       "      <td>0.02</td>\n",
       "    </tr>\n",
       "    <tr>\n",
       "      <th>10</th>\n",
       "      <td>qtd_contatos_total</td>\n",
       "      <td>0.02</td>\n",
       "    </tr>\n",
       "    <tr>\n",
       "      <th>11</th>\n",
       "      <td>profissao</td>\n",
       "      <td>0.01</td>\n",
       "    </tr>\n",
       "    <tr>\n",
       "      <th>12</th>\n",
       "      <td>dia_da_semana</td>\n",
       "      <td>0.01</td>\n",
       "    </tr>\n",
       "    <tr>\n",
       "      <th>13</th>\n",
       "      <td>educacao</td>\n",
       "      <td>0.01</td>\n",
       "    </tr>\n",
       "    <tr>\n",
       "      <th>14</th>\n",
       "      <td>estado_civil</td>\n",
       "      <td>0.00</td>\n",
       "    </tr>\n",
       "    <tr>\n",
       "      <th>15</th>\n",
       "      <td>qtd_contatos_campanha</td>\n",
       "      <td>0.00</td>\n",
       "    </tr>\n",
       "    <tr>\n",
       "      <th>16</th>\n",
       "      <td>emprestimo_moradia</td>\n",
       "      <td>0.00</td>\n",
       "    </tr>\n",
       "    <tr>\n",
       "      <th>17</th>\n",
       "      <td>emprestimo_pessoal</td>\n",
       "      <td>0.00</td>\n",
       "    </tr>\n",
       "    <tr>\n",
       "      <th>18</th>\n",
       "      <td>inadimplente</td>\n",
       "      <td>0.00</td>\n",
       "    </tr>\n",
       "  </tbody>\n",
       "</table>\n",
       "</div>"
      ],
      "text/plain": [
       "                        feature  importance\n",
       "0                       duracao        0.32\n",
       "1                     euribor3m        0.16\n",
       "2             numero_empregados        0.14\n",
       "3           dias_ultimo_contato        0.08\n",
       "4             campanha_anterior        0.06\n",
       "5   indice_confianca_consumidor        0.06\n",
       "6      indice_precos_consumidor        0.05\n",
       "7                         idade        0.03\n",
       "8                           mes        0.03\n",
       "9                  meio_contato        0.02\n",
       "10           qtd_contatos_total        0.02\n",
       "11                    profissao        0.01\n",
       "12                dia_da_semana        0.01\n",
       "13                     educacao        0.01\n",
       "14                 estado_civil        0.00\n",
       "15        qtd_contatos_campanha        0.00\n",
       "16           emprestimo_moradia        0.00\n",
       "17           emprestimo_pessoal        0.00\n",
       "18                 inadimplente        0.00"
      ]
     },
     "metadata": {},
     "output_type": "display_data"
    }
   ],
   "source": [
    "# get trained model (rf) and avalible the feature_importance\n",
    "feature_importance = get_feature_importance_df(rf.feature_importances_, features)\n",
    "\n",
    "# print feature_importance in the rf randomForest\n",
    "display(feature_importance)"
   ]
  },
  {
   "cell_type": "code",
   "execution_count": 14,
   "metadata": {
    "scrolled": false
   },
   "outputs": [
    {
     "data": {
      "text/plain": [
       "[Text(0, 0.5, 'Importance'),\n",
       " Text(0.5, 0, \"Name's Variable\"),\n",
       " Text(0.5, 1.0, 'Variable Importances')]"
      ]
     },
     "execution_count": 14,
     "metadata": {},
     "output_type": "execute_result"
    },
    {
     "data": {
      "image/png": "[encoded data removed]",
      "text/plain": [
       "<Figure size 1440x720 with 1 Axes>"
      ]
     },
     "metadata": {},
     "output_type": "display_data"
    }
   ],
   "source": [
    "fig,ax = plt.subplots()\n",
    "plt.xticks(rotation='vertical')\n",
    "\n",
    "fig.set_size_inches(20,10)\n",
    "sns.barplot(data=feature_importance[:10], \n",
    "            x=\"feature\", \n",
    "            y=\"importance\", \n",
    "            ax=ax,\n",
    "            color=default_color)\n",
    "ax.set(xlabel=\"Name's Variable\",\n",
    "       ylabel='Importance',\n",
    "       title=\"Variable Importances\")"
   ]
  },
  {
   "cell_type": "markdown",
   "metadata": {},
   "source": [
    "## Training and Testing Dataset\n",
    "- métrica: cross score"
   ]
  },
  {
   "cell_type": "code",
   "execution_count": 15,
   "metadata": {},
   "outputs": [],
   "source": [
    "def cross_val_model(X,y, model, n_splits=3):\n",
    "    'Do split dataset and calculate cross_score'\n",
    "    print(\"Begin training\", end='\\n\\n')\n",
    "    start = time.time()\n",
    "    \n",
    "    X = np.array(X)\n",
    "    y = np.array(y)\n",
    "    folds = list(StratifiedKFold(n_splits=n_splits, shuffle=True, random_state=2017).split(X, y))\n",
    "\n",
    "    for j, (train_idx, test_idx) in enumerate(folds):\n",
    "        X_train = X[train_idx]\n",
    "        y_train = y[train_idx]\n",
    "        X_holdout = X[test_idx]\n",
    "        y_holdout = y[test_idx]\n",
    "\n",
    "        print (\"Fit %s fold %d\" % (str(model).split('(')[0], j+1))\n",
    "        model.fit(X_train, y_train)\n",
    "        cross_score = cross_val_score(model, X_holdout, y_holdout, cv=3, scoring='roc_auc')\n",
    "        print(\"\\tcross_score: %.5f\" % cross_score.mean())\n",
    "    \n",
    "    end = time.time()\n",
    "    print(\"\\nTraining done! Time Elapsed:\", end - start, \" seconds.\")"
   ]
  },
  {
   "cell_type": "code",
   "execution_count": 16,
   "metadata": {},
   "outputs": [],
   "source": [
    "# training model\n",
    "\n",
    "X = df_callcenter[list_without_target_col]\n",
    "y = df_callcenter['resultado'] # target"
   ]
  },
  {
   "cell_type": "markdown",
   "metadata": {},
   "source": [
    "---\n",
    "\n",
    "## Modelos de Previsão\n",
    "- Modelo Baseline\n",
    "- Benckmarks"
   ]
  },
  {
   "cell_type": "markdown",
   "metadata": {},
   "source": [
    "### Modelo Baseline\n",
    "- Vou começar com um baseline, sendo o mais simples possível."
   ]
  },
  {
   "cell_type": "markdown",
   "metadata": {},
   "source": [
    "#### Linear Regression"
   ]
  },
  {
   "cell_type": "code",
   "execution_count": 17,
   "metadata": {},
   "outputs": [
    {
     "data": {
      "text/plain": [
       "LinearRegression(copy_X=True, fit_intercept=True, n_jobs=None, normalize=False)"
      ]
     },
     "execution_count": 17,
     "metadata": {},
     "output_type": "execute_result"
    }
   ],
   "source": [
    "# Visualize params\n",
    "\n",
    "LinearRegression()"
   ]
  },
  {
   "cell_type": "code",
   "execution_count": 18,
   "metadata": {},
   "outputs": [],
   "source": [
    "# create model\n",
    "lr_model = LinearRegression(n_jobs=-1, normalize=False)\n",
    "\n",
    "# training model\n",
    "X = df_callcenter[list_without_target_col]\n",
    "y = df_callcenter['resultado']"
   ]
  },
  {
   "cell_type": "code",
   "execution_count": 19,
   "metadata": {},
   "outputs": [
    {
     "name": "stdout",
     "output_type": "stream",
     "text": [
      "Begin training\n",
      "\n",
      "Fit LinearRegression fold 1\n",
      "\tcross_score: 0.80264\n",
      "Fit LinearRegression fold 2\n",
      "\tcross_score: 0.82961\n",
      "Fit LinearRegression fold 3\n",
      "\tcross_score: 0.81311\n",
      "\n",
      "Training done! Time Elapsed: 0.16795086860656738  seconds.\n"
     ]
    }
   ],
   "source": [
    "# split dataset and calculate cross_score\n",
    "cross_val_model(X, y, lr_model)"
   ]
  },
  {
   "cell_type": "markdown",
   "metadata": {},
   "source": [
    "### Benckmarks"
   ]
  },
  {
   "cell_type": "markdown",
   "metadata": {},
   "source": [
    "#### RandomForest"
   ]
  },
  {
   "cell_type": "code",
   "execution_count": 20,
   "metadata": {},
   "outputs": [
    {
     "data": {
      "text/plain": [
       "RandomForestClassifier(bootstrap=True, class_weight=None, criterion='gini',\n",
       "                       max_depth=None, max_features='auto', max_leaf_nodes=None,\n",
       "                       min_impurity_decrease=0.0, min_impurity_split=None,\n",
       "                       min_samples_leaf=1, min_samples_split=2,\n",
       "                       min_weight_fraction_leaf=0.0, n_estimators='warn',\n",
       "                       n_jobs=None, oob_score=False, random_state=None,\n",
       "                       verbose=0, warm_start=False)"
      ]
     },
     "execution_count": 20,
     "metadata": {},
     "output_type": "execute_result"
    }
   ],
   "source": [
    "# Visualize params\n",
    "\n",
    "RandomForestClassifier()"
   ]
  },
  {
   "cell_type": "code",
   "execution_count": 21,
   "metadata": {},
   "outputs": [],
   "source": [
    "# RandomForest params dict\n",
    "rf_params_one = {}\n",
    "\n",
    "rf_params_one['n_estimators'] = 10\n",
    "rf_params_one['max_depth'] = 10\n",
    "rf_params_one['min_samples_split'] = 10\n",
    "rf_params_one['min_samples_leaf'] = 10 # end tree necessary 30 leaf\n",
    "rf_params_one['n_jobs'] = -1 # run all process"
   ]
  },
  {
   "cell_type": "code",
   "execution_count": 22,
   "metadata": {},
   "outputs": [],
   "source": [
    "# create model\n",
    "rf_model_one = RandomForestClassifier(**rf_params_one)\n",
    "\n",
    "# training model\n",
    "X = df_callcenter[list_without_target_col]\n",
    "y = df_callcenter['resultado']"
   ]
  },
  {
   "cell_type": "code",
   "execution_count": 23,
   "metadata": {
    "scrolled": true
   },
   "outputs": [
    {
     "name": "stdout",
     "output_type": "stream",
     "text": [
      "Begin training\n",
      "\n",
      "Fit RandomForestClassifier fold 1\n",
      "\tcross_score: 0.25745\n",
      "Fit RandomForestClassifier fold 2\n",
      "\tcross_score: 0.24808\n",
      "Fit RandomForestClassifier fold 3\n",
      "\tcross_score: 0.27753\n",
      "\n",
      "Training done! Time Elapsed: 2.6185479164123535  seconds.\n"
     ]
    }
   ],
   "source": [
    "# split dataset and calculate cross_score\n",
    "cross_val_model(X, y, rf_model_one)"
   ]
  },
  {
   "cell_type": "code",
   "execution_count": 24,
   "metadata": {},
   "outputs": [],
   "source": [
    "# RandomForest params dict\n",
    "rf_params_two = {}\n",
    "\n",
    "rf_params_two['n_estimators'] = 1\n",
    "rf_params_two['max_depth'] = 2\n",
    "rf_params_two['min_samples_split'] = 2\n",
    "rf_params_two['min_samples_leaf'] = 18 # end tree necessary 30 leaf\n",
    "rf_params_two['n_jobs'] = -1 # run all process"
   ]
  },
  {
   "cell_type": "code",
   "execution_count": 25,
   "metadata": {},
   "outputs": [],
   "source": [
    "# create model\n",
    "rf_model = RandomForestClassifier(**rf_params_two)\n",
    "\n",
    "# training model\n",
    "X = df_callcenter[list_without_target_col]\n",
    "y = df_callcenter['resultado']"
   ]
  },
  {
   "cell_type": "code",
   "execution_count": 27,
   "metadata": {},
   "outputs": [
    {
     "name": "stdout",
     "output_type": "stream",
     "text": [
      "Begin training\n",
      "\n",
      "Fit RandomForestClassifier fold 1\n",
      "\tcross_score: 0.53090\n",
      "Fit RandomForestClassifier fold 2\n",
      "\tcross_score: 0.60888\n",
      "Fit RandomForestClassifier fold 3\n",
      "\tcross_score: 0.35173\n",
      "\n",
      "Training done! Time Elapsed: 0.47402286529541016  seconds.\n"
     ]
    }
   ],
   "source": [
    "# split dataset and calculate cross_score\n",
    "cross_val_model(X, y, rf_model)"
   ]
  },
  {
   "cell_type": "markdown",
   "metadata": {},
   "source": [
    "#### Random Forest Regressor"
   ]
  },
  {
   "cell_type": "code",
   "execution_count": 31,
   "metadata": {},
   "outputs": [
    {
     "data": {
      "text/plain": [
       "RandomForestRegressor(bootstrap=True, criterion='mse', max_depth=None,\n",
       "                      max_features='auto', max_leaf_nodes=None,\n",
       "                      min_impurity_decrease=0.0, min_impurity_split=None,\n",
       "                      min_samples_leaf=1, min_samples_split=2,\n",
       "                      min_weight_fraction_leaf=0.0, n_estimators='warn',\n",
       "                      n_jobs=None, oob_score=False, random_state=None,\n",
       "                      verbose=0, warm_start=False)"
      ]
     },
     "execution_count": 31,
     "metadata": {},
     "output_type": "execute_result"
    }
   ],
   "source": [
    "# Visualize params\n",
    "\n",
    "RandomForestRegressor()"
   ]
  },
  {
   "cell_type": "code",
   "execution_count": 32,
   "metadata": {},
   "outputs": [],
   "source": [
    "# 1st model Random Forest\n",
    "rf_regressor_one = RandomForestRegressor(n_estimators = 1, \n",
    "                                         n_jobs = -1,\n",
    "                                         verbose = 0, \n",
    "                                         max_depth = 10)"
   ]
  },
  {
   "cell_type": "code",
   "execution_count": 33,
   "metadata": {
    "scrolled": true
   },
   "outputs": [
    {
     "name": "stdout",
     "output_type": "stream",
     "text": [
      "Begin training\n",
      "\n",
      "Fit RandomForestRegressor fold 1\n",
      "\tcross_score: 0.63608\n",
      "Fit RandomForestRegressor fold 2\n",
      "\tcross_score: 0.65961\n",
      "Fit RandomForestRegressor fold 3\n",
      "\tcross_score: 0.69218\n",
      "\n",
      "Training done! Time Elapsed: 0.5538980960845947  seconds.\n"
     ]
    }
   ],
   "source": [
    "# split dataset and calculate cross_score\n",
    "cross_val_model(X, y, rf_regressor_one)"
   ]
  },
  {
   "cell_type": "code",
   "execution_count": 45,
   "metadata": {},
   "outputs": [],
   "source": [
    "# 2st model Random Forest\n",
    "rf_regressor_two = RandomForestRegressor(n_estimators = 500, \n",
    "                                         n_jobs = -1,\n",
    "                                         verbose = 0, \n",
    "                                         max_depth = 10)"
   ]
  },
  {
   "cell_type": "code",
   "execution_count": 46,
   "metadata": {},
   "outputs": [
    {
     "name": "stdout",
     "output_type": "stream",
     "text": [
      "Begin training\n",
      "\n",
      "Fit RandomForestRegressor fold 1\n",
      "\tcross_score: 0.72450\n",
      "Fit RandomForestRegressor fold 2\n",
      "\tcross_score: 0.80444\n",
      "Fit RandomForestRegressor fold 3\n",
      "\tcross_score: 0.84793\n",
      "\n",
      "Training done! Time Elapsed: 28.019280433654785  seconds.\n"
     ]
    }
   ],
   "source": [
    "# split dataset and calculate cross_score\n",
    "cross_val_model(X, y, rf_regressor_two)"
   ]
  },
  {
   "cell_type": "markdown",
   "metadata": {},
   "source": [
    "---\n",
    "\n",
    "## Escolha do Melhor Modelo\n",
    "\n",
    "Baseado no cross_score o modelo escolhido será **random forest regressor** com os parâmetros do 2º modelo, que obteve um score > 0.84."
   ]
  }
 ],
 "metadata": {
  "kernelspec": {
   "display_name": "Python 3",
   "language": "python",
   "name": "python3"
  },
  "language_info": {
   "codemirror_mode": {
    "name": "ipython",
    "version": 3
   },
   "file_extension": ".py",
   "mimetype": "text/x-python",
   "name": "python",
   "nbconvert_exporter": "python",
   "pygments_lexer": "ipython3",
   "version": "3.7.3"
  }
 },
 "nbformat": 4,
 "nbformat_minor": 2
}
